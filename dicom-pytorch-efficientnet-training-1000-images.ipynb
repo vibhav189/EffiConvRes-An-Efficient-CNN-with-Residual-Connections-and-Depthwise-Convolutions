{
 "cells": [
  {
   "cell_type": "code",
   "execution_count": 1,
   "id": "c8744673",
   "metadata": {
    "execution": {
     "iopub.execute_input": "2022-11-29T11:35:36.472611Z",
     "iopub.status.busy": "2022-11-29T11:35:36.471521Z",
     "iopub.status.idle": "2022-11-29T11:36:10.226419Z",
     "shell.execute_reply": "2022-11-29T11:36:10.225232Z"
    },
    "papermill": {
     "duration": 33.764404,
     "end_time": "2022-11-29T11:36:10.229404",
     "exception": false,
     "start_time": "2022-11-29T11:35:36.465000",
     "status": "completed"
    },
    "tags": []
   },
   "outputs": [
    {
     "name": "stdout",
     "output_type": "stream",
     "text": [
      "\u001b[33mWARNING: Running pip as the 'root' user can result in broken permissions and conflicting behaviour with the system package manager. It is recommended to use a virtual environment instead: https://pip.pypa.io/warnings/venv\u001b[0m\u001b[33m\r\n",
      "\u001b[0m\u001b[33mWARNING: Running pip as the 'root' user can result in broken permissions and conflicting behaviour with the system package manager. It is recommended to use a virtual environment instead: https://pip.pypa.io/warnings/venv\u001b[0m\u001b[33m\r\n",
      "\u001b[0m\u001b[33mWARNING: Running pip as the 'root' user can result in broken permissions and conflicting behaviour with the system package manager. It is recommended to use a virtual environment instead: https://pip.pypa.io/warnings/venv\u001b[0m\u001b[33m\r\n",
      "\u001b[0m"
     ]
    }
   ],
   "source": [
    "!pip install timm -q\n",
    "!pip install python-gdcm -q\n",
    "!pip install pylibjpeg -q"
   ]
  },
  {
   "cell_type": "code",
   "execution_count": 2,
   "id": "b147e35d",
   "metadata": {
    "execution": {
     "iopub.execute_input": "2022-11-29T11:36:10.239531Z",
     "iopub.status.busy": "2022-11-29T11:36:10.239203Z",
     "iopub.status.idle": "2022-11-29T11:36:16.085993Z",
     "shell.execute_reply": "2022-11-29T11:36:16.084944Z"
    },
    "papermill": {
     "duration": 5.854693,
     "end_time": "2022-11-29T11:36:16.088560",
     "exception": false,
     "start_time": "2022-11-29T11:36:10.233867",
     "status": "completed"
    },
    "tags": []
   },
   "outputs": [],
   "source": [
    "import os\n",
    "import cv2\n",
    "import glob\n",
    "\n",
    "import cv2\n",
    "import numpy as np\n",
    "import pandas as pd\n",
    "\n",
    "from path import Path\n",
    "from tqdm import tqdm\n",
    "import pydicom as dicom\n",
    "\n",
    "import matplotlib.pyplot as plt\n",
    "from tqdm import tqdm, trange\n",
    "from sklearn.model_selection import train_test_split\n",
    "\n",
    "import torch\n",
    "from torch import nn\n",
    "from torch.utils.data import Dataset, DataLoader\n",
    "from torchvision import transforms, models"
   ]
  },
  {
   "cell_type": "markdown",
   "id": "82cc4d84",
   "metadata": {
    "papermill": {
     "duration": 0.00377,
     "end_time": "2022-11-29T11:36:16.096924",
     "exception": false,
     "start_time": "2022-11-29T11:36:16.093154",
     "status": "completed"
    },
    "tags": []
   },
   "source": [
    "# Reading Dicom Images"
   ]
  },
  {
   "cell_type": "code",
   "execution_count": 3,
   "id": "641884b6",
   "metadata": {
    "_cell_guid": "b1076dfc-b9ad-4769-8c92-a6c4dae69d19",
    "_uuid": "8f2839f25d086af736a60e9eeb907d3b93b6e0e5",
    "execution": {
     "iopub.execute_input": "2022-11-29T11:36:16.107392Z",
     "iopub.status.busy": "2022-11-29T11:36:16.106151Z",
     "iopub.status.idle": "2022-11-29T11:36:16.425662Z",
     "shell.execute_reply": "2022-11-29T11:36:16.424596Z"
    },
    "papermill": {
     "duration": 0.327491,
     "end_time": "2022-11-29T11:36:16.428462",
     "exception": false,
     "start_time": "2022-11-29T11:36:16.100971",
     "status": "completed"
    },
    "tags": []
   },
   "outputs": [],
   "source": [
    "def load_dicom(path):\n",
    "    img=dicom.dcmread(path)\n",
    "    data=img.pixel_array       \n",
    "    return data\n",
    "\n",
    "def listdirs(folder):\n",
    "    return [d for d in os.listdir(folder) if os.path.isdir(os.path.join(folder, d))]    \n",
    "\n",
    "train_dir = '/kaggle/input/rsna-breast-cancer-detection/train_images'\n",
    "test_dir = '/kaggle/input/rsna-breast-cancer-detection/test_images'\n",
    "patients = sorted(os.listdir(train_dir))"
   ]
  },
  {
   "cell_type": "code",
   "execution_count": 4,
   "id": "2603ab3b",
   "metadata": {
    "execution": {
     "iopub.execute_input": "2022-11-29T11:36:16.438288Z",
     "iopub.status.busy": "2022-11-29T11:36:16.437969Z",
     "iopub.status.idle": "2022-11-29T11:36:19.703879Z",
     "shell.execute_reply": "2022-11-29T11:36:19.702997Z"
    },
    "papermill": {
     "duration": 3.273153,
     "end_time": "2022-11-29T11:36:19.705995",
     "exception": false,
     "start_time": "2022-11-29T11:36:16.432842",
     "status": "completed"
    },
    "tags": []
   },
   "outputs": [
    {
     "name": "stdout",
     "output_type": "stream",
     "text": [
      "Dataset.file_meta -------------------------------\n",
      "(0002, 0001) File Meta Information Version       OB: b'\\x00\\x01'\n",
      "(0002, 0002) Media Storage SOP Class UID         UI: Digital X-Ray Image Storage - For Presentation\n",
      "(0002, 0003) Media Storage SOP Instance UID      UI: 1.2.840.10009.1.2.3.10006.1.1874946579\n",
      "(0002, 0010) Transfer Syntax UID                 UI: JPEG 2000 Image Compression (Lossless Only)\n",
      "(0002, 0012) Implementation Class UID            UI: 1.2.840.113654.2.3.1995.2.12.0\n",
      "(0002, 0013) Implementation Version Name         SH: 'PYDICOM 2.3.0'\n",
      "-------------------------------------------------\n",
      "(0008, 0018) SOP Instance UID                    UI: 1.2.840.10009.1.2.3.10006.1.1874946579\n",
      "(0008, 0023) Content Date                        DA: '20221118'\n",
      "(0008, 0033) Content Time                        TM: '183902.142082'\n",
      "(0010, 0020) Patient ID                          LO: '10006'\n",
      "(0020, 000d) Study Instance UID                  UI: 1.2.840.10009.1.2.3.10006\n",
      "(0020, 000e) Series Instance UID                 UI: 1.2.840.10009.1.2.3.10006.1\n",
      "(0020, 0013) Instance Number                     IS: '1874946579'\n",
      "(0020, 0062) Image Laterality                    CS: 'R'\n",
      "(0028, 0002) Samples per Pixel                   US: 1\n",
      "(0028, 0004) Photometric Interpretation          CS: 'MONOCHROME1'\n",
      "(0028, 0010) Rows                                US: 5355\n",
      "(0028, 0011) Columns                             US: 4915\n",
      "(0028, 0100) Bits Allocated                      US: 16\n",
      "(0028, 0101) Bits Stored                         US: 16\n",
      "(0028, 0102) High Bit                            US: 15\n",
      "(0028, 0103) Pixel Representation                US: 0\n",
      "(0028, 0120) Pixel Padding Value                 US: 3044\n",
      "(0028, 1040) Pixel Intensity Relationship        CS: 'LOG'\n",
      "(0028, 1041) Pixel Intensity Relationship Sign   SS: 1\n",
      "(0028, 1050) Window Center                       DS: [1802.310000, 1802.310000, 2020.704000, 1583.916000]\n",
      "(0028, 1051) Window Width                        DS: [1091.970000, 1091.970000, 1091.970000, 1091.970000]\n",
      "(0028, 1052) Rescale Intercept                   DS: '0.0'\n",
      "(0028, 1053) Rescale Slope                       DS: '1.0'\n",
      "(0028, 1054) Rescale Type                        LO: 'US'\n",
      "(0028, 1056) VOI LUT Function                    CS: 'SIGMOID'\n",
      "(0028, 1350) Partial View                        CS: 'NO'\n",
      "(0028, 2110) Lossy Image Compression             CS: '00'\n",
      "(7fe0, 0010) Pixel Data                          OW: Array of 2372022 elements\n"
     ]
    },
    {
     "data": {
      "image/png": "[encoded data removed]",
      "text/plain": [
       "<Figure size 432x288 with 1 Axes>"
      ]
     },
     "metadata": {
      "needs_background": "light"
     },
     "output_type": "display_data"
    }
   ],
   "source": [
    "ds = dicom.dcmread(\"/kaggle/input/rsna-breast-cancer-detection/train_images/10006/1874946579.dcm\")\n",
    "plt.imshow(ds.pixel_array, cmap='gray')\n",
    "# MetaData\n",
    "print(ds)"
   ]
  },
  {
   "cell_type": "code",
   "execution_count": 5,
   "id": "cb5b0b96",
   "metadata": {
    "execution": {
     "iopub.execute_input": "2022-11-29T11:36:19.716144Z",
     "iopub.status.busy": "2022-11-29T11:36:19.715843Z",
     "iopub.status.idle": "2022-11-29T11:36:22.545520Z",
     "shell.execute_reply": "2022-11-29T11:36:22.544517Z"
    },
    "papermill": {
     "duration": 2.837116,
     "end_time": "2022-11-29T11:36:22.547650",
     "exception": false,
     "start_time": "2022-11-29T11:36:19.710534",
     "status": "completed"
    },
    "tags": []
   },
   "outputs": [
    {
     "data": {
      "image/png": "[encoded data removed]",
      "text/plain": [
       "<Figure size 432x288 with 4 Axes>"
      ]
     },
     "metadata": {
      "needs_background": "light"
     },
     "output_type": "display_data"
    }
   ],
   "source": [
    "image_file = glob.glob(\"/kaggle/input/rsna-breast-cancer-detection/train_images/10011/*.dcm\")\n",
    "for i in range(4):\n",
    "    ax = plt.subplot(2, 2, i + 1)\n",
    "    image_path = image_file[i]\n",
    "    image = load_dicom(image_path)\n",
    "    plt.axis('off')   \n",
    "    plt.imshow(image, cmap='gray')"
   ]
  },
  {
   "cell_type": "markdown",
   "id": "844cd746",
   "metadata": {
    "papermill": {
     "duration": 0.00485,
     "end_time": "2022-11-29T11:36:22.557638",
     "exception": false,
     "start_time": "2022-11-29T11:36:22.552788",
     "status": "completed"
    },
    "tags": []
   },
   "source": [
    "# Train CSV"
   ]
  },
  {
   "cell_type": "code",
   "execution_count": 6,
   "id": "b646fde7",
   "metadata": {
    "execution": {
     "iopub.execute_input": "2022-11-29T11:36:22.569691Z",
     "iopub.status.busy": "2022-11-29T11:36:22.568014Z",
     "iopub.status.idle": "2022-11-29T11:36:22.753177Z",
     "shell.execute_reply": "2022-11-29T11:36:22.752122Z"
    },
    "papermill": {
     "duration": 0.192999,
     "end_time": "2022-11-29T11:36:22.755328",
     "exception": false,
     "start_time": "2022-11-29T11:36:22.562329",
     "status": "completed"
    },
    "tags": []
   },
   "outputs": [
    {
     "data": {
      "text/html": [
       "<style type=\"text/css\">\n",
       "#T_02f07_row0_col0, #T_02f07_row0_col1, #T_02f07_row0_col6, #T_02f07_row0_col7, #T_02f07_row0_col8, #T_02f07_row0_col9, #T_02f07_row0_col10, #T_02f07_row1_col0, #T_02f07_row1_col1, #T_02f07_row1_col6, #T_02f07_row1_col7, #T_02f07_row1_col8, #T_02f07_row1_col9, #T_02f07_row1_col10, #T_02f07_row2_col0, #T_02f07_row2_col1, #T_02f07_row2_col6, #T_02f07_row2_col7, #T_02f07_row2_col8, #T_02f07_row2_col9, #T_02f07_row2_col10, #T_02f07_row3_col0, #T_02f07_row3_col1, #T_02f07_row3_col6, #T_02f07_row3_col7, #T_02f07_row3_col8, #T_02f07_row3_col9, #T_02f07_row3_col10, #T_02f07_row4_col0, #T_02f07_row4_col2, #T_02f07_row4_col5, #T_02f07_row4_col6, #T_02f07_row4_col7, #T_02f07_row4_col8, #T_02f07_row4_col9, #T_02f07_row4_col10, #T_02f07_row4_col12 {\n",
       "  background-color: #7fc97f;\n",
       "  color: #000000;\n",
       "}\n",
       "#T_02f07_row0_col2 {\n",
       "  background-color: #beaed4;\n",
       "  color: #000000;\n",
       "}\n",
       "#T_02f07_row0_col5, #T_02f07_row0_col12, #T_02f07_row1_col5, #T_02f07_row1_col12, #T_02f07_row2_col2, #T_02f07_row2_col5, #T_02f07_row2_col12, #T_02f07_row3_col2, #T_02f07_row3_col5, #T_02f07_row3_col12, #T_02f07_row4_col1 {\n",
       "  background-color: #666666;\n",
       "  color: #f1f1f1;\n",
       "}\n",
       "#T_02f07_row1_col2 {\n",
       "  background-color: #f0027f;\n",
       "  color: #f1f1f1;\n",
       "}\n",
       "</style>\n",
       "<table id=\"T_02f07_\">\n",
       "  <thead>\n",
       "    <tr>\n",
       "      <th class=\"blank level0\" >&nbsp;</th>\n",
       "      <th class=\"col_heading level0 col0\" >site_id</th>\n",
       "      <th class=\"col_heading level0 col1\" >patient_id</th>\n",
       "      <th class=\"col_heading level0 col2\" >image_id</th>\n",
       "      <th class=\"col_heading level0 col3\" >laterality</th>\n",
       "      <th class=\"col_heading level0 col4\" >view</th>\n",
       "      <th class=\"col_heading level0 col5\" >age</th>\n",
       "      <th class=\"col_heading level0 col6\" >cancer</th>\n",
       "      <th class=\"col_heading level0 col7\" >biopsy</th>\n",
       "      <th class=\"col_heading level0 col8\" >invasive</th>\n",
       "      <th class=\"col_heading level0 col9\" >BIRADS</th>\n",
       "      <th class=\"col_heading level0 col10\" >implant</th>\n",
       "      <th class=\"col_heading level0 col11\" >density</th>\n",
       "      <th class=\"col_heading level0 col12\" >machine_id</th>\n",
       "      <th class=\"col_heading level0 col13\" >difficult_negative_case</th>\n",
       "    </tr>\n",
       "  </thead>\n",
       "  <tbody>\n",
       "    <tr>\n",
       "      <th id=\"T_02f07_level0_row0\" class=\"row_heading level0 row0\" >0</th>\n",
       "      <td id=\"T_02f07_row0_col0\" class=\"data row0 col0\" >2</td>\n",
       "      <td id=\"T_02f07_row0_col1\" class=\"data row0 col1\" >10006</td>\n",
       "      <td id=\"T_02f07_row0_col2\" class=\"data row0 col2\" >462822612</td>\n",
       "      <td id=\"T_02f07_row0_col3\" class=\"data row0 col3\" >L</td>\n",
       "      <td id=\"T_02f07_row0_col4\" class=\"data row0 col4\" >CC</td>\n",
       "      <td id=\"T_02f07_row0_col5\" class=\"data row0 col5\" >61.000000</td>\n",
       "      <td id=\"T_02f07_row0_col6\" class=\"data row0 col6\" >0</td>\n",
       "      <td id=\"T_02f07_row0_col7\" class=\"data row0 col7\" >0</td>\n",
       "      <td id=\"T_02f07_row0_col8\" class=\"data row0 col8\" >0</td>\n",
       "      <td id=\"T_02f07_row0_col9\" class=\"data row0 col9\" >nan</td>\n",
       "      <td id=\"T_02f07_row0_col10\" class=\"data row0 col10\" >0</td>\n",
       "      <td id=\"T_02f07_row0_col11\" class=\"data row0 col11\" >nan</td>\n",
       "      <td id=\"T_02f07_row0_col12\" class=\"data row0 col12\" >29</td>\n",
       "      <td id=\"T_02f07_row0_col13\" class=\"data row0 col13\" >False</td>\n",
       "    </tr>\n",
       "    <tr>\n",
       "      <th id=\"T_02f07_level0_row1\" class=\"row_heading level0 row1\" >1</th>\n",
       "      <td id=\"T_02f07_row1_col0\" class=\"data row1 col0\" >2</td>\n",
       "      <td id=\"T_02f07_row1_col1\" class=\"data row1 col1\" >10006</td>\n",
       "      <td id=\"T_02f07_row1_col2\" class=\"data row1 col2\" >1459541791</td>\n",
       "      <td id=\"T_02f07_row1_col3\" class=\"data row1 col3\" >L</td>\n",
       "      <td id=\"T_02f07_row1_col4\" class=\"data row1 col4\" >MLO</td>\n",
       "      <td id=\"T_02f07_row1_col5\" class=\"data row1 col5\" >61.000000</td>\n",
       "      <td id=\"T_02f07_row1_col6\" class=\"data row1 col6\" >0</td>\n",
       "      <td id=\"T_02f07_row1_col7\" class=\"data row1 col7\" >0</td>\n",
       "      <td id=\"T_02f07_row1_col8\" class=\"data row1 col8\" >0</td>\n",
       "      <td id=\"T_02f07_row1_col9\" class=\"data row1 col9\" >nan</td>\n",
       "      <td id=\"T_02f07_row1_col10\" class=\"data row1 col10\" >0</td>\n",
       "      <td id=\"T_02f07_row1_col11\" class=\"data row1 col11\" >nan</td>\n",
       "      <td id=\"T_02f07_row1_col12\" class=\"data row1 col12\" >29</td>\n",
       "      <td id=\"T_02f07_row1_col13\" class=\"data row1 col13\" >False</td>\n",
       "    </tr>\n",
       "    <tr>\n",
       "      <th id=\"T_02f07_level0_row2\" class=\"row_heading level0 row2\" >2</th>\n",
       "      <td id=\"T_02f07_row2_col0\" class=\"data row2 col0\" >2</td>\n",
       "      <td id=\"T_02f07_row2_col1\" class=\"data row2 col1\" >10006</td>\n",
       "      <td id=\"T_02f07_row2_col2\" class=\"data row2 col2\" >1864590858</td>\n",
       "      <td id=\"T_02f07_row2_col3\" class=\"data row2 col3\" >R</td>\n",
       "      <td id=\"T_02f07_row2_col4\" class=\"data row2 col4\" >MLO</td>\n",
       "      <td id=\"T_02f07_row2_col5\" class=\"data row2 col5\" >61.000000</td>\n",
       "      <td id=\"T_02f07_row2_col6\" class=\"data row2 col6\" >0</td>\n",
       "      <td id=\"T_02f07_row2_col7\" class=\"data row2 col7\" >0</td>\n",
       "      <td id=\"T_02f07_row2_col8\" class=\"data row2 col8\" >0</td>\n",
       "      <td id=\"T_02f07_row2_col9\" class=\"data row2 col9\" >nan</td>\n",
       "      <td id=\"T_02f07_row2_col10\" class=\"data row2 col10\" >0</td>\n",
       "      <td id=\"T_02f07_row2_col11\" class=\"data row2 col11\" >nan</td>\n",
       "      <td id=\"T_02f07_row2_col12\" class=\"data row2 col12\" >29</td>\n",
       "      <td id=\"T_02f07_row2_col13\" class=\"data row2 col13\" >False</td>\n",
       "    </tr>\n",
       "    <tr>\n",
       "      <th id=\"T_02f07_level0_row3\" class=\"row_heading level0 row3\" >3</th>\n",
       "      <td id=\"T_02f07_row3_col0\" class=\"data row3 col0\" >2</td>\n",
       "      <td id=\"T_02f07_row3_col1\" class=\"data row3 col1\" >10006</td>\n",
       "      <td id=\"T_02f07_row3_col2\" class=\"data row3 col2\" >1874946579</td>\n",
       "      <td id=\"T_02f07_row3_col3\" class=\"data row3 col3\" >R</td>\n",
       "      <td id=\"T_02f07_row3_col4\" class=\"data row3 col4\" >CC</td>\n",
       "      <td id=\"T_02f07_row3_col5\" class=\"data row3 col5\" >61.000000</td>\n",
       "      <td id=\"T_02f07_row3_col6\" class=\"data row3 col6\" >0</td>\n",
       "      <td id=\"T_02f07_row3_col7\" class=\"data row3 col7\" >0</td>\n",
       "      <td id=\"T_02f07_row3_col8\" class=\"data row3 col8\" >0</td>\n",
       "      <td id=\"T_02f07_row3_col9\" class=\"data row3 col9\" >nan</td>\n",
       "      <td id=\"T_02f07_row3_col10\" class=\"data row3 col10\" >0</td>\n",
       "      <td id=\"T_02f07_row3_col11\" class=\"data row3 col11\" >nan</td>\n",
       "      <td id=\"T_02f07_row3_col12\" class=\"data row3 col12\" >29</td>\n",
       "      <td id=\"T_02f07_row3_col13\" class=\"data row3 col13\" >False</td>\n",
       "    </tr>\n",
       "    <tr>\n",
       "      <th id=\"T_02f07_level0_row4\" class=\"row_heading level0 row4\" >4</th>\n",
       "      <td id=\"T_02f07_row4_col0\" class=\"data row4 col0\" >2</td>\n",
       "      <td id=\"T_02f07_row4_col1\" class=\"data row4 col1\" >10011</td>\n",
       "      <td id=\"T_02f07_row4_col2\" class=\"data row4 col2\" >220375232</td>\n",
       "      <td id=\"T_02f07_row4_col3\" class=\"data row4 col3\" >L</td>\n",
       "      <td id=\"T_02f07_row4_col4\" class=\"data row4 col4\" >CC</td>\n",
       "      <td id=\"T_02f07_row4_col5\" class=\"data row4 col5\" >55.000000</td>\n",
       "      <td id=\"T_02f07_row4_col6\" class=\"data row4 col6\" >0</td>\n",
       "      <td id=\"T_02f07_row4_col7\" class=\"data row4 col7\" >0</td>\n",
       "      <td id=\"T_02f07_row4_col8\" class=\"data row4 col8\" >0</td>\n",
       "      <td id=\"T_02f07_row4_col9\" class=\"data row4 col9\" >0.000000</td>\n",
       "      <td id=\"T_02f07_row4_col10\" class=\"data row4 col10\" >0</td>\n",
       "      <td id=\"T_02f07_row4_col11\" class=\"data row4 col11\" >nan</td>\n",
       "      <td id=\"T_02f07_row4_col12\" class=\"data row4 col12\" >21</td>\n",
       "      <td id=\"T_02f07_row4_col13\" class=\"data row4 col13\" >True</td>\n",
       "    </tr>\n",
       "  </tbody>\n",
       "</table>\n"
      ],
      "text/plain": [
       "<pandas.io.formats.style.Styler at 0x7f1453e99710>"
      ]
     },
     "execution_count": 6,
     "metadata": {},
     "output_type": "execute_result"
    }
   ],
   "source": [
    "df = pd.read_csv(\"/kaggle/input/rsna-breast-cancer-detection/train.csv\")\n",
    "df.head().style.background_gradient(cmap=\"Accent\")"
   ]
  },
  {
   "cell_type": "markdown",
   "id": "545c4807",
   "metadata": {
    "papermill": {
     "duration": 0.00482,
     "end_time": "2022-11-29T11:36:22.765741",
     "exception": false,
     "start_time": "2022-11-29T11:36:22.760921",
     "status": "completed"
    },
    "tags": []
   },
   "source": [
    "## Missing Values\n"
   ]
  },
  {
   "cell_type": "code",
   "execution_count": 7,
   "id": "8efa8aea",
   "metadata": {
    "execution": {
     "iopub.execute_input": "2022-11-29T11:36:22.776920Z",
     "iopub.status.busy": "2022-11-29T11:36:22.776279Z",
     "iopub.status.idle": "2022-11-29T11:36:22.805490Z",
     "shell.execute_reply": "2022-11-29T11:36:22.804444Z"
    },
    "papermill": {
     "duration": 0.037059,
     "end_time": "2022-11-29T11:36:22.807603",
     "exception": false,
     "start_time": "2022-11-29T11:36:22.770544",
     "status": "completed"
    },
    "tags": []
   },
   "outputs": [
    {
     "data": {
      "text/html": [
       "<style type=\"text/css\">\n",
       "#T_427f5_row0_col0 {\n",
       "  background-color: #fbb4ae;\n",
       "  color: #000000;\n",
       "}\n",
       "#T_427f5_row1_col0 {\n",
       "  background-color: #f2f2f2;\n",
       "  color: #000000;\n",
       "}\n",
       "#T_427f5_row2_col0 {\n",
       "  background-color: #fddaec;\n",
       "  color: #000000;\n",
       "}\n",
       "</style>\n",
       "<table id=\"T_427f5_\">\n",
       "  <thead>\n",
       "    <tr>\n",
       "      <th class=\"blank level0\" >&nbsp;</th>\n",
       "      <th class=\"col_heading level0 col0\" >Null Values Count</th>\n",
       "    </tr>\n",
       "  </thead>\n",
       "  <tbody>\n",
       "    <tr>\n",
       "      <th id=\"T_427f5_level0_row0\" class=\"row_heading level0 row0\" >age</th>\n",
       "      <td id=\"T_427f5_row0_col0\" class=\"data row0 col0\" >37</td>\n",
       "    </tr>\n",
       "    <tr>\n",
       "      <th id=\"T_427f5_level0_row1\" class=\"row_heading level0 row1\" >BIRADS</th>\n",
       "      <td id=\"T_427f5_row1_col0\" class=\"data row1 col0\" >28420</td>\n",
       "    </tr>\n",
       "    <tr>\n",
       "      <th id=\"T_427f5_level0_row2\" class=\"row_heading level0 row2\" >density</th>\n",
       "      <td id=\"T_427f5_row2_col0\" class=\"data row2 col0\" >25236</td>\n",
       "    </tr>\n",
       "  </tbody>\n",
       "</table>\n"
      ],
      "text/plain": [
       "<pandas.io.formats.style.Styler at 0x7f1453e04fd0>"
      ]
     },
     "execution_count": 7,
     "metadata": {},
     "output_type": "execute_result"
    }
   ],
   "source": [
    "missing_columns = [col for col in df.columns if df[col].isnull().any()]\n",
    "missingvalues_count = df.isna().sum()\n",
    "missingValues_df = pd.DataFrame(missingvalues_count.rename('Null Values Count')).loc[missingvalues_count.ne(0)]\n",
    "missingValues_df .style.background_gradient(cmap=\"Pastel1\")"
   ]
  },
  {
   "cell_type": "code",
   "execution_count": 8,
   "id": "2c11f19e",
   "metadata": {
    "execution": {
     "iopub.execute_input": "2022-11-29T11:36:22.818716Z",
     "iopub.status.busy": "2022-11-29T11:36:22.818446Z",
     "iopub.status.idle": "2022-11-29T11:36:22.826064Z",
     "shell.execute_reply": "2022-11-29T11:36:22.825142Z"
    },
    "papermill": {
     "duration": 0.015606,
     "end_time": "2022-11-29T11:36:22.828271",
     "exception": false,
     "start_time": "2022-11-29T11:36:22.812665",
     "status": "completed"
    },
    "tags": []
   },
   "outputs": [
    {
     "data": {
      "text/plain": [
       "0    53548\n",
       "1     1158\n",
       "Name: cancer, dtype: int64"
      ]
     },
     "execution_count": 8,
     "metadata": {},
     "output_type": "execute_result"
    }
   ],
   "source": [
    "df['cancer'].value_counts()"
   ]
  },
  {
   "cell_type": "code",
   "execution_count": 9,
   "id": "bd5c8b37",
   "metadata": {
    "execution": {
     "iopub.execute_input": "2022-11-29T11:36:22.840334Z",
     "iopub.status.busy": "2022-11-29T11:36:22.840028Z",
     "iopub.status.idle": "2022-11-29T11:36:22.875179Z",
     "shell.execute_reply": "2022-11-29T11:36:22.874139Z"
    },
    "papermill": {
     "duration": 0.044155,
     "end_time": "2022-11-29T11:36:22.877483",
     "exception": false,
     "start_time": "2022-11-29T11:36:22.833328",
     "status": "completed"
    },
    "tags": []
   },
   "outputs": [
    {
     "data": {
      "text/html": [
       "<style type=\"text/css\">\n",
       "#T_dd2a6_row0_col0, #T_dd2a6_row0_col1, #T_dd2a6_row0_col2, #T_dd2a6_row0_col5, #T_dd2a6_row0_col6, #T_dd2a6_row0_col7, #T_dd2a6_row0_col8, #T_dd2a6_row0_col9, #T_dd2a6_row0_col10, #T_dd2a6_row0_col12, #T_dd2a6_row1_col0, #T_dd2a6_row1_col1, #T_dd2a6_row1_col5, #T_dd2a6_row1_col6, #T_dd2a6_row1_col7, #T_dd2a6_row1_col8, #T_dd2a6_row1_col9, #T_dd2a6_row1_col10, #T_dd2a6_row1_col12, #T_dd2a6_row2_col0, #T_dd2a6_row2_col1, #T_dd2a6_row2_col5, #T_dd2a6_row2_col6, #T_dd2a6_row2_col7, #T_dd2a6_row2_col8, #T_dd2a6_row2_col9, #T_dd2a6_row2_col10, #T_dd2a6_row2_col12, #T_dd2a6_row3_col0, #T_dd2a6_row3_col1, #T_dd2a6_row3_col5, #T_dd2a6_row3_col6, #T_dd2a6_row3_col7, #T_dd2a6_row3_col8, #T_dd2a6_row3_col9, #T_dd2a6_row3_col10, #T_dd2a6_row3_col12, #T_dd2a6_row4_col0, #T_dd2a6_row4_col2, #T_dd2a6_row4_col5, #T_dd2a6_row4_col6, #T_dd2a6_row4_col7, #T_dd2a6_row4_col8, #T_dd2a6_row4_col9, #T_dd2a6_row4_col10, #T_dd2a6_row4_col12 {\n",
       "  background-color: #fbb4ae;\n",
       "  color: #000000;\n",
       "}\n",
       "#T_dd2a6_row1_col2 {\n",
       "  background-color: #b3cde3;\n",
       "  color: #000000;\n",
       "}\n",
       "#T_dd2a6_row2_col2 {\n",
       "  background-color: #e5d8bd;\n",
       "  color: #000000;\n",
       "}\n",
       "#T_dd2a6_row3_col2, #T_dd2a6_row4_col1 {\n",
       "  background-color: #f2f2f2;\n",
       "  color: #000000;\n",
       "}\n",
       "</style>\n",
       "<table id=\"T_dd2a6_\">\n",
       "  <thead>\n",
       "    <tr>\n",
       "      <th class=\"blank level0\" >&nbsp;</th>\n",
       "      <th class=\"col_heading level0 col0\" >site_id</th>\n",
       "      <th class=\"col_heading level0 col1\" >patient_id</th>\n",
       "      <th class=\"col_heading level0 col2\" >image_id</th>\n",
       "      <th class=\"col_heading level0 col3\" >laterality</th>\n",
       "      <th class=\"col_heading level0 col4\" >view</th>\n",
       "      <th class=\"col_heading level0 col5\" >age</th>\n",
       "      <th class=\"col_heading level0 col6\" >cancer</th>\n",
       "      <th class=\"col_heading level0 col7\" >biopsy</th>\n",
       "      <th class=\"col_heading level0 col8\" >invasive</th>\n",
       "      <th class=\"col_heading level0 col9\" >BIRADS</th>\n",
       "      <th class=\"col_heading level0 col10\" >implant</th>\n",
       "      <th class=\"col_heading level0 col11\" >density</th>\n",
       "      <th class=\"col_heading level0 col12\" >machine_id</th>\n",
       "      <th class=\"col_heading level0 col13\" >difficult_negative_case</th>\n",
       "    </tr>\n",
       "  </thead>\n",
       "  <tbody>\n",
       "    <tr>\n",
       "      <th id=\"T_dd2a6_level0_row0\" class=\"row_heading level0 row0\" >87</th>\n",
       "      <td id=\"T_dd2a6_row0_col0\" class=\"data row0 col0\" >1</td>\n",
       "      <td id=\"T_dd2a6_row0_col1\" class=\"data row0 col1\" >10130</td>\n",
       "      <td id=\"T_dd2a6_row0_col2\" class=\"data row0 col2\" >388811999</td>\n",
       "      <td id=\"T_dd2a6_row0_col3\" class=\"data row0 col3\" >L</td>\n",
       "      <td id=\"T_dd2a6_row0_col4\" class=\"data row0 col4\" >MLO</td>\n",
       "      <td id=\"T_dd2a6_row0_col5\" class=\"data row0 col5\" >71.000000</td>\n",
       "      <td id=\"T_dd2a6_row0_col6\" class=\"data row0 col6\" >1</td>\n",
       "      <td id=\"T_dd2a6_row0_col7\" class=\"data row0 col7\" >1</td>\n",
       "      <td id=\"T_dd2a6_row0_col8\" class=\"data row0 col8\" >1</td>\n",
       "      <td id=\"T_dd2a6_row0_col9\" class=\"data row0 col9\" >0.000000</td>\n",
       "      <td id=\"T_dd2a6_row0_col10\" class=\"data row0 col10\" >0</td>\n",
       "      <td id=\"T_dd2a6_row0_col11\" class=\"data row0 col11\" >B</td>\n",
       "      <td id=\"T_dd2a6_row0_col12\" class=\"data row0 col12\" >49</td>\n",
       "      <td id=\"T_dd2a6_row0_col13\" class=\"data row0 col13\" >False</td>\n",
       "    </tr>\n",
       "    <tr>\n",
       "      <th id=\"T_dd2a6_level0_row1\" class=\"row_heading level0 row1\" >88</th>\n",
       "      <td id=\"T_dd2a6_row1_col0\" class=\"data row1 col0\" >1</td>\n",
       "      <td id=\"T_dd2a6_row1_col1\" class=\"data row1 col1\" >10130</td>\n",
       "      <td id=\"T_dd2a6_row1_col2\" class=\"data row1 col2\" >613462606</td>\n",
       "      <td id=\"T_dd2a6_row1_col3\" class=\"data row1 col3\" >L</td>\n",
       "      <td id=\"T_dd2a6_row1_col4\" class=\"data row1 col4\" >CC</td>\n",
       "      <td id=\"T_dd2a6_row1_col5\" class=\"data row1 col5\" >71.000000</td>\n",
       "      <td id=\"T_dd2a6_row1_col6\" class=\"data row1 col6\" >1</td>\n",
       "      <td id=\"T_dd2a6_row1_col7\" class=\"data row1 col7\" >1</td>\n",
       "      <td id=\"T_dd2a6_row1_col8\" class=\"data row1 col8\" >1</td>\n",
       "      <td id=\"T_dd2a6_row1_col9\" class=\"data row1 col9\" >0.000000</td>\n",
       "      <td id=\"T_dd2a6_row1_col10\" class=\"data row1 col10\" >0</td>\n",
       "      <td id=\"T_dd2a6_row1_col11\" class=\"data row1 col11\" >B</td>\n",
       "      <td id=\"T_dd2a6_row1_col12\" class=\"data row1 col12\" >49</td>\n",
       "      <td id=\"T_dd2a6_row1_col13\" class=\"data row1 col13\" >False</td>\n",
       "    </tr>\n",
       "    <tr>\n",
       "      <th id=\"T_dd2a6_level0_row2\" class=\"row_heading level0 row2\" >89</th>\n",
       "      <td id=\"T_dd2a6_row2_col0\" class=\"data row2 col0\" >1</td>\n",
       "      <td id=\"T_dd2a6_row2_col1\" class=\"data row2 col1\" >10130</td>\n",
       "      <td id=\"T_dd2a6_row2_col2\" class=\"data row2 col2\" >1360338805</td>\n",
       "      <td id=\"T_dd2a6_row2_col3\" class=\"data row2 col3\" >L</td>\n",
       "      <td id=\"T_dd2a6_row2_col4\" class=\"data row2 col4\" >CC</td>\n",
       "      <td id=\"T_dd2a6_row2_col5\" class=\"data row2 col5\" >71.000000</td>\n",
       "      <td id=\"T_dd2a6_row2_col6\" class=\"data row2 col6\" >1</td>\n",
       "      <td id=\"T_dd2a6_row2_col7\" class=\"data row2 col7\" >1</td>\n",
       "      <td id=\"T_dd2a6_row2_col8\" class=\"data row2 col8\" >1</td>\n",
       "      <td id=\"T_dd2a6_row2_col9\" class=\"data row2 col9\" >0.000000</td>\n",
       "      <td id=\"T_dd2a6_row2_col10\" class=\"data row2 col10\" >0</td>\n",
       "      <td id=\"T_dd2a6_row2_col11\" class=\"data row2 col11\" >B</td>\n",
       "      <td id=\"T_dd2a6_row2_col12\" class=\"data row2 col12\" >49</td>\n",
       "      <td id=\"T_dd2a6_row2_col13\" class=\"data row2 col13\" >False</td>\n",
       "    </tr>\n",
       "    <tr>\n",
       "      <th id=\"T_dd2a6_level0_row3\" class=\"row_heading level0 row3\" >90</th>\n",
       "      <td id=\"T_dd2a6_row3_col0\" class=\"data row3 col0\" >1</td>\n",
       "      <td id=\"T_dd2a6_row3_col1\" class=\"data row3 col1\" >10130</td>\n",
       "      <td id=\"T_dd2a6_row3_col2\" class=\"data row3 col2\" >1672636630</td>\n",
       "      <td id=\"T_dd2a6_row3_col3\" class=\"data row3 col3\" >L</td>\n",
       "      <td id=\"T_dd2a6_row3_col4\" class=\"data row3 col4\" >MLO</td>\n",
       "      <td id=\"T_dd2a6_row3_col5\" class=\"data row3 col5\" >71.000000</td>\n",
       "      <td id=\"T_dd2a6_row3_col6\" class=\"data row3 col6\" >1</td>\n",
       "      <td id=\"T_dd2a6_row3_col7\" class=\"data row3 col7\" >1</td>\n",
       "      <td id=\"T_dd2a6_row3_col8\" class=\"data row3 col8\" >1</td>\n",
       "      <td id=\"T_dd2a6_row3_col9\" class=\"data row3 col9\" >0.000000</td>\n",
       "      <td id=\"T_dd2a6_row3_col10\" class=\"data row3 col10\" >0</td>\n",
       "      <td id=\"T_dd2a6_row3_col11\" class=\"data row3 col11\" >B</td>\n",
       "      <td id=\"T_dd2a6_row3_col12\" class=\"data row3 col12\" >49</td>\n",
       "      <td id=\"T_dd2a6_row3_col13\" class=\"data row3 col13\" >False</td>\n",
       "    </tr>\n",
       "    <tr>\n",
       "      <th id=\"T_dd2a6_level0_row4\" class=\"row_heading level0 row4\" >190</th>\n",
       "      <td id=\"T_dd2a6_row4_col0\" class=\"data row4 col0\" >1</td>\n",
       "      <td id=\"T_dd2a6_row4_col1\" class=\"data row4 col1\" >10226</td>\n",
       "      <td id=\"T_dd2a6_row4_col2\" class=\"data row4 col2\" >461614796</td>\n",
       "      <td id=\"T_dd2a6_row4_col3\" class=\"data row4 col3\" >L</td>\n",
       "      <td id=\"T_dd2a6_row4_col4\" class=\"data row4 col4\" >MLO</td>\n",
       "      <td id=\"T_dd2a6_row4_col5\" class=\"data row4 col5\" >71.000000</td>\n",
       "      <td id=\"T_dd2a6_row4_col6\" class=\"data row4 col6\" >1</td>\n",
       "      <td id=\"T_dd2a6_row4_col7\" class=\"data row4 col7\" >1</td>\n",
       "      <td id=\"T_dd2a6_row4_col8\" class=\"data row4 col8\" >1</td>\n",
       "      <td id=\"T_dd2a6_row4_col9\" class=\"data row4 col9\" >0.000000</td>\n",
       "      <td id=\"T_dd2a6_row4_col10\" class=\"data row4 col10\" >0</td>\n",
       "      <td id=\"T_dd2a6_row4_col11\" class=\"data row4 col11\" >C</td>\n",
       "      <td id=\"T_dd2a6_row4_col12\" class=\"data row4 col12\" >49</td>\n",
       "      <td id=\"T_dd2a6_row4_col13\" class=\"data row4 col13\" >False</td>\n",
       "    </tr>\n",
       "  </tbody>\n",
       "</table>\n"
      ],
      "text/plain": [
       "<pandas.io.formats.style.Styler at 0x7f1454079350>"
      ]
     },
     "execution_count": 9,
     "metadata": {},
     "output_type": "execute_result"
    }
   ],
   "source": [
    "cancer = df[df['cancer'] == 1]\n",
    "non_cancer = df[df['cancer'] == 0][:1200] #Taking only 1200 non-cancer images\n",
    "frames = [cancer, non_cancer] \n",
    "train_df = pd.concat(frames)\n",
    "train_df.head().style.background_gradient(cmap=\"Pastel1\")"
   ]
  },
  {
   "cell_type": "code",
   "execution_count": 10,
   "id": "81280dca",
   "metadata": {
    "execution": {
     "iopub.execute_input": "2022-11-29T11:36:22.889329Z",
     "iopub.status.busy": "2022-11-29T11:36:22.889026Z",
     "iopub.status.idle": "2022-11-29T11:36:22.901270Z",
     "shell.execute_reply": "2022-11-29T11:36:22.900313Z"
    },
    "papermill": {
     "duration": 0.020491,
     "end_time": "2022-11-29T11:36:22.903394",
     "exception": false,
     "start_time": "2022-11-29T11:36:22.882903",
     "status": "completed"
    },
    "tags": []
   },
   "outputs": [],
   "source": [
    "train, val = train_test_split(train_df, test_size=0.15, stratify=train_df['cancer'])\n",
    "train = train.reset_index()\n",
    "val = val.reset_index()"
   ]
  },
  {
   "cell_type": "code",
   "execution_count": 11,
   "id": "dfcbc62a",
   "metadata": {
    "execution": {
     "iopub.execute_input": "2022-11-29T11:36:22.915420Z",
     "iopub.status.busy": "2022-11-29T11:36:22.915152Z",
     "iopub.status.idle": "2022-11-29T11:36:22.924142Z",
     "shell.execute_reply": "2022-11-29T11:36:22.923129Z"
    },
    "papermill": {
     "duration": 0.017215,
     "end_time": "2022-11-29T11:36:22.926167",
     "exception": false,
     "start_time": "2022-11-29T11:36:22.908952",
     "status": "completed"
    },
    "tags": []
   },
   "outputs": [],
   "source": [
    "class CancerDataset(Dataset):\n",
    "    def __init__(self, df, transform=None):\n",
    "        super(CancerDataset, self).__init__()\n",
    "        self.df = df.copy()\n",
    "        self.transform = transform\n",
    "        self.path_to_dcms = \"/kaggle/input/rsna-breast-cancer-detection/train_images\"\n",
    "        \n",
    "    def __getitem__(self, idx):\n",
    "        dcm_path = os.path.join(self.path_to_dcms, str(self.df.loc[idx, \"patient_id\"]), f\"{self.df.loc[idx, 'image_id']}.dcm\")\n",
    "        dcm = dicom.dcmread(dcm_path)\n",
    "        dcm = dcm.pixel_array.astype(np.float32)\n",
    "        dcm = cv2.resize(dcm, (224,224))\n",
    "        if self.transform:\n",
    "            dcm = self.transform(dcm)\n",
    "        label = self.df.loc[idx, \"cancer\"]\n",
    "        label = torch.tensor(label, dtype=torch.int32)\n",
    "        return dcm, label\n",
    "    \n",
    "    def __len__(self):\n",
    "        return len(self.df)"
   ]
  },
  {
   "cell_type": "code",
   "execution_count": 12,
   "id": "aa998b90",
   "metadata": {
    "execution": {
     "iopub.execute_input": "2022-11-29T11:36:22.937795Z",
     "iopub.status.busy": "2022-11-29T11:36:22.937525Z",
     "iopub.status.idle": "2022-11-29T11:36:22.944232Z",
     "shell.execute_reply": "2022-11-29T11:36:22.943374Z"
    },
    "papermill": {
     "duration": 0.014876,
     "end_time": "2022-11-29T11:36:22.946278",
     "exception": false,
     "start_time": "2022-11-29T11:36:22.931402",
     "status": "completed"
    },
    "tags": []
   },
   "outputs": [],
   "source": [
    "transform = transforms.Compose([\n",
    "    transforms.ToTensor()\n",
    "])\n",
    "\n",
    "train_loader = DataLoader(\n",
    "    CancerDataset(train,transform=transform), \n",
    "    batch_size=16, \n",
    "    shuffle=False, \n",
    "    num_workers=1\n",
    ")\n",
    "val_loader = DataLoader(\n",
    "    CancerDataset(val,transform=transform), \n",
    "    batch_size=16, \n",
    "    shuffle=False, \n",
    "    num_workers=1\n",
    ")\n",
    "dataloaders_dict = {\"train\": train_loader, \"val\": val_loader}\n",
    "criterion = nn.CrossEntropyLoss()"
   ]
  },
  {
   "cell_type": "code",
   "execution_count": 13,
   "id": "ae292ade",
   "metadata": {
    "execution": {
     "iopub.execute_input": "2022-11-29T11:36:22.958442Z",
     "iopub.status.busy": "2022-11-29T11:36:22.957610Z",
     "iopub.status.idle": "2022-11-29T11:36:22.967464Z",
     "shell.execute_reply": "2022-11-29T11:36:22.966652Z"
    },
    "papermill": {
     "duration": 0.017945,
     "end_time": "2022-11-29T11:36:22.969408",
     "exception": false,
     "start_time": "2022-11-29T11:36:22.951463",
     "status": "completed"
    },
    "tags": []
   },
   "outputs": [],
   "source": [
    "def train_model(model, dataloaders_dict, criterion, optimizer, num_epochs):\n",
    "    best_acc = 0.0\n",
    "\n",
    "    for epoch in range(num_epochs):\n",
    "        model.cuda()\n",
    "        \n",
    "        for phase in ['train', 'val']:\n",
    "            if phase == 'train':\n",
    "                model.train()\n",
    "            else:\n",
    "                model.eval()\n",
    "                \n",
    "            epoch_loss = 0.0\n",
    "            epoch_acc = 0\n",
    "            \n",
    "            dataloader = dataloaders_dict[phase]\n",
    "            for item in tqdm(dataloader, leave=False):\n",
    "                images = item[0].cuda().float()\n",
    "                classes = item[1].cuda().long()\n",
    "\n",
    "                optimizer.zero_grad()\n",
    "                \n",
    "                with torch.set_grad_enabled(phase == 'train'):\n",
    "                    output = model(images)\n",
    "                    loss = criterion(output, classes)\n",
    "                    _, preds = torch.max(output, 1)\n",
    "\n",
    "                    if phase == 'train':\n",
    "                        loss.backward()\n",
    "                        optimizer.step()\n",
    "\n",
    "                    epoch_loss += loss.item() * len(output)\n",
    "                    epoch_acc += torch.sum(preds == classes.data)\n",
    "                    \n",
    "\n",
    "            data_size = len(dataloader.dataset)\n",
    "            epoch_loss = epoch_loss / data_size\n",
    "            epoch_acc = epoch_acc.double() / data_size\n",
    "\n",
    "            print(f'Epoch {epoch + 1}/{num_epochs} | {phase:^5} | Loss: {epoch_loss:.4f} | Acc: {epoch_acc:.4f}')\n",
    "        \n",
    "        if epoch_acc > best_acc:\n",
    "            traced = torch.jit.trace(model.cpu(), torch.rand(1, 1, 224, 224))\n",
    "            traced.save('model.pth')\n",
    "            best_acc = epoch_acc"
   ]
  },
  {
   "cell_type": "code",
   "execution_count": 14,
   "id": "70ac8b16",
   "metadata": {
    "execution": {
     "iopub.execute_input": "2022-11-29T11:36:22.981254Z",
     "iopub.status.busy": "2022-11-29T11:36:22.980695Z",
     "iopub.status.idle": "2022-11-29T11:36:26.710627Z",
     "shell.execute_reply": "2022-11-29T11:36:26.708911Z"
    },
    "papermill": {
     "duration": 3.74091,
     "end_time": "2022-11-29T11:36:26.715547",
     "exception": false,
     "start_time": "2022-11-29T11:36:22.974637",
     "status": "completed"
    },
    "tags": []
   },
   "outputs": [
    {
     "name": "stderr",
     "output_type": "stream",
     "text": [
      "Downloading: \"https://github.com/rwightman/pytorch-image-models/releases/download/v0.1-weights/efficientnet_b4_ra2_320-7eb33cd5.pth\" to /root/.cache/torch/hub/checkpoints/efficientnet_b4_ra2_320-7eb33cd5.pth\n"
     ]
    }
   ],
   "source": [
    "import timm\n",
    "model = timm.create_model('efficientnet_b4', pretrained=True, in_chans=1)"
   ]
  },
  {
   "cell_type": "code",
   "execution_count": 15,
   "id": "ec08adae",
   "metadata": {
    "execution": {
     "iopub.execute_input": "2022-11-29T11:36:26.735069Z",
     "iopub.status.busy": "2022-11-29T11:36:26.734401Z",
     "iopub.status.idle": "2022-11-29T13:12:57.711448Z",
     "shell.execute_reply": "2022-11-29T13:12:57.710280Z"
    },
    "papermill": {
     "duration": 5790.990429,
     "end_time": "2022-11-29T13:12:57.714252",
     "exception": false,
     "start_time": "2022-11-29T11:36:26.723823",
     "status": "completed"
    },
    "tags": []
   },
   "outputs": [
    {
     "name": "stderr",
     "output_type": "stream",
     "text": [
      "                                                 \r"
     ]
    },
    {
     "name": "stdout",
     "output_type": "stream",
     "text": [
      "Epoch 1/3 | train | Loss: 2.1074 | Acc: 0.4192\n"
     ]
    },
    {
     "name": "stderr",
     "output_type": "stream",
     "text": [
      "                                               \r"
     ]
    },
    {
     "name": "stdout",
     "output_type": "stream",
     "text": [
      "Epoch 1/3 |  val  | Loss: 0.8963 | Acc: 0.4944\n"
     ]
    },
    {
     "name": "stderr",
     "output_type": "stream",
     "text": [
      "                                                 \r"
     ]
    },
    {
     "name": "stdout",
     "output_type": "stream",
     "text": [
      "Epoch 2/3 | train | Loss: 0.3584 | Acc: 0.8708\n"
     ]
    },
    {
     "name": "stderr",
     "output_type": "stream",
     "text": [
      "                                               \r"
     ]
    },
    {
     "name": "stdout",
     "output_type": "stream",
     "text": [
      "Epoch 2/3 |  val  | Loss: 0.9612 | Acc: 0.5028\n"
     ]
    },
    {
     "name": "stderr",
     "output_type": "stream",
     "text": [
      "                                                 \r"
     ]
    },
    {
     "name": "stdout",
     "output_type": "stream",
     "text": [
      "Epoch 3/3 | train | Loss: 0.1201 | Acc: 0.9895\n"
     ]
    },
    {
     "name": "stderr",
     "output_type": "stream",
     "text": [
      "                                               \r"
     ]
    },
    {
     "name": "stdout",
     "output_type": "stream",
     "text": [
      "Epoch 3/3 |  val  | Loss: 1.1401 | Acc: 0.5141\n"
     ]
    }
   ],
   "source": [
    "optimizer = torch.optim.AdamW(model.parameters(), lr=1e-4)\n",
    "train_model(model, dataloaders_dict, criterion, optimizer, 3)"
   ]
  }
 ],
 "metadata": {
  "kernelspec": {
   "display_name": "Python 3",
   "language": "python",
   "name": "python3"
  },
  "language_info": {
   "codemirror_mode": {
    "name": "ipython",
    "version": 3
   },
   "file_extension": ".py",
   "mimetype": "text/x-python",
   "name": "python",
   "nbconvert_exporter": "python",
   "pygments_lexer": "ipython3",
   "version": "3.7.12"
  },
  "papermill": {
   "default_parameters": {},
   "duration": 5855.923638,
   "end_time": "2022-11-29T13:13:01.484637",
   "environment_variables": {},
   "exception": null,
   "input_path": "__notebook__.ipynb",
   "output_path": "__notebook__.ipynb",
   "parameters": {},
   "start_time": "2022-11-29T11:35:25.560999",
   "version": "2.3.4"
  }
 },
 "nbformat": 4,
 "nbformat_minor": 5
}

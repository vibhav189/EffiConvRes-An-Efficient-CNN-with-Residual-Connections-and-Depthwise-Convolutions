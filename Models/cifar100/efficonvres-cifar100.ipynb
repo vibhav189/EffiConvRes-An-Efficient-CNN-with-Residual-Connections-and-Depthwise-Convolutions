{
 "cells": [
  {
   "cell_type": "code",
   "execution_count": 1,
   "id": "8877faf8",
   "metadata": {
    "execution": {
     "iopub.execute_input": "2023-04-17T11:08:19.872095Z",
     "iopub.status.busy": "2023-04-17T11:08:19.871598Z",
     "iopub.status.idle": "2023-04-17T11:08:27.469012Z",
     "shell.execute_reply": "2023-04-17T11:08:27.467879Z"
    },
    "id": "wWIOVANVVp8t",
    "outputId": "466d70de-6635-4660-9882-58c6efc71afe",
    "papermill": {
     "duration": 7.605113,
     "end_time": "2023-04-17T11:08:27.471783",
     "exception": false,
     "start_time": "2023-04-17T11:08:19.866670",
     "status": "completed"
    },
    "tags": []
   },
   "outputs": [],
   "source": [
    "import tensorflow as tf\n",
    "import matplotlib.pyplot as plt\n",
    "from tensorflow import keras\n",
    "from tensorflow.keras import layers"
   ]
  },
  {
   "cell_type": "code",
   "execution_count": 2,
   "id": "7a4b0633",
   "metadata": {
    "execution": {
     "iopub.execute_input": "2023-04-17T11:08:27.478933Z",
     "iopub.status.busy": "2023-04-17T11:08:27.477575Z",
     "iopub.status.idle": "2023-04-17T11:08:33.429028Z",
     "shell.execute_reply": "2023-04-17T11:08:33.426770Z"
    },
    "id": "av3k4UASVtNl",
    "outputId": "bb0b3851-233b-4b89-fc2d-7a2e12726ee0",
    "papermill": {
     "duration": 5.957199,
     "end_time": "2023-04-17T11:08:33.431468",
     "exception": false,
     "start_time": "2023-04-17T11:08:27.474269",
     "status": "completed"
    },
    "tags": []
   },
   "outputs": [
    {
     "name": "stdout",
     "output_type": "stream",
     "text": [
      "Downloading data from https://www.cs.toronto.edu/~kriz/cifar-100-python.tar.gz\n",
      "169001437/169001437 [==============================] - 3s 0us/step\n",
      "x_train shape: (50000, 32, 32, 3)\n",
      "y_train shape: (50000, 1)\n",
      "50000 train samples\n",
      "10000 test samples\n"
     ]
    }
   ],
   "source": [
    "batch_size = 32  # The default batch size of keras.\n",
    "num_classes = 100  # Number of class for the dataset\n",
    "epochs = 100\n",
    "\n",
    "(x_train, y_train), (x_test, y_test) = tf.keras.datasets.cifar100.load_data()\n",
    "print('x_train shape:', x_train.shape)\n",
    "print('y_train shape:', y_train.shape)\n",
    "print(x_train.shape[0], 'train samples')\n",
    "print(x_test.shape[0], 'test samples')"
   ]
  },
  {
   "cell_type": "code",
   "execution_count": 3,
   "id": "fc3568fa",
   "metadata": {
    "execution": {
     "iopub.execute_input": "2023-04-17T11:08:33.445322Z",
     "iopub.status.busy": "2023-04-17T11:08:33.444987Z",
     "iopub.status.idle": "2023-04-17T11:08:33.717807Z",
     "shell.execute_reply": "2023-04-17T11:08:33.716667Z"
    },
    "id": "a6FAoHEgV3mI",
    "papermill": {
     "duration": 0.282829,
     "end_time": "2023-04-17T11:08:33.720555",
     "exception": false,
     "start_time": "2023-04-17T11:08:33.437726",
     "status": "completed"
    },
    "tags": []
   },
   "outputs": [],
   "source": [
    "x_train = x_train.astype('float32')\n",
    "x_test = x_test.astype('float32')\n",
    "x_train /= 255\n",
    "x_test /= 255\n",
    "\n",
    "# Convert class vectors to binary class matrices. This is called one hot encoding.\n",
    "y_train = tf.keras.utils.to_categorical(y_train, num_classes)\n",
    "y_test = tf.keras.utils.to_categorical(y_test, num_classes)"
   ]
  },
  {
   "cell_type": "code",
   "execution_count": 4,
   "id": "52ff4319",
   "metadata": {
    "execution": {
     "iopub.execute_input": "2023-04-17T11:08:33.734051Z",
     "iopub.status.busy": "2023-04-17T11:08:33.733429Z",
     "iopub.status.idle": "2023-04-17T11:08:37.525970Z",
     "shell.execute_reply": "2023-04-17T11:08:37.524950Z"
    },
    "id": "HaMNWdaZV4IV",
    "papermill": {
     "duration": 3.802249,
     "end_time": "2023-04-17T11:08:37.528742",
     "exception": false,
     "start_time": "2023-04-17T11:08:33.726493",
     "status": "completed"
    },
    "tags": []
   },
   "outputs": [],
   "source": [
    "def efficonvres(projection_dim):\n",
    "\n",
    "    def apply(inputs):\n",
    "        x_input = inputs\n",
    "\n",
    "        x = layers.Conv2D(filters=projection_dim,kernel_size=3,padding=\"same\",groups=projection_dim)(x_input)\n",
    "\n",
    "        x1 = layers.DepthwiseConv2D(3, padding=\"same\", use_bias=False)(x)\n",
    "        x1 = layers.BatchNormalization(3)(x1)\n",
    "        x1 = layers.Activation(\"swish\")(x1)\n",
    "\n",
    "        x1 = layers.DepthwiseConv2D(3, padding=\"same\", use_bias=False)(x1)\n",
    "        x1 = layers.LayerNormalization(epsilon=1e-6)(x1)\n",
    "        x1 = layers.Activation(\"gelu\")(x1)\n",
    "\n",
    "        x = layers.LayerNormalization(epsilon=1e-6)(x)\n",
    "        x = layers.Dense(4 * projection_dim)(x)\n",
    "        x = layers.Activation(\"gelu\")(x)\n",
    "        x = layers.Dense(projection_dim)(x)\n",
    "\n",
    "        x = tf.keras.layers.Add()([x, x1])\n",
    "        return x\n",
    "    return apply\n",
    "\n",
    "dims = [32, 64, 128, 256]\n",
    "inputs = tf.keras.Input(shape=(32,32,3))\n",
    "x = layers.Conv2D(filters=128,kernel_size=3,padding=\"same\", activation='gelu')(inputs)\n",
    "for i in range(4):\n",
    "    x = layers.Conv2D(filters=dims[i],kernel_size=3,padding=\"same\", activation='gelu')(x)\n",
    "    x = efficonvres(dims[i])(x)\n",
    "x = layers.GlobalAveragePooling2D(name=\"avg_pool\")(x)\n",
    "output = layers.Dense(100, activation='softmax')(x)\n",
    "model = keras.Model(inputs=inputs, outputs=output)"
   ]
  },
  {
   "cell_type": "code",
   "execution_count": 5,
   "id": "8e34710b",
   "metadata": {
    "execution": {
     "iopub.execute_input": "2023-04-17T11:08:37.545057Z",
     "iopub.status.busy": "2023-04-17T11:08:37.544690Z",
     "iopub.status.idle": "2023-04-17T11:08:37.565997Z",
     "shell.execute_reply": "2023-04-17T11:08:37.564466Z"
    },
    "id": "RJVM9UbjW0aP",
    "papermill": {
     "duration": 0.03191,
     "end_time": "2023-04-17T11:08:37.568587",
     "exception": false,
     "start_time": "2023-04-17T11:08:37.536677",
     "status": "completed"
    },
    "tags": []
   },
   "outputs": [],
   "source": [
    "opt = tf.keras.optimizers.Adam(learning_rate=1e-4)\n",
    "\n",
    "model.compile(loss='categorical_crossentropy',\n",
    "              optimizer=opt,\n",
    "              metrics=['accuracy'])"
   ]
  },
  {
   "cell_type": "code",
   "execution_count": 6,
   "id": "9a583d53",
   "metadata": {
    "execution": {
     "iopub.execute_input": "2023-04-17T11:08:37.581596Z",
     "iopub.status.busy": "2023-04-17T11:08:37.581262Z",
     "iopub.status.idle": "2023-04-17T13:32:08.822002Z",
     "shell.execute_reply": "2023-04-17T13:32:08.820941Z"
    },
    "id": "9-HdYOlCW8Qu",
    "outputId": "2b4132de-ae21-4d92-98fd-13c0bc3ae5ce",
    "papermill": {
     "duration": 8611.249819,
     "end_time": "2023-04-17T13:32:08.824302",
     "exception": false,
     "start_time": "2023-04-17T11:08:37.574483",
     "status": "completed"
    },
    "tags": []
   },
   "outputs": [
    {
     "name": "stdout",
     "output_type": "stream",
     "text": [
      "Epoch 1/50\n",
      "782/782 [==============================] - 198s 224ms/step - loss: 3.7824 - accuracy: 0.1241 - val_loss: 3.3541 - val_accuracy: 0.1821\n",
      "Epoch 2/50\n",
      "782/782 [==============================] - 172s 221ms/step - loss: 3.0759 - accuracy: 0.2412 - val_loss: 2.9996 - val_accuracy: 0.2430\n",
      "Epoch 3/50\n",
      "782/782 [==============================] - 172s 220ms/step - loss: 2.7275 - accuracy: 0.3060 - val_loss: 2.7461 - val_accuracy: 0.2983\n",
      "Epoch 4/50\n",
      "782/782 [==============================] - 172s 220ms/step - loss: 2.4928 - accuracy: 0.3544 - val_loss: 2.4998 - val_accuracy: 0.3527\n",
      "Epoch 5/50\n",
      "782/782 [==============================] - 172s 219ms/step - loss: 2.3191 - accuracy: 0.3914 - val_loss: 2.3706 - val_accuracy: 0.3718\n",
      "Epoch 6/50\n",
      "782/782 [==============================] - 171s 219ms/step - loss: 2.1654 - accuracy: 0.4230 - val_loss: 2.2452 - val_accuracy: 0.4050\n",
      "Epoch 7/50\n",
      "782/782 [==============================] - 171s 218ms/step - loss: 2.0471 - accuracy: 0.4518 - val_loss: 2.1527 - val_accuracy: 0.4324\n",
      "Epoch 8/50\n",
      "782/782 [==============================] - 171s 219ms/step - loss: 1.9398 - accuracy: 0.4766 - val_loss: 2.0732 - val_accuracy: 0.4485\n",
      "Epoch 9/50\n",
      "782/782 [==============================] - 170s 218ms/step - loss: 1.8505 - accuracy: 0.4983 - val_loss: 1.9519 - val_accuracy: 0.4711\n",
      "Epoch 10/50\n",
      "782/782 [==============================] - 170s 218ms/step - loss: 1.7667 - accuracy: 0.5185 - val_loss: 1.9296 - val_accuracy: 0.4849\n",
      "Epoch 11/50\n",
      "782/782 [==============================] - 171s 219ms/step - loss: 1.6885 - accuracy: 0.5356 - val_loss: 1.9665 - val_accuracy: 0.4724\n",
      "Epoch 12/50\n",
      "782/782 [==============================] - 170s 218ms/step - loss: 1.6192 - accuracy: 0.5532 - val_loss: 1.9475 - val_accuracy: 0.4782\n",
      "Epoch 13/50\n",
      "782/782 [==============================] - 170s 218ms/step - loss: 1.5503 - accuracy: 0.5712 - val_loss: 1.8858 - val_accuracy: 0.4914\n",
      "Epoch 14/50\n",
      "782/782 [==============================] - 171s 219ms/step - loss: 1.4845 - accuracy: 0.5839 - val_loss: 1.8234 - val_accuracy: 0.5020\n",
      "Epoch 15/50\n",
      "782/782 [==============================] - 172s 220ms/step - loss: 1.4202 - accuracy: 0.6013 - val_loss: 1.7944 - val_accuracy: 0.5133\n",
      "Epoch 16/50\n",
      "782/782 [==============================] - 172s 220ms/step - loss: 1.3629 - accuracy: 0.6184 - val_loss: 1.7740 - val_accuracy: 0.5218\n",
      "Epoch 17/50\n",
      "782/782 [==============================] - 172s 220ms/step - loss: 1.3139 - accuracy: 0.6293 - val_loss: 1.7240 - val_accuracy: 0.5284\n",
      "Epoch 18/50\n",
      "782/782 [==============================] - 171s 219ms/step - loss: 1.2504 - accuracy: 0.6448 - val_loss: 1.7357 - val_accuracy: 0.5253\n",
      "Epoch 19/50\n",
      "782/782 [==============================] - 172s 220ms/step - loss: 1.1956 - accuracy: 0.6575 - val_loss: 1.8765 - val_accuracy: 0.5016\n",
      "Epoch 20/50\n",
      "782/782 [==============================] - 172s 220ms/step - loss: 1.1444 - accuracy: 0.6722 - val_loss: 1.7452 - val_accuracy: 0.5268\n",
      "Epoch 21/50\n",
      "782/782 [==============================] - 172s 220ms/step - loss: 1.0878 - accuracy: 0.6853 - val_loss: 1.7334 - val_accuracy: 0.5342\n",
      "Epoch 22/50\n",
      "782/782 [==============================] - 171s 219ms/step - loss: 1.0427 - accuracy: 0.6997 - val_loss: 1.7564 - val_accuracy: 0.5330\n",
      "Epoch 23/50\n",
      "782/782 [==============================] - 172s 220ms/step - loss: 0.9888 - accuracy: 0.7136 - val_loss: 1.7600 - val_accuracy: 0.5407\n",
      "Epoch 24/50\n",
      "782/782 [==============================] - 172s 220ms/step - loss: 0.9429 - accuracy: 0.7244 - val_loss: 1.7465 - val_accuracy: 0.5436\n",
      "Epoch 25/50\n",
      "782/782 [==============================] - 172s 220ms/step - loss: 0.8921 - accuracy: 0.7384 - val_loss: 1.8122 - val_accuracy: 0.5386\n",
      "Epoch 26/50\n",
      "782/782 [==============================] - 172s 220ms/step - loss: 0.8447 - accuracy: 0.7508 - val_loss: 1.7491 - val_accuracy: 0.5407\n",
      "Epoch 27/50\n",
      "782/782 [==============================] - 171s 219ms/step - loss: 0.7971 - accuracy: 0.7667 - val_loss: 1.7842 - val_accuracy: 0.5416\n",
      "Epoch 28/50\n",
      "782/782 [==============================] - 171s 219ms/step - loss: 0.7523 - accuracy: 0.7796 - val_loss: 1.7895 - val_accuracy: 0.5437\n",
      "Epoch 29/50\n",
      "782/782 [==============================] - 171s 218ms/step - loss: 0.7044 - accuracy: 0.7928 - val_loss: 1.8463 - val_accuracy: 0.5451\n",
      "Epoch 30/50\n",
      "782/782 [==============================] - 171s 219ms/step - loss: 0.6636 - accuracy: 0.8043 - val_loss: 1.8727 - val_accuracy: 0.5401\n",
      "Epoch 31/50\n",
      "782/782 [==============================] - 171s 218ms/step - loss: 0.6172 - accuracy: 0.8178 - val_loss: 1.8697 - val_accuracy: 0.5379\n",
      "Epoch 32/50\n",
      "782/782 [==============================] - 170s 218ms/step - loss: 0.5802 - accuracy: 0.8273 - val_loss: 1.9150 - val_accuracy: 0.5463\n",
      "Epoch 33/50\n",
      "782/782 [==============================] - 170s 218ms/step - loss: 0.5309 - accuracy: 0.8449 - val_loss: 1.9530 - val_accuracy: 0.5381\n",
      "Epoch 34/50\n",
      "782/782 [==============================] - 170s 218ms/step - loss: 0.4939 - accuracy: 0.8555 - val_loss: 1.9294 - val_accuracy: 0.5463\n",
      "Epoch 35/50\n",
      "782/782 [==============================] - 172s 219ms/step - loss: 0.4583 - accuracy: 0.8661 - val_loss: 1.9934 - val_accuracy: 0.5391\n",
      "Epoch 36/50\n",
      "782/782 [==============================] - 171s 219ms/step - loss: 0.4179 - accuracy: 0.8786 - val_loss: 2.0258 - val_accuracy: 0.5399\n",
      "Epoch 37/50\n",
      "782/782 [==============================] - 172s 220ms/step - loss: 0.3851 - accuracy: 0.8873 - val_loss: 2.1339 - val_accuracy: 0.5317\n",
      "Epoch 38/50\n",
      "782/782 [==============================] - 172s 220ms/step - loss: 0.3505 - accuracy: 0.8986 - val_loss: 2.1689 - val_accuracy: 0.5347\n",
      "Epoch 39/50\n",
      "782/782 [==============================] - 172s 219ms/step - loss: 0.3214 - accuracy: 0.9085 - val_loss: 2.1593 - val_accuracy: 0.5374\n",
      "Epoch 40/50\n",
      "782/782 [==============================] - 171s 219ms/step - loss: 0.2898 - accuracy: 0.9186 - val_loss: 2.2722 - val_accuracy: 0.5309\n",
      "Epoch 41/50\n",
      "782/782 [==============================] - 171s 219ms/step - loss: 0.2732 - accuracy: 0.9223 - val_loss: 2.3124 - val_accuracy: 0.5317\n",
      "Epoch 42/50\n",
      "782/782 [==============================] - 172s 219ms/step - loss: 0.2439 - accuracy: 0.9331 - val_loss: 2.2964 - val_accuracy: 0.5371\n",
      "Epoch 43/50\n",
      "782/782 [==============================] - 171s 219ms/step - loss: 0.2243 - accuracy: 0.9372 - val_loss: 2.3592 - val_accuracy: 0.5302\n",
      "Epoch 44/50\n",
      "782/782 [==============================] - 171s 219ms/step - loss: 0.1972 - accuracy: 0.9479 - val_loss: 2.4284 - val_accuracy: 0.5291\n",
      "Epoch 45/50\n",
      "782/782 [==============================] - 171s 219ms/step - loss: 0.1900 - accuracy: 0.9482 - val_loss: 2.4396 - val_accuracy: 0.5311\n",
      "Epoch 46/50\n",
      "782/782 [==============================] - 172s 220ms/step - loss: 0.1683 - accuracy: 0.9558 - val_loss: 2.5389 - val_accuracy: 0.5299\n",
      "Epoch 47/50\n",
      "782/782 [==============================] - 171s 219ms/step - loss: 0.1574 - accuracy: 0.9585 - val_loss: 2.7175 - val_accuracy: 0.5228\n",
      "Epoch 48/50\n",
      "782/782 [==============================] - 171s 219ms/step - loss: 0.1456 - accuracy: 0.9612 - val_loss: 2.5738 - val_accuracy: 0.5307\n",
      "Epoch 49/50\n",
      "782/782 [==============================] - 171s 219ms/step - loss: 0.1405 - accuracy: 0.9627 - val_loss: 2.6497 - val_accuracy: 0.5254\n",
      "Epoch 50/50\n",
      "782/782 [==============================] - 171s 219ms/step - loss: 0.1264 - accuracy: 0.9678 - val_loss: 2.7129 - val_accuracy: 0.5218\n"
     ]
    },
    {
     "data": {
      "text/plain": [
       "<keras.callbacks.History at 0x7f2e7aba7a50>"
      ]
     },
     "execution_count": 6,
     "metadata": {},
     "output_type": "execute_result"
    }
   ],
   "source": [
    "model.fit(x_train, y_train, epochs=50, batch_size=64, \n",
    "                                  validation_data=(x_test, y_test))"
   ]
  },
  {
   "cell_type": "code",
   "execution_count": 7,
   "id": "01723f17",
   "metadata": {
    "execution": {
     "iopub.execute_input": "2023-04-17T13:32:13.200946Z",
     "iopub.status.busy": "2023-04-17T13:32:13.200561Z",
     "iopub.status.idle": "2023-04-17T13:32:13.440332Z",
     "shell.execute_reply": "2023-04-17T13:32:13.439315Z"
    },
    "papermill": {
     "duration": 2.427938,
     "end_time": "2023-04-17T13:32:13.442854",
     "exception": false,
     "start_time": "2023-04-17T13:32:11.014916",
     "status": "completed"
    },
    "tags": []
   },
   "outputs": [],
   "source": [
    "model.save(\"efficonvres_100.h5\")"
   ]
  }
 ],
 "metadata": {
  "kernelspec": {
   "display_name": "Python 3",
   "language": "python",
   "name": "python3"
  },
  "language_info": {
   "codemirror_mode": {
    "name": "ipython",
    "version": 3
   },
   "file_extension": ".py",
   "mimetype": "text/x-python",
   "name": "python",
   "nbconvert_exporter": "python",
   "pygments_lexer": "ipython3",
   "version": "3.7.12"
  },
  "papermill": {
   "default_parameters": {},
   "duration": 8648.910699,
   "end_time": "2023-04-17T13:32:19.292128",
   "environment_variables": {},
   "exception": null,
   "input_path": "__notebook__.ipynb",
   "output_path": "__notebook__.ipynb",
   "parameters": {},
   "start_time": "2023-04-17T11:08:10.381429",
   "version": "2.4.0"
  }
 },
 "nbformat": 4,
 "nbformat_minor": 5
}

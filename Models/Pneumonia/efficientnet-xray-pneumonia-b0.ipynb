{
 "cells": [
  {
   "cell_type": "code",
   "execution_count": 1,
   "id": "26b996b8",
   "metadata": {
    "_cell_guid": "b1076dfc-b9ad-4769-8c92-a6c4dae69d19",
    "_uuid": "8f2839f25d086af736a60e9eeb907d3b93b6e0e5",
    "execution": {
     "iopub.execute_input": "2023-05-02T18:53:05.855083Z",
     "iopub.status.busy": "2023-05-02T18:53:05.854176Z",
     "iopub.status.idle": "2023-05-02T18:53:12.645527Z",
     "shell.execute_reply": "2023-05-02T18:53:12.644612Z"
    },
    "papermill": {
     "duration": 6.797827,
     "end_time": "2023-05-02T18:53:12.647825",
     "exception": false,
     "start_time": "2023-05-02T18:53:05.849998",
     "status": "completed"
    },
    "tags": []
   },
   "outputs": [
    {
     "name": "stderr",
     "output_type": "stream",
     "text": [
      "/opt/conda/lib/python3.10/site-packages/scipy/__init__.py:146: UserWarning: A NumPy version >=1.16.5 and <1.23.0 is required for this version of SciPy (detected version 1.23.5\n",
      "  warnings.warn(f\"A NumPy version >={np_minversion} and <{np_maxversion}\"\n"
     ]
    }
   ],
   "source": [
    "import tensorflow as tf\n",
    "from tensorflow import keras\n",
    "from tensorflow.keras import layers"
   ]
  },
  {
   "cell_type": "code",
   "execution_count": 2,
   "id": "91bbee21",
   "metadata": {
    "execution": {
     "iopub.execute_input": "2023-05-02T18:53:12.654843Z",
     "iopub.status.busy": "2023-05-02T18:53:12.653583Z",
     "iopub.status.idle": "2023-05-02T18:53:12.659439Z",
     "shell.execute_reply": "2023-05-02T18:53:12.658639Z"
    },
    "papermill": {
     "duration": 0.010632,
     "end_time": "2023-05-02T18:53:12.661085",
     "exception": false,
     "start_time": "2023-05-02T18:53:12.650453",
     "status": "completed"
    },
    "tags": []
   },
   "outputs": [],
   "source": [
    "train_datagen = tf.keras.preprocessing.image.ImageDataGenerator(\n",
    "        rescale=1./255,\n",
    "        shear_range=0.2,\n",
    "        zoom_range=0.2,\n",
    "        horizontal_flip=True)\n",
    "\n",
    "test_datagen = tf.keras.preprocessing.image.ImageDataGenerator(rescale=1./255)"
   ]
  },
  {
   "cell_type": "code",
   "execution_count": 3,
   "id": "1966a478",
   "metadata": {
    "execution": {
     "iopub.execute_input": "2023-05-02T18:53:12.667062Z",
     "iopub.status.busy": "2023-05-02T18:53:12.666289Z",
     "iopub.status.idle": "2023-05-02T18:53:14.114925Z",
     "shell.execute_reply": "2023-05-02T18:53:14.114050Z"
    },
    "papermill": {
     "duration": 1.453737,
     "end_time": "2023-05-02T18:53:14.116955",
     "exception": false,
     "start_time": "2023-05-02T18:53:12.663218",
     "status": "completed"
    },
    "tags": []
   },
   "outputs": [
    {
     "name": "stdout",
     "output_type": "stream",
     "text": [
      "Found 5216 images belonging to 2 classes.\n",
      "Found 624 images belonging to 2 classes.\n"
     ]
    }
   ],
   "source": [
    "train_generator = train_datagen.flow_from_directory(\n",
    "        '/kaggle/input/chest-xray-pneumonia/chest_xray/train/',\n",
    "        target_size=(128, 128),\n",
    "        batch_size=8,\n",
    "        class_mode='binary')\n",
    "\n",
    "validation_generator = train_datagen.flow_from_directory(\n",
    "        '/kaggle/input/chest-xray-pneumonia/chest_xray/test/',\n",
    "        target_size=(128, 128),\n",
    "        batch_size=8,\n",
    "        class_mode='binary')"
   ]
  },
  {
   "cell_type": "code",
   "execution_count": 4,
   "id": "f99408fe",
   "metadata": {
    "execution": {
     "iopub.execute_input": "2023-05-02T18:53:14.124007Z",
     "iopub.status.busy": "2023-05-02T18:53:14.122681Z",
     "iopub.status.idle": "2023-05-02T18:53:18.407329Z",
     "shell.execute_reply": "2023-05-02T18:53:18.406507Z"
    },
    "papermill": {
     "duration": 4.290269,
     "end_time": "2023-05-02T18:53:18.409698",
     "exception": false,
     "start_time": "2023-05-02T18:53:14.119429",
     "status": "completed"
    },
    "tags": []
   },
   "outputs": [],
   "source": [
    "efficientnetb3 = tf.keras.applications.efficientnet.EfficientNetB0(include_top=False, weights=None,input_shape=(128, 128, 3), pooling='avg')\n",
    "x4 = tf.keras.layers.Dense(1, activation='sigmoid')(efficientnetb3.output)\n",
    "efficientnetb3_model = tf.keras.Model(efficientnetb3.input, x4)"
   ]
  },
  {
   "cell_type": "code",
   "execution_count": 5,
   "id": "cb794859",
   "metadata": {
    "execution": {
     "iopub.execute_input": "2023-05-02T18:53:18.417697Z",
     "iopub.status.busy": "2023-05-02T18:53:18.416822Z",
     "iopub.status.idle": "2023-05-02T18:53:18.436336Z",
     "shell.execute_reply": "2023-05-02T18:53:18.435535Z"
    },
    "papermill": {
     "duration": 0.025141,
     "end_time": "2023-05-02T18:53:18.438191",
     "exception": false,
     "start_time": "2023-05-02T18:53:18.413050",
     "status": "completed"
    },
    "tags": []
   },
   "outputs": [],
   "source": [
    "METRICS = [\n",
    "        'accuracy',\n",
    "    ]\n",
    "    \n",
    "efficientnetb3_model.compile(\n",
    "        optimizer='adam',\n",
    "        loss='binary_crossentropy',\n",
    "        metrics=METRICS\n",
    "    )"
   ]
  },
  {
   "cell_type": "code",
   "execution_count": 6,
   "id": "d6a9f87d",
   "metadata": {
    "execution": {
     "iopub.execute_input": "2023-05-02T18:53:18.444210Z",
     "iopub.status.busy": "2023-05-02T18:53:18.443503Z",
     "iopub.status.idle": "2023-05-02T18:53:18.449070Z",
     "shell.execute_reply": "2023-05-02T18:53:18.448306Z"
    },
    "papermill": {
     "duration": 0.010525,
     "end_time": "2023-05-02T18:53:18.451013",
     "exception": false,
     "start_time": "2023-05-02T18:53:18.440488",
     "status": "completed"
    },
    "tags": []
   },
   "outputs": [],
   "source": [
    "def exponential_decay(lr0, s):\n",
    "    def exponential_decay_fn(epoch):\n",
    "        return lr0 * 0.1 **(epoch / s)\n",
    "    return exponential_decay_fn\n",
    "\n",
    "exponential_decay_fn = exponential_decay(0.01, 20)\n",
    "\n",
    "lr_scheduler = tf.keras.callbacks.LearningRateScheduler(exponential_decay_fn)"
   ]
  },
  {
   "cell_type": "code",
   "execution_count": 7,
   "id": "63799f44",
   "metadata": {
    "execution": {
     "iopub.execute_input": "2023-05-02T18:53:18.456339Z",
     "iopub.status.busy": "2023-05-02T18:53:18.456092Z",
     "iopub.status.idle": "2023-05-02T19:07:44.524438Z",
     "shell.execute_reply": "2023-05-02T19:07:44.523274Z"
    },
    "papermill": {
     "duration": 866.401255,
     "end_time": "2023-05-02T19:07:44.854466",
     "exception": false,
     "start_time": "2023-05-02T18:53:18.453211",
     "status": "completed"
    },
    "tags": []
   },
   "outputs": [
    {
     "name": "stdout",
     "output_type": "stream",
     "text": [
      "Epoch 1/10\n"
     ]
    },
    {
     "name": "stderr",
     "output_type": "stream",
     "text": [
      "2023-05-02 18:53:33.270810: E tensorflow/core/grappler/optimizers/meta_optimizer.cc:954] layout failed: INVALID_ARGUMENT: Size of values 0 does not match size of permutation 4 @ fanin shape inmodel/block2b_drop/dropout/SelectV2-2-TransposeNHWCToNCHW-LayoutOptimizer\n"
     ]
    },
    {
     "name": "stdout",
     "output_type": "stream",
     "text": [
      "652/652 [==============================] - 150s 166ms/step - loss: 0.4385 - accuracy: 0.8194 - val_loss: 0.9294 - val_accuracy: 0.7244 - lr: 0.0100\n",
      "Epoch 2/10\n",
      "652/652 [==============================] - 80s 122ms/step - loss: 0.2851 - accuracy: 0.8838 - val_loss: 2.3660 - val_accuracy: 0.6747 - lr: 0.0089\n",
      "Epoch 3/10\n",
      "652/652 [==============================] - 78s 120ms/step - loss: 0.2617 - accuracy: 0.8932 - val_loss: 0.7188 - val_accuracy: 0.7356 - lr: 0.0079\n",
      "Epoch 4/10\n",
      "652/652 [==============================] - 80s 122ms/step - loss: 0.2219 - accuracy: 0.9166 - val_loss: 0.7485 - val_accuracy: 0.7772 - lr: 0.0071\n",
      "Epoch 5/10\n",
      "652/652 [==============================] - 79s 122ms/step - loss: 0.1941 - accuracy: 0.9289 - val_loss: 1.2167 - val_accuracy: 0.7019 - lr: 0.0063\n",
      "Epoch 6/10\n",
      "652/652 [==============================] - 78s 120ms/step - loss: 0.1736 - accuracy: 0.9388 - val_loss: 1.0648 - val_accuracy: 0.6907 - lr: 0.0056\n",
      "Epoch 7/10\n",
      "652/652 [==============================] - 79s 122ms/step - loss: 0.1721 - accuracy: 0.9402 - val_loss: 0.5141 - val_accuracy: 0.8365 - lr: 0.0050\n",
      "Epoch 8/10\n",
      "652/652 [==============================] - 79s 121ms/step - loss: 0.1484 - accuracy: 0.9490 - val_loss: 0.4039 - val_accuracy: 0.8269 - lr: 0.0045\n",
      "Epoch 9/10\n",
      "652/652 [==============================] - 80s 122ms/step - loss: 0.1422 - accuracy: 0.9517 - val_loss: 0.4636 - val_accuracy: 0.8558 - lr: 0.0040\n",
      "Epoch 10/10\n",
      "652/652 [==============================] - 79s 121ms/step - loss: 0.1178 - accuracy: 0.9584 - val_loss: 0.5927 - val_accuracy: 0.8253 - lr: 0.0035\n"
     ]
    }
   ],
   "source": [
    "history = efficientnetb3_model.fit(\n",
    "    train_generator,\n",
    "    epochs=10,\n",
    "    validation_data=validation_generator,\n",
    "    callbacks=[lr_scheduler]\n",
    ")"
   ]
  },
  {
   "cell_type": "code",
   "execution_count": 8,
   "id": "b5322654",
   "metadata": {
    "execution": {
     "iopub.execute_input": "2023-05-02T19:07:45.527511Z",
     "iopub.status.busy": "2023-05-02T19:07:45.525876Z",
     "iopub.status.idle": "2023-05-02T19:07:46.324357Z",
     "shell.execute_reply": "2023-05-02T19:07:46.323444Z"
    },
    "papermill": {
     "duration": 1.136818,
     "end_time": "2023-05-02T19:07:46.327006",
     "exception": false,
     "start_time": "2023-05-02T19:07:45.190188",
     "status": "completed"
    },
    "tags": []
   },
   "outputs": [],
   "source": [
    "efficientnetb3_model.save(\"efficientnet_xray_Pneumonia_b0.h5\")"
   ]
  }
 ],
 "metadata": {
  "kernelspec": {
   "display_name": "Python 3",
   "language": "python",
   "name": "python3"
  },
  "language_info": {
   "codemirror_mode": {
    "name": "ipython",
    "version": 3
   },
   "file_extension": ".py",
   "mimetype": "text/x-python",
   "name": "python",
   "nbconvert_exporter": "python",
   "pygments_lexer": "ipython3",
   "version": "3.10.10"
  },
  "papermill": {
   "default_parameters": {},
   "duration": 893.034646,
   "end_time": "2023-05-02T19:07:49.802190",
   "environment_variables": {},
   "exception": null,
   "input_path": "__notebook__.ipynb",
   "output_path": "__notebook__.ipynb",
   "parameters": {},
   "start_time": "2023-05-02T18:52:56.767544",
   "version": "2.4.0"
  }
 },
 "nbformat": 4,
 "nbformat_minor": 5
}

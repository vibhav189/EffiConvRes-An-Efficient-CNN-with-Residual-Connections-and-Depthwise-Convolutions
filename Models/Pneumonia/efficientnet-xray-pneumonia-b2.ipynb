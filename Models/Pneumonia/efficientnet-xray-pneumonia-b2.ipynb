{
 "cells": [
  {
   "cell_type": "code",
   "execution_count": 1,
   "id": "f2ff76e4",
   "metadata": {
    "_cell_guid": "b1076dfc-b9ad-4769-8c92-a6c4dae69d19",
    "_uuid": "8f2839f25d086af736a60e9eeb907d3b93b6e0e5",
    "execution": {
     "iopub.execute_input": "2023-05-02T19:00:58.451501Z",
     "iopub.status.busy": "2023-05-02T19:00:58.451084Z",
     "iopub.status.idle": "2023-05-02T19:01:04.751980Z",
     "shell.execute_reply": "2023-05-02T19:01:04.750978Z"
    },
    "papermill": {
     "duration": 6.307984,
     "end_time": "2023-05-02T19:01:04.754835",
     "exception": false,
     "start_time": "2023-05-02T19:00:58.446851",
     "status": "completed"
    },
    "tags": []
   },
   "outputs": [
    {
     "name": "stderr",
     "output_type": "stream",
     "text": [
      "/opt/conda/lib/python3.10/site-packages/scipy/__init__.py:146: UserWarning: A NumPy version >=1.16.5 and <1.23.0 is required for this version of SciPy (detected version 1.23.5\n",
      "  warnings.warn(f\"A NumPy version >={np_minversion} and <{np_maxversion}\"\n"
     ]
    }
   ],
   "source": [
    "import tensorflow as tf\n",
    "from tensorflow import keras\n",
    "from tensorflow.keras import layers"
   ]
  },
  {
   "cell_type": "code",
   "execution_count": 2,
   "id": "7aecc1d9",
   "metadata": {
    "execution": {
     "iopub.execute_input": "2023-05-02T19:01:04.764277Z",
     "iopub.status.busy": "2023-05-02T19:01:04.763130Z",
     "iopub.status.idle": "2023-05-02T19:01:04.770558Z",
     "shell.execute_reply": "2023-05-02T19:01:04.769813Z"
    },
    "papermill": {
     "duration": 0.013944,
     "end_time": "2023-05-02T19:01:04.772679",
     "exception": false,
     "start_time": "2023-05-02T19:01:04.758735",
     "status": "completed"
    },
    "tags": []
   },
   "outputs": [],
   "source": [
    "train_datagen = tf.keras.preprocessing.image.ImageDataGenerator(\n",
    "        rescale=1./255,\n",
    "        shear_range=0.2,\n",
    "        zoom_range=0.2,\n",
    "        horizontal_flip=True)\n",
    "\n",
    "test_datagen = tf.keras.preprocessing.image.ImageDataGenerator(rescale=1./255)"
   ]
  },
  {
   "cell_type": "code",
   "execution_count": 3,
   "id": "b1756c28",
   "metadata": {
    "execution": {
     "iopub.execute_input": "2023-05-02T19:01:04.780120Z",
     "iopub.status.busy": "2023-05-02T19:01:04.779798Z",
     "iopub.status.idle": "2023-05-02T19:01:09.861796Z",
     "shell.execute_reply": "2023-05-02T19:01:09.860891Z"
    },
    "papermill": {
     "duration": 5.087848,
     "end_time": "2023-05-02T19:01:09.863810",
     "exception": false,
     "start_time": "2023-05-02T19:01:04.775962",
     "status": "completed"
    },
    "tags": []
   },
   "outputs": [
    {
     "name": "stdout",
     "output_type": "stream",
     "text": [
      "Found 5216 images belonging to 2 classes.\n",
      "Found 624 images belonging to 2 classes.\n"
     ]
    }
   ],
   "source": [
    "train_generator = train_datagen.flow_from_directory(\n",
    "        '/kaggle/input/chest-xray-pneumonia/chest_xray/train/',\n",
    "        target_size=(128, 128),\n",
    "        batch_size=8,\n",
    "        class_mode='binary')\n",
    "\n",
    "validation_generator = train_datagen.flow_from_directory(\n",
    "        '/kaggle/input/chest-xray-pneumonia/chest_xray/test/',\n",
    "        target_size=(128, 128),\n",
    "        batch_size=8,\n",
    "        class_mode='binary')"
   ]
  },
  {
   "cell_type": "code",
   "execution_count": 4,
   "id": "530f9f3d",
   "metadata": {
    "execution": {
     "iopub.execute_input": "2023-05-02T19:01:09.870925Z",
     "iopub.status.busy": "2023-05-02T19:01:09.870118Z",
     "iopub.status.idle": "2023-05-02T19:01:14.468909Z",
     "shell.execute_reply": "2023-05-02T19:01:14.467988Z"
    },
    "papermill": {
     "duration": 4.604534,
     "end_time": "2023-05-02T19:01:14.471081",
     "exception": false,
     "start_time": "2023-05-02T19:01:09.866547",
     "status": "completed"
    },
    "tags": []
   },
   "outputs": [],
   "source": [
    "efficientnetb2 = tf.keras.applications.efficientnet.EfficientNetB2(include_top=False, weights=None,input_shape=(128, 128, 3), pooling='avg')\n",
    "x4 = tf.keras.layers.Dense(1, activation='sigmoid')(efficientnetb2.output)\n",
    "efficientnetb2_model = tf.keras.Model(efficientnetb2.input, x4)"
   ]
  },
  {
   "cell_type": "code",
   "execution_count": 5,
   "id": "37c2b54f",
   "metadata": {
    "execution": {
     "iopub.execute_input": "2023-05-02T19:01:14.477803Z",
     "iopub.status.busy": "2023-05-02T19:01:14.476985Z",
     "iopub.status.idle": "2023-05-02T19:01:14.496240Z",
     "shell.execute_reply": "2023-05-02T19:01:14.495444Z"
    },
    "papermill": {
     "duration": 0.024384,
     "end_time": "2023-05-02T19:01:14.498116",
     "exception": false,
     "start_time": "2023-05-02T19:01:14.473732",
     "status": "completed"
    },
    "tags": []
   },
   "outputs": [],
   "source": [
    "METRICS = [\n",
    "        'accuracy',\n",
    "    ]\n",
    "    \n",
    "efficientnetb2_model.compile(\n",
    "        optimizer='adam',\n",
    "        loss='binary_crossentropy',\n",
    "        metrics=METRICS\n",
    "    )"
   ]
  },
  {
   "cell_type": "code",
   "execution_count": 6,
   "id": "d8d48f6c",
   "metadata": {
    "execution": {
     "iopub.execute_input": "2023-05-02T19:01:14.503789Z",
     "iopub.status.busy": "2023-05-02T19:01:14.503516Z",
     "iopub.status.idle": "2023-05-02T19:01:14.509216Z",
     "shell.execute_reply": "2023-05-02T19:01:14.508453Z"
    },
    "papermill": {
     "duration": 0.010543,
     "end_time": "2023-05-02T19:01:14.510901",
     "exception": false,
     "start_time": "2023-05-02T19:01:14.500358",
     "status": "completed"
    },
    "tags": []
   },
   "outputs": [],
   "source": [
    "def exponential_decay(lr0, s):\n",
    "    def exponential_decay_fn(epoch):\n",
    "        return lr0 * 0.1 **(epoch / s)\n",
    "    return exponential_decay_fn\n",
    "\n",
    "exponential_decay_fn = exponential_decay(0.01, 20)\n",
    "\n",
    "lr_scheduler = tf.keras.callbacks.LearningRateScheduler(exponential_decay_fn)"
   ]
  },
  {
   "cell_type": "code",
   "execution_count": 7,
   "id": "5ae477bb",
   "metadata": {
    "execution": {
     "iopub.execute_input": "2023-05-02T19:01:14.516823Z",
     "iopub.status.busy": "2023-05-02T19:01:14.516334Z",
     "iopub.status.idle": "2023-05-02T19:20:12.537568Z",
     "shell.execute_reply": "2023-05-02T19:20:12.536422Z"
    },
    "papermill": {
     "duration": 1138.36989,
     "end_time": "2023-05-02T19:20:12.883170",
     "exception": false,
     "start_time": "2023-05-02T19:01:14.513280",
     "status": "completed"
    },
    "tags": []
   },
   "outputs": [
    {
     "name": "stdout",
     "output_type": "stream",
     "text": [
      "Epoch 1/10\n"
     ]
    },
    {
     "name": "stderr",
     "output_type": "stream",
     "text": [
      "2023-05-02 19:01:35.148796: E tensorflow/core/grappler/optimizers/meta_optimizer.cc:954] layout failed: INVALID_ARGUMENT: Size of values 0 does not match size of permutation 4 @ fanin shape inmodel/block1b_drop/dropout/SelectV2-2-TransposeNHWCToNCHW-LayoutOptimizer\n"
     ]
    },
    {
     "name": "stdout",
     "output_type": "stream",
     "text": [
      "652/652 [==============================] - 206s 231ms/step - loss: 0.4659 - accuracy: 0.8046 - val_loss: 2.4975 - val_accuracy: 0.6426 - lr: 0.0100\n",
      "Epoch 2/10\n",
      "652/652 [==============================] - 92s 142ms/step - loss: 0.3137 - accuracy: 0.8675 - val_loss: 0.4193 - val_accuracy: 0.8397 - lr: 0.0089\n",
      "Epoch 3/10\n",
      "652/652 [==============================] - 89s 136ms/step - loss: 0.2703 - accuracy: 0.8924 - val_loss: 0.3710 - val_accuracy: 0.8526 - lr: 0.0079\n",
      "Epoch 4/10\n",
      "652/652 [==============================] - 89s 136ms/step - loss: 0.2157 - accuracy: 0.9183 - val_loss: 0.4135 - val_accuracy: 0.8734 - lr: 0.0071\n",
      "Epoch 5/10\n",
      "652/652 [==============================] - 101s 155ms/step - loss: 0.1966 - accuracy: 0.9275 - val_loss: 0.8779 - val_accuracy: 0.6987 - lr: 0.0063\n",
      "Epoch 6/10\n",
      "652/652 [==============================] - 117s 179ms/step - loss: 0.1711 - accuracy: 0.9377 - val_loss: 0.3949 - val_accuracy: 0.8606 - lr: 0.0056\n",
      "Epoch 7/10\n",
      "652/652 [==============================] - 105s 161ms/step - loss: 0.1565 - accuracy: 0.9444 - val_loss: 0.4379 - val_accuracy: 0.8606 - lr: 0.0050\n",
      "Epoch 8/10\n",
      "652/652 [==============================] - 84s 129ms/step - loss: 0.1445 - accuracy: 0.9511 - val_loss: 0.9979 - val_accuracy: 0.7115 - lr: 0.0045\n",
      "Epoch 9/10\n",
      "652/652 [==============================] - 84s 129ms/step - loss: 0.1424 - accuracy: 0.9494 - val_loss: 0.7356 - val_accuracy: 0.7965 - lr: 0.0040\n",
      "Epoch 10/10\n",
      "652/652 [==============================] - 84s 129ms/step - loss: 0.1303 - accuracy: 0.9546 - val_loss: 0.5417 - val_accuracy: 0.8285 - lr: 0.0035\n"
     ]
    }
   ],
   "source": [
    "history = efficientnetb2_model.fit(\n",
    "    train_generator,\n",
    "    epochs=10,\n",
    "    validation_data=validation_generator,\n",
    "    callbacks=[lr_scheduler]\n",
    ")"
   ]
  },
  {
   "cell_type": "code",
   "execution_count": 8,
   "id": "d667fd8c",
   "metadata": {
    "execution": {
     "iopub.execute_input": "2023-05-02T19:20:13.600330Z",
     "iopub.status.busy": "2023-05-02T19:20:13.599974Z",
     "iopub.status.idle": "2023-05-02T19:20:14.622622Z",
     "shell.execute_reply": "2023-05-02T19:20:14.621731Z"
    },
    "papermill": {
     "duration": 1.358447,
     "end_time": "2023-05-02T19:20:14.625004",
     "exception": false,
     "start_time": "2023-05-02T19:20:13.266557",
     "status": "completed"
    },
    "tags": []
   },
   "outputs": [],
   "source": [
    "efficientnetb2_model.save(\"efficientnet_xray_Pneumonia_b2.h5\")"
   ]
  }
 ],
 "metadata": {
  "kernelspec": {
   "display_name": "Python 3",
   "language": "python",
   "name": "python3"
  },
  "language_info": {
   "codemirror_mode": {
    "name": "ipython",
    "version": 3
   },
   "file_extension": ".py",
   "mimetype": "text/x-python",
   "name": "python",
   "nbconvert_exporter": "python",
   "pygments_lexer": "ipython3",
   "version": "3.10.10"
  },
  "papermill": {
   "default_parameters": {},
   "duration": 1168.164424,
   "end_time": "2023-05-02T19:20:17.963053",
   "environment_variables": {},
   "exception": null,
   "input_path": "__notebook__.ipynb",
   "output_path": "__notebook__.ipynb",
   "parameters": {},
   "start_time": "2023-05-02T19:00:49.798629",
   "version": "2.4.0"
  }
 },
 "nbformat": 4,
 "nbformat_minor": 5
}

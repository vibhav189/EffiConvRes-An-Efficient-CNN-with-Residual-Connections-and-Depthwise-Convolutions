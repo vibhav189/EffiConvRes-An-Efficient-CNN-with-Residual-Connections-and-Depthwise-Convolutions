{
 "cells": [
  {
   "cell_type": "code",
   "execution_count": 1,
   "id": "7c6171f7",
   "metadata": {
    "_cell_guid": "b1076dfc-b9ad-4769-8c92-a6c4dae69d19",
    "_uuid": "8f2839f25d086af736a60e9eeb907d3b93b6e0e5",
    "execution": {
     "iopub.execute_input": "2023-04-18T19:56:52.155680Z",
     "iopub.status.busy": "2023-04-18T19:56:52.155192Z",
     "iopub.status.idle": "2023-04-18T19:56:58.740491Z",
     "shell.execute_reply": "2023-04-18T19:56:58.739341Z"
    },
    "papermill": {
     "duration": 6.593376,
     "end_time": "2023-04-18T19:56:58.743215",
     "exception": false,
     "start_time": "2023-04-18T19:56:52.149839",
     "status": "completed"
    },
    "tags": []
   },
   "outputs": [],
   "source": [
    "import tensorflow as tf\n",
    "from tensorflow import keras\n",
    "from tensorflow.keras import layers"
   ]
  },
  {
   "cell_type": "code",
   "execution_count": 2,
   "id": "5ad39a3f",
   "metadata": {
    "execution": {
     "iopub.execute_input": "2023-04-18T19:56:58.751167Z",
     "iopub.status.busy": "2023-04-18T19:56:58.749298Z",
     "iopub.status.idle": "2023-04-18T19:56:58.756234Z",
     "shell.execute_reply": "2023-04-18T19:56:58.755325Z"
    },
    "papermill": {
     "duration": 0.012513,
     "end_time": "2023-04-18T19:56:58.758369",
     "exception": false,
     "start_time": "2023-04-18T19:56:58.745856",
     "status": "completed"
    },
    "tags": []
   },
   "outputs": [],
   "source": [
    "train_datagen = tf.keras.preprocessing.image.ImageDataGenerator(\n",
    "        rescale=1./255,\n",
    "        shear_range=0.2,\n",
    "        zoom_range=0.2,\n",
    "        horizontal_flip=True)\n",
    "\n",
    "test_datagen = tf.keras.preprocessing.image.ImageDataGenerator(rescale=1./255)"
   ]
  },
  {
   "cell_type": "code",
   "execution_count": 3,
   "id": "9c11f460",
   "metadata": {
    "execution": {
     "iopub.execute_input": "2023-04-18T19:56:58.764773Z",
     "iopub.status.busy": "2023-04-18T19:56:58.763775Z",
     "iopub.status.idle": "2023-04-18T19:57:03.278252Z",
     "shell.execute_reply": "2023-04-18T19:57:03.277104Z"
    },
    "papermill": {
     "duration": 4.520416,
     "end_time": "2023-04-18T19:57:03.281052",
     "exception": false,
     "start_time": "2023-04-18T19:56:58.760636",
     "status": "completed"
    },
    "tags": []
   },
   "outputs": [
    {
     "name": "stdout",
     "output_type": "stream",
     "text": [
      "Found 5216 images belonging to 2 classes.\n",
      "Found 624 images belonging to 2 classes.\n"
     ]
    }
   ],
   "source": [
    "train_generator = train_datagen.flow_from_directory(\n",
    "        '/kaggle/input/chest-xray-pneumonia/chest_xray/train/',\n",
    "        target_size=(128, 128),\n",
    "        batch_size=8,\n",
    "        class_mode='binary')\n",
    "\n",
    "validation_generator = train_datagen.flow_from_directory(\n",
    "        '/kaggle/input/chest-xray-pneumonia/chest_xray/test/',\n",
    "        target_size=(128, 128),\n",
    "        batch_size=8,\n",
    "        class_mode='binary')"
   ]
  },
  {
   "cell_type": "code",
   "execution_count": 4,
   "id": "9f6baeb1",
   "metadata": {
    "execution": {
     "iopub.execute_input": "2023-04-18T19:57:03.288186Z",
     "iopub.status.busy": "2023-04-18T19:57:03.287615Z",
     "iopub.status.idle": "2023-04-18T19:57:08.656054Z",
     "shell.execute_reply": "2023-04-18T19:57:08.655040Z"
    },
    "papermill": {
     "duration": 5.375187,
     "end_time": "2023-04-18T19:57:08.659056",
     "exception": false,
     "start_time": "2023-04-18T19:57:03.283869",
     "status": "completed"
    },
    "tags": []
   },
   "outputs": [],
   "source": [
    "efficientnetb3 = tf.keras.applications.efficientnet.EfficientNetB3(include_top=False, weights=None,input_shape=(128, 128, 3), pooling='avg')\n",
    "x4 = tf.keras.layers.Dense(1, activation='sigmoid')(efficientnetb3.output)\n",
    "efficientnetb3_model = tf.keras.Model(efficientnetb3.input, x4)"
   ]
  },
  {
   "cell_type": "code",
   "execution_count": 5,
   "id": "e83a0608",
   "metadata": {
    "execution": {
     "iopub.execute_input": "2023-04-18T19:57:08.665256Z",
     "iopub.status.busy": "2023-04-18T19:57:08.664965Z",
     "iopub.status.idle": "2023-04-18T19:57:08.687327Z",
     "shell.execute_reply": "2023-04-18T19:57:08.686423Z"
    },
    "papermill": {
     "duration": 0.028042,
     "end_time": "2023-04-18T19:57:08.689704",
     "exception": false,
     "start_time": "2023-04-18T19:57:08.661662",
     "status": "completed"
    },
    "tags": []
   },
   "outputs": [],
   "source": [
    "METRICS = [\n",
    "        'accuracy',\n",
    "    ]\n",
    "    \n",
    "efficientnetb3_model.compile(\n",
    "        optimizer='adam',\n",
    "        loss='binary_crossentropy',\n",
    "        metrics=METRICS\n",
    "    )"
   ]
  },
  {
   "cell_type": "code",
   "execution_count": 6,
   "id": "9efa7759",
   "metadata": {
    "execution": {
     "iopub.execute_input": "2023-04-18T19:57:08.695935Z",
     "iopub.status.busy": "2023-04-18T19:57:08.695640Z",
     "iopub.status.idle": "2023-04-18T19:57:08.701904Z",
     "shell.execute_reply": "2023-04-18T19:57:08.701032Z"
    },
    "papermill": {
     "duration": 0.011551,
     "end_time": "2023-04-18T19:57:08.703776",
     "exception": false,
     "start_time": "2023-04-18T19:57:08.692225",
     "status": "completed"
    },
    "tags": []
   },
   "outputs": [],
   "source": [
    "def exponential_decay(lr0, s):\n",
    "    def exponential_decay_fn(epoch):\n",
    "        return lr0 * 0.1 **(epoch / s)\n",
    "    return exponential_decay_fn\n",
    "\n",
    "exponential_decay_fn = exponential_decay(0.01, 20)\n",
    "\n",
    "lr_scheduler = tf.keras.callbacks.LearningRateScheduler(exponential_decay_fn)"
   ]
  },
  {
   "cell_type": "code",
   "execution_count": 7,
   "id": "29136445",
   "metadata": {
    "execution": {
     "iopub.execute_input": "2023-04-18T19:57:08.710218Z",
     "iopub.status.busy": "2023-04-18T19:57:08.709503Z",
     "iopub.status.idle": "2023-04-18T20:18:08.280137Z",
     "shell.execute_reply": "2023-04-18T20:18:08.278754Z"
    },
    "papermill": {
     "duration": 1259.94388,
     "end_time": "2023-04-18T20:18:08.650116",
     "exception": false,
     "start_time": "2023-04-18T19:57:08.706236",
     "status": "completed"
    },
    "tags": []
   },
   "outputs": [
    {
     "name": "stdout",
     "output_type": "stream",
     "text": [
      "Epoch 1/10\n"
     ]
    },
    {
     "name": "stderr",
     "output_type": "stream",
     "text": [
      "2023-04-18 19:57:34.840856: E tensorflow/core/grappler/optimizers/meta_optimizer.cc:954] layout failed: INVALID_ARGUMENT: Size of values 0 does not match size of permutation 4 @ fanin shape inmodel/block1b_drop/dropout/SelectV2-2-TransposeNHWCToNCHW-LayoutOptimizer\n"
     ]
    },
    {
     "name": "stdout",
     "output_type": "stream",
     "text": [
      "652/652 [==============================] - 207s 218ms/step - loss: 0.4714 - accuracy: 0.8006 - val_loss: 1.7619 - val_accuracy: 0.6250 - lr: 0.0100\n",
      "Epoch 2/10\n",
      "652/652 [==============================] - 109s 168ms/step - loss: 0.3119 - accuracy: 0.8654 - val_loss: 0.7039 - val_accuracy: 0.7628 - lr: 0.0089\n",
      "Epoch 3/10\n",
      "652/652 [==============================] - 109s 168ms/step - loss: 0.2514 - accuracy: 0.9018 - val_loss: 0.4379 - val_accuracy: 0.8157 - lr: 0.0079\n",
      "Epoch 4/10\n",
      "652/652 [==============================] - 110s 168ms/step - loss: 0.2280 - accuracy: 0.9082 - val_loss: 0.3575 - val_accuracy: 0.8317 - lr: 0.0071\n",
      "Epoch 5/10\n",
      "652/652 [==============================] - 111s 170ms/step - loss: 0.1989 - accuracy: 0.9275 - val_loss: 0.3884 - val_accuracy: 0.8333 - lr: 0.0063\n",
      "Epoch 6/10\n",
      "652/652 [==============================] - 109s 168ms/step - loss: 0.1786 - accuracy: 0.9363 - val_loss: 0.7856 - val_accuracy: 0.7676 - lr: 0.0056\n",
      "Epoch 7/10\n",
      "652/652 [==============================] - 109s 168ms/step - loss: 0.1709 - accuracy: 0.9396 - val_loss: 0.8215 - val_accuracy: 0.7612 - lr: 0.0050\n",
      "Epoch 8/10\n",
      "652/652 [==============================] - 109s 167ms/step - loss: 0.1667 - accuracy: 0.9379 - val_loss: 0.2690 - val_accuracy: 0.8910 - lr: 0.0045\n",
      "Epoch 9/10\n",
      "652/652 [==============================] - 110s 168ms/step - loss: 0.1441 - accuracy: 0.9513 - val_loss: 0.5793 - val_accuracy: 0.8494 - lr: 0.0040\n",
      "Epoch 10/10\n",
      "652/652 [==============================] - 110s 168ms/step - loss: 0.1310 - accuracy: 0.9536 - val_loss: 1.0643 - val_accuracy: 0.7468 - lr: 0.0035\n"
     ]
    }
   ],
   "source": [
    "history = efficientnetb3_model.fit(\n",
    "    train_generator,\n",
    "    epochs=10,\n",
    "    validation_data=validation_generator,\n",
    "    callbacks=[lr_scheduler]\n",
    ")"
   ]
  },
  {
   "cell_type": "code",
   "execution_count": 8,
   "id": "9e6aad99",
   "metadata": {
    "execution": {
     "iopub.execute_input": "2023-04-18T20:18:09.447761Z",
     "iopub.status.busy": "2023-04-18T20:18:09.447364Z",
     "iopub.status.idle": "2023-04-18T20:18:10.669105Z",
     "shell.execute_reply": "2023-04-18T20:18:10.668038Z"
    },
    "papermill": {
     "duration": 1.663098,
     "end_time": "2023-04-18T20:18:10.671860",
     "exception": false,
     "start_time": "2023-04-18T20:18:09.008762",
     "status": "completed"
    },
    "tags": []
   },
   "outputs": [],
   "source": [
    "efficientnetb3_model.save(\"efficientnet_xray_Pneumonia.h5\")"
   ]
  }
 ],
 "metadata": {
  "kernelspec": {
   "display_name": "Python 3",
   "language": "python",
   "name": "python3"
  },
  "language_info": {
   "codemirror_mode": {
    "name": "ipython",
    "version": 3
   },
   "file_extension": ".py",
   "mimetype": "text/x-python",
   "name": "python",
   "nbconvert_exporter": "python",
   "pygments_lexer": "ipython3",
   "version": "3.7.12"
  },
  "papermill": {
   "default_parameters": {},
   "duration": 1290.729357,
   "end_time": "2023-04-18T20:18:13.903402",
   "environment_variables": {},
   "exception": null,
   "input_path": "__notebook__.ipynb",
   "output_path": "__notebook__.ipynb",
   "parameters": {},
   "start_time": "2023-04-18T19:56:43.174045",
   "version": "2.4.0"
  }
 },
 "nbformat": 4,
 "nbformat_minor": 5
}

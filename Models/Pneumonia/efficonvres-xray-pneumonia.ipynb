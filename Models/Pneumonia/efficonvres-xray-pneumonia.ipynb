{
 "cells": [
  {
   "cell_type": "code",
   "execution_count": 1,
   "id": "b71fd37d",
   "metadata": {
    "_cell_guid": "b1076dfc-b9ad-4769-8c92-a6c4dae69d19",
    "_uuid": "8f2839f25d086af736a60e9eeb907d3b93b6e0e5",
    "execution": {
     "iopub.execute_input": "2023-04-18T15:14:53.476609Z",
     "iopub.status.busy": "2023-04-18T15:14:53.475713Z",
     "iopub.status.idle": "2023-04-18T15:15:00.649080Z",
     "shell.execute_reply": "2023-04-18T15:15:00.647815Z"
    },
    "papermill": {
     "duration": 7.180604,
     "end_time": "2023-04-18T15:15:00.651799",
     "exception": false,
     "start_time": "2023-04-18T15:14:53.471195",
     "status": "completed"
    },
    "tags": []
   },
   "outputs": [],
   "source": [
    "import tensorflow as tf\n",
    "from tensorflow import keras\n",
    "from tensorflow.keras import layers"
   ]
  },
  {
   "cell_type": "code",
   "execution_count": 2,
   "id": "912dd8f7",
   "metadata": {
    "execution": {
     "iopub.execute_input": "2023-04-18T15:15:00.658668Z",
     "iopub.status.busy": "2023-04-18T15:15:00.658000Z",
     "iopub.status.idle": "2023-04-18T15:15:00.663497Z",
     "shell.execute_reply": "2023-04-18T15:15:00.662393Z"
    },
    "papermill": {
     "duration": 0.011096,
     "end_time": "2023-04-18T15:15:00.665691",
     "exception": false,
     "start_time": "2023-04-18T15:15:00.654595",
     "status": "completed"
    },
    "tags": []
   },
   "outputs": [],
   "source": [
    "train_datagen = tf.keras.preprocessing.image.ImageDataGenerator(\n",
    "        rescale=1./255,\n",
    "        shear_range=0.2,\n",
    "        zoom_range=0.2,\n",
    "        horizontal_flip=True)\n",
    "\n",
    "test_datagen = tf.keras.preprocessing.image.ImageDataGenerator(rescale=1./255)"
   ]
  },
  {
   "cell_type": "code",
   "execution_count": 3,
   "id": "da768434",
   "metadata": {
    "execution": {
     "iopub.execute_input": "2023-04-18T15:15:00.671888Z",
     "iopub.status.busy": "2023-04-18T15:15:00.671216Z",
     "iopub.status.idle": "2023-04-18T15:15:03.138719Z",
     "shell.execute_reply": "2023-04-18T15:15:03.137496Z"
    },
    "papermill": {
     "duration": 2.473549,
     "end_time": "2023-04-18T15:15:03.141368",
     "exception": false,
     "start_time": "2023-04-18T15:15:00.667819",
     "status": "completed"
    },
    "tags": []
   },
   "outputs": [
    {
     "name": "stdout",
     "output_type": "stream",
     "text": [
      "Found 5216 images belonging to 2 classes.\n",
      "Found 624 images belonging to 2 classes.\n"
     ]
    }
   ],
   "source": [
    "train_generator = train_datagen.flow_from_directory(\n",
    "        '/kaggle/input/chest-xray-pneumonia/chest_xray/train/',\n",
    "        target_size=(128, 128),\n",
    "        batch_size=8,\n",
    "        class_mode='binary')\n",
    "\n",
    "validation_generator = train_datagen.flow_from_directory(\n",
    "        '/kaggle/input/chest-xray-pneumonia/chest_xray/test/',\n",
    "        target_size=(128, 128),\n",
    "        batch_size=8,\n",
    "        class_mode='binary')"
   ]
  },
  {
   "cell_type": "code",
   "execution_count": 4,
   "id": "3f84fb48",
   "metadata": {
    "execution": {
     "iopub.execute_input": "2023-04-18T15:15:03.149029Z",
     "iopub.status.busy": "2023-04-18T15:15:03.148073Z",
     "iopub.status.idle": "2023-04-18T15:15:06.553735Z",
     "shell.execute_reply": "2023-04-18T15:15:06.552654Z"
    },
    "papermill": {
     "duration": 3.411972,
     "end_time": "2023-04-18T15:15:06.556398",
     "exception": false,
     "start_time": "2023-04-18T15:15:03.144426",
     "status": "completed"
    },
    "tags": []
   },
   "outputs": [],
   "source": [
    "def efficonvres(projection_dim):\n",
    "\n",
    "    def apply(inputs):\n",
    "        x_input = inputs\n",
    "\n",
    "        x = layers.Conv2D(filters=projection_dim,kernel_size=3,padding=\"same\",groups=projection_dim)(x_input)\n",
    "\n",
    "        x1 = layers.DepthwiseConv2D(3, padding=\"same\", use_bias=False)(x)\n",
    "        x1 = layers.BatchNormalization(3)(x1)\n",
    "        x1 = layers.Activation(\"swish\")(x1)\n",
    "\n",
    "        x1 = layers.DepthwiseConv2D(3, padding=\"same\", use_bias=False)(x1)\n",
    "        x1 = layers.LayerNormalization(epsilon=1e-6)(x1)\n",
    "        x1 = layers.Activation(\"gelu\")(x1)\n",
    "\n",
    "        x = layers.LayerNormalization(epsilon=1e-6)(x)\n",
    "        x = layers.Dense(4 * projection_dim)(x)\n",
    "        x = layers.Activation(\"gelu\")(x)\n",
    "        x = layers.Dense(projection_dim)(x)\n",
    "\n",
    "        x = tf.keras.layers.Add()([x, x1])\n",
    "        return x\n",
    "    return apply\n",
    "\n",
    "dims = [32, 64, 128, 256]\n",
    "inputs = tf.keras.Input(shape=(128, 128, 3))\n",
    "x = layers.Conv2D(filters=128,kernel_size=3,padding=\"same\", activation='gelu')(inputs)\n",
    "for i in range(4):\n",
    "    x = layers.Conv2D(filters=dims[i],kernel_size=3,padding=\"same\", activation='gelu')(x)\n",
    "    x = efficonvres(dims[i])(x)\n",
    "x = layers.GlobalAveragePooling2D(name=\"avg_pool\")(x)\n",
    "output = layers.Dense(1, activation='sigmoid')(x)\n",
    "model = keras.Model(inputs=inputs, outputs=output)"
   ]
  },
  {
   "cell_type": "code",
   "execution_count": 5,
   "id": "427c4813",
   "metadata": {
    "execution": {
     "iopub.execute_input": "2023-04-18T15:15:06.564240Z",
     "iopub.status.busy": "2023-04-18T15:15:06.562879Z",
     "iopub.status.idle": "2023-04-18T15:15:06.580130Z",
     "shell.execute_reply": "2023-04-18T15:15:06.579215Z"
    },
    "papermill": {
     "duration": 0.023126,
     "end_time": "2023-04-18T15:15:06.582266",
     "exception": false,
     "start_time": "2023-04-18T15:15:06.559140",
     "status": "completed"
    },
    "tags": []
   },
   "outputs": [],
   "source": [
    "METRICS = [\n",
    "        'accuracy',\n",
    "    ]\n",
    "    \n",
    "model.compile(\n",
    "        optimizer=tf.keras.optimizers.Adam(learning_rate=1e-6),\n",
    "        loss='binary_crossentropy',\n",
    "        metrics=METRICS\n",
    "    )"
   ]
  },
  {
   "cell_type": "code",
   "execution_count": 6,
   "id": "bc5d1b49",
   "metadata": {
    "execution": {
     "iopub.execute_input": "2023-04-18T15:15:06.588837Z",
     "iopub.status.busy": "2023-04-18T15:15:06.588004Z",
     "iopub.status.idle": "2023-04-18T16:04:54.724492Z",
     "shell.execute_reply": "2023-04-18T16:04:54.723450Z"
    },
    "papermill": {
     "duration": 2988.546287,
     "end_time": "2023-04-18T16:04:55.131127",
     "exception": false,
     "start_time": "2023-04-18T15:15:06.584840",
     "status": "completed"
    },
    "tags": []
   },
   "outputs": [
    {
     "name": "stdout",
     "output_type": "stream",
     "text": [
      "Epoch 1/10\n",
      "652/652 [==============================] - 314s 445ms/step - loss: 0.5156 - accuracy: 0.7349 - val_loss: 0.6407 - val_accuracy: 0.6250\n",
      "Epoch 2/10\n",
      "652/652 [==============================] - 288s 441ms/step - loss: 0.4389 - accuracy: 0.7506 - val_loss: 0.5263 - val_accuracy: 0.6619\n",
      "Epoch 3/10\n",
      "652/652 [==============================] - 288s 442ms/step - loss: 0.3874 - accuracy: 0.7889 - val_loss: 0.4752 - val_accuracy: 0.7564\n",
      "Epoch 4/10\n",
      "652/652 [==============================] - 288s 441ms/step - loss: 0.3508 - accuracy: 0.8363 - val_loss: 0.4439 - val_accuracy: 0.7853\n",
      "Epoch 5/10\n",
      "652/652 [==============================] - 288s 441ms/step - loss: 0.3230 - accuracy: 0.8660 - val_loss: 0.5641 - val_accuracy: 0.6875\n",
      "Epoch 6/10\n",
      "652/652 [==============================] - 288s 441ms/step - loss: 0.3035 - accuracy: 0.8752 - val_loss: 0.5430 - val_accuracy: 0.7099\n",
      "Epoch 7/10\n",
      "652/652 [==============================] - 288s 441ms/step - loss: 0.2888 - accuracy: 0.8829 - val_loss: 0.4803 - val_accuracy: 0.7740\n",
      "Epoch 8/10\n",
      "652/652 [==============================] - 288s 441ms/step - loss: 0.2802 - accuracy: 0.8800 - val_loss: 0.4999 - val_accuracy: 0.7772\n",
      "Epoch 9/10\n",
      "652/652 [==============================] - 288s 441ms/step - loss: 0.2720 - accuracy: 0.8873 - val_loss: 0.5481 - val_accuracy: 0.7372\n",
      "Epoch 10/10\n",
      "652/652 [==============================] - 288s 441ms/step - loss: 0.2653 - accuracy: 0.8907 - val_loss: 0.5109 - val_accuracy: 0.7708\n"
     ]
    }
   ],
   "source": [
    "history = model.fit(\n",
    "    train_generator,\n",
    "    epochs=10,\n",
    "    validation_data=validation_generator,\n",
    ")"
   ]
  },
  {
   "cell_type": "code",
   "execution_count": 7,
   "id": "debb9514",
   "metadata": {
    "execution": {
     "iopub.execute_input": "2023-04-18T16:04:55.916172Z",
     "iopub.status.busy": "2023-04-18T16:04:55.915741Z",
     "iopub.status.idle": "2023-04-18T16:04:56.219689Z",
     "shell.execute_reply": "2023-04-18T16:04:56.218604Z"
    },
    "papermill": {
     "duration": 0.745543,
     "end_time": "2023-04-18T16:04:56.222975",
     "exception": false,
     "start_time": "2023-04-18T16:04:55.477432",
     "status": "completed"
    },
    "tags": []
   },
   "outputs": [],
   "source": [
    "model.save(\"efficonvres_Pneumonia.h5\")"
   ]
  },
  {
   "cell_type": "code",
   "execution_count": 8,
   "id": "fa80ef15",
   "metadata": {
    "execution": {
     "iopub.execute_input": "2023-04-18T16:04:57.377598Z",
     "iopub.status.busy": "2023-04-18T16:04:57.377185Z",
     "iopub.status.idle": "2023-04-18T16:05:18.061419Z",
     "shell.execute_reply": "2023-04-18T16:05:18.060433Z"
    },
    "papermill": {
     "duration": 21.290516,
     "end_time": "2023-04-18T16:05:18.063767",
     "exception": false,
     "start_time": "2023-04-18T16:04:56.773251",
     "status": "completed"
    },
    "tags": []
   },
   "outputs": [
    {
     "name": "stdout",
     "output_type": "stream",
     "text": [
      "Found 624 images belonging to 2 classes.\n",
      "78/78 [==============================] - 11s 140ms/step - loss: 0.4154 - accuracy: 0.8045\n"
     ]
    },
    {
     "data": {
      "text/plain": [
       "[0.4153989255428314, 0.8044871687889099]"
      ]
     },
     "execution_count": 8,
     "metadata": {},
     "output_type": "execute_result"
    }
   ],
   "source": [
    "test_generator = test_datagen.flow_from_directory(\n",
    "        '/kaggle/input/chest-xray-pneumonia/chest_xray/test/',\n",
    "        target_size=(128, 128),\n",
    "        batch_size=8,\n",
    "        class_mode='binary')\n",
    "\n",
    "model.evaluate(test_generator)"
   ]
  }
 ],
 "metadata": {
  "kernelspec": {
   "display_name": "Python 3",
   "language": "python",
   "name": "python3"
  },
  "language_info": {
   "codemirror_mode": {
    "name": "ipython",
    "version": 3
   },
   "file_extension": ".py",
   "mimetype": "text/x-python",
   "name": "python",
   "nbconvert_exporter": "python",
   "pygments_lexer": "ipython3",
   "version": "3.7.12"
  },
  "papermill": {
   "default_parameters": {},
   "duration": 3037.353543,
   "end_time": "2023-04-18T16:05:21.716934",
   "environment_variables": {},
   "exception": null,
   "input_path": "__notebook__.ipynb",
   "output_path": "__notebook__.ipynb",
   "parameters": {},
   "start_time": "2023-04-18T15:14:44.363391",
   "version": "2.4.0"
  }
 },
 "nbformat": 4,
 "nbformat_minor": 5
}

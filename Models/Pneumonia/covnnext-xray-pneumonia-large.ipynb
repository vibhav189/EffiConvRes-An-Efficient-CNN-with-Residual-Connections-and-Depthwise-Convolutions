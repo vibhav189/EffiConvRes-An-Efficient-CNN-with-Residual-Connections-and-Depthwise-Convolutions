{
 "cells": [
  {
   "cell_type": "code",
   "execution_count": 1,
   "id": "c751eabd",
   "metadata": {
    "execution": {
     "iopub.execute_input": "2023-05-03T09:11:58.565717Z",
     "iopub.status.busy": "2023-05-03T09:11:58.564714Z",
     "iopub.status.idle": "2023-05-03T09:12:19.853267Z",
     "shell.execute_reply": "2023-05-03T09:12:19.852155Z"
    },
    "papermill": {
     "duration": 21.295607,
     "end_time": "2023-05-03T09:12:19.856102",
     "exception": false,
     "start_time": "2023-05-03T09:11:58.560495",
     "status": "completed"
    },
    "tags": []
   },
   "outputs": [
    {
     "name": "stdout",
     "output_type": "stream",
     "text": [
      "\u001b[31mERROR: pip's dependency resolver does not currently take into account all the packages that are installed. This behaviour is the source of the following dependency conflicts.\r\n",
      "cudf 23.4.0 requires cupy-cuda11x<12.0.0a0,>=9.5.0, which is not installed.\r\n",
      "onnx 1.13.1 requires protobuf<4,>=3.20.2, but you have protobuf 3.19.6 which is incompatible.\r\n",
      "kfp 1.8.20 requires google-api-python-client<2,>=1.7.8, but you have google-api-python-client 2.86.0 which is incompatible.\r\n",
      "kfp 1.8.20 requires PyYAML<6,>=5.3, but you have pyyaml 6.0 which is incompatible.\r\n",
      "gcsfs 2023.3.0 requires fsspec==2023.3.0, but you have fsspec 2023.4.0 which is incompatible.\r\n",
      "cudf 23.4.0 requires protobuf<4.22,>=4.21.6, but you have protobuf 3.19.6 which is incompatible.\r\n",
      "beatrix-jupyterlab 2023.46.184821 requires jupyter-server~=1.16, but you have jupyter-server 2.5.0 which is incompatible.\r\n",
      "apache-beam 2.46.0 requires dill<0.3.2,>=0.3.1.1, but you have dill 0.3.6 which is incompatible.\r\n",
      "apache-beam 2.46.0 requires pyarrow<10.0.0,>=3.0.0, but you have pyarrow 10.0.1 which is incompatible.\u001b[0m\u001b[31m\r\n",
      "\u001b[0m\u001b[33mWARNING: Running pip as the 'root' user can result in broken permissions and conflicting behaviour with the system package manager. It is recommended to use a virtual environment instead: https://pip.pypa.io/warnings/venv\u001b[0m\u001b[33m\r\n",
      "\u001b[0m"
     ]
    }
   ],
   "source": [
    "!pip install keras_cv_attention_models -q"
   ]
  },
  {
   "cell_type": "code",
   "execution_count": 2,
   "id": "cf4de937",
   "metadata": {
    "_cell_guid": "b1076dfc-b9ad-4769-8c92-a6c4dae69d19",
    "_uuid": "8f2839f25d086af736a60e9eeb907d3b93b6e0e5",
    "execution": {
     "iopub.execute_input": "2023-05-03T09:12:19.862974Z",
     "iopub.status.busy": "2023-05-03T09:12:19.862652Z",
     "iopub.status.idle": "2023-05-03T09:12:25.787476Z",
     "shell.execute_reply": "2023-05-03T09:12:25.786489Z"
    },
    "papermill": {
     "duration": 5.931194,
     "end_time": "2023-05-03T09:12:25.790047",
     "exception": false,
     "start_time": "2023-05-03T09:12:19.858853",
     "status": "completed"
    },
    "tags": []
   },
   "outputs": [
    {
     "name": "stderr",
     "output_type": "stream",
     "text": [
      "/opt/conda/lib/python3.10/site-packages/scipy/__init__.py:146: UserWarning: A NumPy version >=1.16.5 and <1.23.0 is required for this version of SciPy (detected version 1.23.5\n",
      "  warnings.warn(f\"A NumPy version >={np_minversion} and <{np_maxversion}\"\n"
     ]
    }
   ],
   "source": [
    "import tensorflow as tf\n",
    "from tensorflow import keras\n",
    "from tensorflow.keras import layers\n",
    "from keras_cv_attention_models import convnext"
   ]
  },
  {
   "cell_type": "code",
   "execution_count": 3,
   "id": "e5d1da2e",
   "metadata": {
    "execution": {
     "iopub.execute_input": "2023-05-03T09:12:25.796813Z",
     "iopub.status.busy": "2023-05-03T09:12:25.796215Z",
     "iopub.status.idle": "2023-05-03T09:12:25.801192Z",
     "shell.execute_reply": "2023-05-03T09:12:25.800291Z"
    },
    "papermill": {
     "duration": 0.010335,
     "end_time": "2023-05-03T09:12:25.803049",
     "exception": false,
     "start_time": "2023-05-03T09:12:25.792714",
     "status": "completed"
    },
    "tags": []
   },
   "outputs": [],
   "source": [
    "train_datagen = tf.keras.preprocessing.image.ImageDataGenerator(\n",
    "        rescale=1./255,\n",
    "        shear_range=0.2,\n",
    "        zoom_range=0.2,\n",
    "        horizontal_flip=True)\n",
    "\n",
    "test_datagen = tf.keras.preprocessing.image.ImageDataGenerator(rescale=1./255)"
   ]
  },
  {
   "cell_type": "code",
   "execution_count": 4,
   "id": "f7c0d624",
   "metadata": {
    "execution": {
     "iopub.execute_input": "2023-05-03T09:12:25.809466Z",
     "iopub.status.busy": "2023-05-03T09:12:25.808931Z",
     "iopub.status.idle": "2023-05-03T09:12:28.537360Z",
     "shell.execute_reply": "2023-05-03T09:12:28.536472Z"
    },
    "papermill": {
     "duration": 2.733907,
     "end_time": "2023-05-03T09:12:28.539463",
     "exception": false,
     "start_time": "2023-05-03T09:12:25.805556",
     "status": "completed"
    },
    "tags": []
   },
   "outputs": [
    {
     "name": "stdout",
     "output_type": "stream",
     "text": [
      "Found 5216 images belonging to 2 classes.\n",
      "Found 624 images belonging to 2 classes.\n"
     ]
    }
   ],
   "source": [
    "train_generator = train_datagen.flow_from_directory(\n",
    "        '/kaggle/input/chest-xray-pneumonia/chest_xray/train/',\n",
    "        target_size=(128, 128),\n",
    "        batch_size=8,\n",
    "        class_mode='binary')\n",
    "\n",
    "validation_generator = train_datagen.flow_from_directory(\n",
    "        '/kaggle/input/chest-xray-pneumonia/chest_xray/test/',\n",
    "        target_size=(128, 128),\n",
    "        batch_size=8,\n",
    "        class_mode='binary')"
   ]
  },
  {
   "cell_type": "code",
   "execution_count": 5,
   "id": "dc16f4c2",
   "metadata": {
    "execution": {
     "iopub.execute_input": "2023-05-03T09:12:28.545844Z",
     "iopub.status.busy": "2023-05-03T09:12:28.545559Z",
     "iopub.status.idle": "2023-05-03T09:12:34.032503Z",
     "shell.execute_reply": "2023-05-03T09:12:34.031592Z"
    },
    "papermill": {
     "duration": 5.4929,
     "end_time": "2023-05-03T09:12:34.035037",
     "exception": false,
     "start_time": "2023-05-03T09:12:28.542137",
     "status": "completed"
    },
    "tags": []
   },
   "outputs": [],
   "source": [
    "convnext_base = convnext.ConvNeXtLarge(input_shape=(128, 128, 3), pretrained=None, num_classes=0)\n",
    "x = tf.keras.layers.GlobalAveragePooling2D()(convnext_base.output)\n",
    "x = tf.keras.layers.Dense(1, activation='sigmoid')(x)\n",
    "convnext_base_model = tf.keras.Model(convnext_base.input, x)"
   ]
  },
  {
   "cell_type": "code",
   "execution_count": 6,
   "id": "d63b817f",
   "metadata": {
    "execution": {
     "iopub.execute_input": "2023-05-03T09:12:34.042309Z",
     "iopub.status.busy": "2023-05-03T09:12:34.041505Z",
     "iopub.status.idle": "2023-05-03T09:12:34.063369Z",
     "shell.execute_reply": "2023-05-03T09:12:34.062512Z"
    },
    "papermill": {
     "duration": 0.027812,
     "end_time": "2023-05-03T09:12:34.065608",
     "exception": false,
     "start_time": "2023-05-03T09:12:34.037796",
     "status": "completed"
    },
    "tags": []
   },
   "outputs": [],
   "source": [
    "METRICS = [\n",
    "        'accuracy',\n",
    "    ]\n",
    "    \n",
    "convnext_base_model.compile(\n",
    "        optimizer='adam',\n",
    "        loss='binary_crossentropy',\n",
    "        metrics=METRICS\n",
    "    )"
   ]
  },
  {
   "cell_type": "code",
   "execution_count": 7,
   "id": "722ffa4a",
   "metadata": {
    "execution": {
     "iopub.execute_input": "2023-05-03T09:12:34.073602Z",
     "iopub.status.busy": "2023-05-03T09:12:34.071864Z",
     "iopub.status.idle": "2023-05-03T09:12:34.077924Z",
     "shell.execute_reply": "2023-05-03T09:12:34.076991Z"
    },
    "papermill": {
     "duration": 0.011671,
     "end_time": "2023-05-03T09:12:34.079883",
     "exception": false,
     "start_time": "2023-05-03T09:12:34.068212",
     "status": "completed"
    },
    "tags": []
   },
   "outputs": [],
   "source": [
    "def exponential_decay(lr0, s):\n",
    "    def exponential_decay_fn(epoch):\n",
    "        return lr0 * 0.1 **(epoch / s)\n",
    "    return exponential_decay_fn\n",
    "\n",
    "exponential_decay_fn = exponential_decay(0.01, 20)\n",
    "\n",
    "lr_scheduler = tf.keras.callbacks.LearningRateScheduler(exponential_decay_fn)"
   ]
  },
  {
   "cell_type": "code",
   "execution_count": 8,
   "id": "6bb5bc78",
   "metadata": {
    "execution": {
     "iopub.execute_input": "2023-05-03T09:12:34.086166Z",
     "iopub.status.busy": "2023-05-03T09:12:34.085884Z",
     "iopub.status.idle": "2023-05-03T09:37:31.291418Z",
     "shell.execute_reply": "2023-05-03T09:37:31.290446Z"
    },
    "papermill": {
     "duration": 1497.211295,
     "end_time": "2023-05-03T09:37:31.293788",
     "exception": false,
     "start_time": "2023-05-03T09:12:34.082493",
     "status": "completed"
    },
    "tags": []
   },
   "outputs": [
    {
     "name": "stdout",
     "output_type": "stream",
     "text": [
      "Epoch 1/8\n"
     ]
    },
    {
     "name": "stderr",
     "output_type": "stream",
     "text": [
      "2023-05-03 09:13:07.271697: E tensorflow/core/grappler/optimizers/meta_optimizer.cc:954] layout failed: INVALID_ARGUMENT: Size of values 0 does not match size of permutation 4 @ fanin shape inmodel/stack1_block2_drop/dropout/SelectV2-2-TransposeNHWCToNCHW-LayoutOptimizer\n"
     ]
    },
    {
     "name": "stdout",
     "output_type": "stream",
     "text": [
      "652/652 [==============================] - 244s 261ms/step - loss: 22.9183 - accuracy: 0.6979 - val_loss: 48.2904 - val_accuracy: 0.3750 - lr: 0.0100\n",
      "Epoch 2/8\n",
      "652/652 [==============================] - 160s 246ms/step - loss: 68.1244 - accuracy: 0.6204 - val_loss: 2.7274 - val_accuracy: 0.6250 - lr: 0.0089\n",
      "Epoch 3/8\n",
      "652/652 [==============================] - 161s 247ms/step - loss: 10.6543 - accuracy: 0.6267 - val_loss: 1.5338 - val_accuracy: 0.6250 - lr: 0.0079\n",
      "Epoch 4/8\n",
      "652/652 [==============================] - 161s 247ms/step - loss: 2.9135 - accuracy: 0.6308 - val_loss: 0.6983 - val_accuracy: 0.6250 - lr: 0.0071\n",
      "Epoch 5/8\n",
      "652/652 [==============================] - 162s 249ms/step - loss: 5.1191 - accuracy: 0.6323 - val_loss: 1.8912 - val_accuracy: 0.6250 - lr: 0.0063\n",
      "Epoch 6/8\n",
      "652/652 [==============================] - 162s 248ms/step - loss: 1.0686 - accuracy: 0.6384 - val_loss: 0.6794 - val_accuracy: 0.6250 - lr: 0.0056\n",
      "Epoch 7/8\n",
      "652/652 [==============================] - 163s 249ms/step - loss: 0.8245 - accuracy: 0.6658 - val_loss: 1.2134 - val_accuracy: 0.3750 - lr: 0.0050\n",
      "Epoch 8/8\n",
      "652/652 [==============================] - 163s 250ms/step - loss: 0.6755 - accuracy: 0.6956 - val_loss: 0.9741 - val_accuracy: 0.6250 - lr: 0.0045\n"
     ]
    }
   ],
   "source": [
    "history = convnext_base_model.fit(\n",
    "    train_generator,\n",
    "    epochs=8,\n",
    "    validation_data=validation_generator,\n",
    "    callbacks=[lr_scheduler]\n",
    ")"
   ]
  },
  {
   "cell_type": "code",
   "execution_count": 9,
   "id": "70c5ea3a",
   "metadata": {
    "execution": {
     "iopub.execute_input": "2023-05-03T09:37:31.891339Z",
     "iopub.status.busy": "2023-05-03T09:37:31.890962Z",
     "iopub.status.idle": "2023-05-03T09:37:40.637559Z",
     "shell.execute_reply": "2023-05-03T09:37:40.636489Z"
    },
    "papermill": {
     "duration": 9.020884,
     "end_time": "2023-05-03T09:37:40.640128",
     "exception": false,
     "start_time": "2023-05-03T09:37:31.619244",
     "status": "completed"
    },
    "tags": []
   },
   "outputs": [],
   "source": [
    "convnext_base_model.save(\"CovnNeXT_xray_Pneumonia_large.h5\")"
   ]
  }
 ],
 "metadata": {
  "kernelspec": {
   "display_name": "Python 3",
   "language": "python",
   "name": "python3"
  },
  "language_info": {
   "codemirror_mode": {
    "name": "ipython",
    "version": 3
   },
   "file_extension": ".py",
   "mimetype": "text/x-python",
   "name": "python",
   "nbconvert_exporter": "python",
   "pygments_lexer": "ipython3",
   "version": "3.10.10"
  },
  "papermill": {
   "default_parameters": {},
   "duration": 1556.495986,
   "end_time": "2023-05-03T09:37:46.014649",
   "environment_variables": {},
   "exception": null,
   "input_path": "__notebook__.ipynb",
   "output_path": "__notebook__.ipynb",
   "parameters": {},
   "start_time": "2023-05-03T09:11:49.518663",
   "version": "2.4.0"
  }
 },
 "nbformat": 4,
 "nbformat_minor": 5
}

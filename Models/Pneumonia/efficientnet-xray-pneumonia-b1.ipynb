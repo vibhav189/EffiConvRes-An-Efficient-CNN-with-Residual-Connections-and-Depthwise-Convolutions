{
 "cells": [
  {
   "cell_type": "code",
   "execution_count": 1,
   "id": "f3e36e20",
   "metadata": {
    "_cell_guid": "b1076dfc-b9ad-4769-8c92-a6c4dae69d19",
    "_uuid": "8f2839f25d086af736a60e9eeb907d3b93b6e0e5",
    "execution": {
     "iopub.execute_input": "2023-05-02T18:52:50.689516Z",
     "iopub.status.busy": "2023-05-02T18:52:50.688660Z",
     "iopub.status.idle": "2023-05-02T18:52:57.357928Z",
     "shell.execute_reply": "2023-05-02T18:52:57.356999Z"
    },
    "papermill": {
     "duration": 6.676297,
     "end_time": "2023-05-02T18:52:57.360178",
     "exception": false,
     "start_time": "2023-05-02T18:52:50.683881",
     "status": "completed"
    },
    "tags": []
   },
   "outputs": [
    {
     "name": "stderr",
     "output_type": "stream",
     "text": [
      "/opt/conda/lib/python3.10/site-packages/scipy/__init__.py:146: UserWarning: A NumPy version >=1.16.5 and <1.23.0 is required for this version of SciPy (detected version 1.23.5\n",
      "  warnings.warn(f\"A NumPy version >={np_minversion} and <{np_maxversion}\"\n"
     ]
    }
   ],
   "source": [
    "import tensorflow as tf\n",
    "from tensorflow import keras\n",
    "from tensorflow.keras import layers"
   ]
  },
  {
   "cell_type": "code",
   "execution_count": 2,
   "id": "bf2a653b",
   "metadata": {
    "execution": {
     "iopub.execute_input": "2023-05-02T18:52:57.367512Z",
     "iopub.status.busy": "2023-05-02T18:52:57.366286Z",
     "iopub.status.idle": "2023-05-02T18:52:57.371654Z",
     "shell.execute_reply": "2023-05-02T18:52:57.370900Z"
    },
    "papermill": {
     "duration": 0.010713,
     "end_time": "2023-05-02T18:52:57.373455",
     "exception": false,
     "start_time": "2023-05-02T18:52:57.362742",
     "status": "completed"
    },
    "tags": []
   },
   "outputs": [],
   "source": [
    "train_datagen = tf.keras.preprocessing.image.ImageDataGenerator(\n",
    "        rescale=1./255,\n",
    "        shear_range=0.2,\n",
    "        zoom_range=0.2,\n",
    "        horizontal_flip=True)\n",
    "\n",
    "test_datagen = tf.keras.preprocessing.image.ImageDataGenerator(rescale=1./255)"
   ]
  },
  {
   "cell_type": "code",
   "execution_count": 3,
   "id": "07820591",
   "metadata": {
    "execution": {
     "iopub.execute_input": "2023-05-02T18:52:57.378776Z",
     "iopub.status.busy": "2023-05-02T18:52:57.378512Z",
     "iopub.status.idle": "2023-05-02T18:53:01.671038Z",
     "shell.execute_reply": "2023-05-02T18:53:01.670182Z"
    },
    "papermill": {
     "duration": 4.297265,
     "end_time": "2023-05-02T18:53:01.672860",
     "exception": false,
     "start_time": "2023-05-02T18:52:57.375595",
     "status": "completed"
    },
    "tags": []
   },
   "outputs": [
    {
     "name": "stdout",
     "output_type": "stream",
     "text": [
      "Found 5216 images belonging to 2 classes.\n",
      "Found 624 images belonging to 2 classes.\n"
     ]
    }
   ],
   "source": [
    "train_generator = train_datagen.flow_from_directory(\n",
    "        '/kaggle/input/chest-xray-pneumonia/chest_xray/train/',\n",
    "        target_size=(128, 128),\n",
    "        batch_size=8,\n",
    "        class_mode='binary')\n",
    "\n",
    "validation_generator = train_datagen.flow_from_directory(\n",
    "        '/kaggle/input/chest-xray-pneumonia/chest_xray/test/',\n",
    "        target_size=(128, 128),\n",
    "        batch_size=8,\n",
    "        class_mode='binary')"
   ]
  },
  {
   "cell_type": "code",
   "execution_count": 4,
   "id": "3df751e7",
   "metadata": {
    "execution": {
     "iopub.execute_input": "2023-05-02T18:53:01.679571Z",
     "iopub.status.busy": "2023-05-02T18:53:01.678829Z",
     "iopub.status.idle": "2023-05-02T18:53:06.659702Z",
     "shell.execute_reply": "2023-05-02T18:53:06.658807Z"
    },
    "papermill": {
     "duration": 4.986446,
     "end_time": "2023-05-02T18:53:06.661926",
     "exception": false,
     "start_time": "2023-05-02T18:53:01.675480",
     "status": "completed"
    },
    "tags": []
   },
   "outputs": [],
   "source": [
    "efficientnetb3 = tf.keras.applications.efficientnet.EfficientNetB1(include_top=False, weights=None,input_shape=(128, 128, 3), pooling='avg')\n",
    "x4 = tf.keras.layers.Dense(1, activation='sigmoid')(efficientnetb3.output)\n",
    "efficientnetb3_model = tf.keras.Model(efficientnetb3.input, x4)"
   ]
  },
  {
   "cell_type": "code",
   "execution_count": 5,
   "id": "1be2f84e",
   "metadata": {
    "execution": {
     "iopub.execute_input": "2023-05-02T18:53:06.668953Z",
     "iopub.status.busy": "2023-05-02T18:53:06.668059Z",
     "iopub.status.idle": "2023-05-02T18:53:06.690798Z",
     "shell.execute_reply": "2023-05-02T18:53:06.689642Z"
    },
    "papermill": {
     "duration": 0.028309,
     "end_time": "2023-05-02T18:53:06.692897",
     "exception": false,
     "start_time": "2023-05-02T18:53:06.664588",
     "status": "completed"
    },
    "tags": []
   },
   "outputs": [],
   "source": [
    "METRICS = [\n",
    "        'accuracy',\n",
    "    ]\n",
    "    \n",
    "efficientnetb3_model.compile(\n",
    "        optimizer='adam',\n",
    "        loss='binary_crossentropy',\n",
    "        metrics=METRICS\n",
    "    )"
   ]
  },
  {
   "cell_type": "code",
   "execution_count": 6,
   "id": "ce3aa5c4",
   "metadata": {
    "execution": {
     "iopub.execute_input": "2023-05-02T18:53:06.699125Z",
     "iopub.status.busy": "2023-05-02T18:53:06.698648Z",
     "iopub.status.idle": "2023-05-02T18:53:06.703709Z",
     "shell.execute_reply": "2023-05-02T18:53:06.702771Z"
    },
    "papermill": {
     "duration": 0.010366,
     "end_time": "2023-05-02T18:53:06.705785",
     "exception": false,
     "start_time": "2023-05-02T18:53:06.695419",
     "status": "completed"
    },
    "tags": []
   },
   "outputs": [],
   "source": [
    "def exponential_decay(lr0, s):\n",
    "    def exponential_decay_fn(epoch):\n",
    "        return lr0 * 0.1 **(epoch / s)\n",
    "    return exponential_decay_fn\n",
    "\n",
    "exponential_decay_fn = exponential_decay(0.01, 20)\n",
    "\n",
    "lr_scheduler = tf.keras.callbacks.LearningRateScheduler(exponential_decay_fn)"
   ]
  },
  {
   "cell_type": "code",
   "execution_count": 7,
   "id": "3a22cd77",
   "metadata": {
    "execution": {
     "iopub.execute_input": "2023-05-02T18:53:06.711271Z",
     "iopub.status.busy": "2023-05-02T18:53:06.711025Z",
     "iopub.status.idle": "2023-05-02T19:09:25.206826Z",
     "shell.execute_reply": "2023-05-02T19:09:25.205902Z"
    },
    "papermill": {
     "duration": 978.835955,
     "end_time": "2023-05-02T19:09:25.543965",
     "exception": false,
     "start_time": "2023-05-02T18:53:06.708010",
     "status": "completed"
    },
    "tags": []
   },
   "outputs": [
    {
     "name": "stdout",
     "output_type": "stream",
     "text": [
      "Epoch 1/10\n"
     ]
    },
    {
     "name": "stderr",
     "output_type": "stream",
     "text": [
      "2023-05-02 18:53:27.450430: E tensorflow/core/grappler/optimizers/meta_optimizer.cc:954] layout failed: INVALID_ARGUMENT: Size of values 0 does not match size of permutation 4 @ fanin shape inmodel/block1b_drop/dropout/SelectV2-2-TransposeNHWCToNCHW-LayoutOptimizer\n"
     ]
    },
    {
     "name": "stdout",
     "output_type": "stream",
     "text": [
      "652/652 [==============================] - 171s 179ms/step - loss: 0.4660 - accuracy: 0.8023 - val_loss: 2.8033 - val_accuracy: 0.6250 - lr: 0.0100\n",
      "Epoch 2/10\n",
      "652/652 [==============================] - 84s 128ms/step - loss: 0.2860 - accuracy: 0.8827 - val_loss: 0.3938 - val_accuracy: 0.8478 - lr: 0.0089\n",
      "Epoch 3/10\n",
      "652/652 [==============================] - 83s 128ms/step - loss: 0.2480 - accuracy: 0.8986 - val_loss: 0.6068 - val_accuracy: 0.8109 - lr: 0.0079\n",
      "Epoch 4/10\n",
      "652/652 [==============================] - 84s 128ms/step - loss: 0.2023 - accuracy: 0.9239 - val_loss: 1.2061 - val_accuracy: 0.7676 - lr: 0.0071\n",
      "Epoch 5/10\n",
      "652/652 [==============================] - 84s 128ms/step - loss: 0.1820 - accuracy: 0.9342 - val_loss: 0.4013 - val_accuracy: 0.8141 - lr: 0.0063\n",
      "Epoch 6/10\n",
      "652/652 [==============================] - 83s 127ms/step - loss: 0.1665 - accuracy: 0.9387 - val_loss: 0.3649 - val_accuracy: 0.9038 - lr: 0.0056\n",
      "Epoch 7/10\n",
      "652/652 [==============================] - 83s 127ms/step - loss: 0.1519 - accuracy: 0.9461 - val_loss: 0.6131 - val_accuracy: 0.8478 - lr: 0.0050\n",
      "Epoch 8/10\n",
      "652/652 [==============================] - 82s 126ms/step - loss: 0.1455 - accuracy: 0.9446 - val_loss: 0.3637 - val_accuracy: 0.8798 - lr: 0.0045\n",
      "Epoch 9/10\n",
      "652/652 [==============================] - 83s 127ms/step - loss: 0.1481 - accuracy: 0.9469 - val_loss: 0.3161 - val_accuracy: 0.8702 - lr: 0.0040\n",
      "Epoch 10/10\n",
      "652/652 [==============================] - 83s 127ms/step - loss: 0.1261 - accuracy: 0.9546 - val_loss: 0.7312 - val_accuracy: 0.8253 - lr: 0.0035\n"
     ]
    }
   ],
   "source": [
    "history = efficientnetb3_model.fit(\n",
    "    train_generator,\n",
    "    epochs=10,\n",
    "    validation_data=validation_generator,\n",
    "    callbacks=[lr_scheduler]\n",
    ")"
   ]
  },
  {
   "cell_type": "code",
   "execution_count": 8,
   "id": "07fa49e2",
   "metadata": {
    "execution": {
     "iopub.execute_input": "2023-05-02T19:09:26.219489Z",
     "iopub.status.busy": "2023-05-02T19:09:26.219141Z",
     "iopub.status.idle": "2023-05-02T19:09:27.257046Z",
     "shell.execute_reply": "2023-05-02T19:09:27.256129Z"
    },
    "papermill": {
     "duration": 1.38332,
     "end_time": "2023-05-02T19:09:27.259594",
     "exception": false,
     "start_time": "2023-05-02T19:09:25.876274",
     "status": "completed"
    },
    "tags": []
   },
   "outputs": [],
   "source": [
    "efficientnetb3_model.save(\"efficientnet_xray_Pneumonia_b1.h5\")"
   ]
  }
 ],
 "metadata": {
  "kernelspec": {
   "display_name": "Python 3",
   "language": "python",
   "name": "python3"
  },
  "language_info": {
   "codemirror_mode": {
    "name": "ipython",
    "version": 3
   },
   "file_extension": ".py",
   "mimetype": "text/x-python",
   "name": "python",
   "nbconvert_exporter": "python",
   "pygments_lexer": "ipython3",
   "version": "3.10.10"
  },
  "papermill": {
   "default_parameters": {},
   "duration": 1009.218726,
   "end_time": "2023-05-02T19:09:30.997708",
   "environment_variables": {},
   "exception": null,
   "input_path": "__notebook__.ipynb",
   "output_path": "__notebook__.ipynb",
   "parameters": {},
   "start_time": "2023-05-02T18:52:41.778982",
   "version": "2.4.0"
  }
 },
 "nbformat": 4,
 "nbformat_minor": 5
}

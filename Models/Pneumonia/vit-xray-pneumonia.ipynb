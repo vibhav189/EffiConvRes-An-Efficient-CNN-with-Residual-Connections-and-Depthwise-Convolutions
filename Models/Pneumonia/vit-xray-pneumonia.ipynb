{
 "cells": [
  {
   "cell_type": "code",
   "execution_count": 1,
   "id": "3a2c7121",
   "metadata": {
    "execution": {
     "iopub.execute_input": "2023-04-18T20:00:28.378433Z",
     "iopub.status.busy": "2023-04-18T20:00:28.377934Z",
     "iopub.status.idle": "2023-04-18T20:00:40.439648Z",
     "shell.execute_reply": "2023-04-18T20:00:40.438442Z"
    },
    "papermill": {
     "duration": 12.069988,
     "end_time": "2023-04-18T20:00:40.442475",
     "exception": false,
     "start_time": "2023-04-18T20:00:28.372487",
     "status": "completed"
    },
    "tags": []
   },
   "outputs": [
    {
     "name": "stdout",
     "output_type": "stream",
     "text": [
      "\u001b[33mWARNING: Running pip as the 'root' user can result in broken permissions and conflicting behaviour with the system package manager. It is recommended to use a virtual environment instead: https://pip.pypa.io/warnings/venv\u001b[0m\u001b[33m\r\n",
      "\u001b[0m"
     ]
    }
   ],
   "source": [
    "!pip install --quiet vit-keras"
   ]
  },
  {
   "cell_type": "code",
   "execution_count": 2,
   "id": "10becfa9",
   "metadata": {
    "_cell_guid": "b1076dfc-b9ad-4769-8c92-a6c4dae69d19",
    "_uuid": "8f2839f25d086af736a60e9eeb907d3b93b6e0e5",
    "execution": {
     "iopub.execute_input": "2023-04-18T20:00:40.449814Z",
     "iopub.status.busy": "2023-04-18T20:00:40.449498Z",
     "iopub.status.idle": "2023-04-18T20:00:48.347649Z",
     "shell.execute_reply": "2023-04-18T20:00:48.346496Z"
    },
    "papermill": {
     "duration": 7.904786,
     "end_time": "2023-04-18T20:00:48.350327",
     "exception": false,
     "start_time": "2023-04-18T20:00:40.445541",
     "status": "completed"
    },
    "tags": []
   },
   "outputs": [],
   "source": [
    "import tensorflow as tf\n",
    "from tensorflow import keras\n",
    "from tensorflow.keras import layers\n",
    "from vit_keras import vit"
   ]
  },
  {
   "cell_type": "code",
   "execution_count": 3,
   "id": "38d652b2",
   "metadata": {
    "execution": {
     "iopub.execute_input": "2023-04-18T20:00:48.358845Z",
     "iopub.status.busy": "2023-04-18T20:00:48.357439Z",
     "iopub.status.idle": "2023-04-18T20:00:48.363798Z",
     "shell.execute_reply": "2023-04-18T20:00:48.362735Z"
    },
    "papermill": {
     "duration": 0.012662,
     "end_time": "2023-04-18T20:00:48.366054",
     "exception": false,
     "start_time": "2023-04-18T20:00:48.353392",
     "status": "completed"
    },
    "tags": []
   },
   "outputs": [],
   "source": [
    "train_datagen = tf.keras.preprocessing.image.ImageDataGenerator(\n",
    "        rescale=1./255,\n",
    "        shear_range=0.2,\n",
    "        zoom_range=0.2,\n",
    "        horizontal_flip=True)\n",
    "\n",
    "test_datagen = tf.keras.preprocessing.image.ImageDataGenerator(rescale=1./255)"
   ]
  },
  {
   "cell_type": "code",
   "execution_count": 4,
   "id": "f2e7fd8f",
   "metadata": {
    "execution": {
     "iopub.execute_input": "2023-04-18T20:00:48.372838Z",
     "iopub.status.busy": "2023-04-18T20:00:48.372533Z",
     "iopub.status.idle": "2023-04-18T20:00:52.430934Z",
     "shell.execute_reply": "2023-04-18T20:00:52.429843Z"
    },
    "papermill": {
     "duration": 4.064609,
     "end_time": "2023-04-18T20:00:52.433367",
     "exception": false,
     "start_time": "2023-04-18T20:00:48.368758",
     "status": "completed"
    },
    "tags": []
   },
   "outputs": [
    {
     "name": "stdout",
     "output_type": "stream",
     "text": [
      "Found 5216 images belonging to 2 classes.\n",
      "Found 624 images belonging to 2 classes.\n"
     ]
    }
   ],
   "source": [
    "train_generator = train_datagen.flow_from_directory(\n",
    "        '/kaggle/input/chest-xray-pneumonia/chest_xray/train/',\n",
    "        target_size=(128, 128),\n",
    "        batch_size=8,\n",
    "        class_mode='binary')\n",
    "\n",
    "validation_generator = train_datagen.flow_from_directory(\n",
    "        '/kaggle/input/chest-xray-pneumonia/chest_xray/test/',\n",
    "        target_size=(128, 128),\n",
    "        batch_size=8,\n",
    "        class_mode='binary')"
   ]
  },
  {
   "cell_type": "code",
   "execution_count": 5,
   "id": "a18f68ec",
   "metadata": {
    "execution": {
     "iopub.execute_input": "2023-04-18T20:00:52.440498Z",
     "iopub.status.busy": "2023-04-18T20:00:52.440158Z",
     "iopub.status.idle": "2023-04-18T20:01:00.007420Z",
     "shell.execute_reply": "2023-04-18T20:01:00.006059Z"
    },
    "papermill": {
     "duration": 7.575012,
     "end_time": "2023-04-18T20:01:00.011380",
     "exception": false,
     "start_time": "2023-04-18T20:00:52.436368",
     "status": "completed"
    },
    "tags": []
   },
   "outputs": [],
   "source": [
    "vit_base_16 = vit.vit_b16(\n",
    "        image_size = (128,128),\n",
    "        activation = 'softmax',\n",
    "        pretrained = None,\n",
    "        include_top = False,\n",
    "        pretrained_top = False,\n",
    "        classes = 1)\n",
    "\n",
    "vit_base_16_model = tf.keras.Sequential([\n",
    "        vit_base_16,\n",
    "        tf.keras.layers.Flatten(),\n",
    "        tf.keras.layers.Dense(1, 'sigmoid')\n",
    "    ])"
   ]
  },
  {
   "cell_type": "code",
   "execution_count": 6,
   "id": "508fdd16",
   "metadata": {
    "execution": {
     "iopub.execute_input": "2023-04-18T20:01:00.022590Z",
     "iopub.status.busy": "2023-04-18T20:01:00.022100Z",
     "iopub.status.idle": "2023-04-18T20:01:00.070947Z",
     "shell.execute_reply": "2023-04-18T20:01:00.068523Z"
    },
    "papermill": {
     "duration": 0.06062,
     "end_time": "2023-04-18T20:01:00.077205",
     "exception": false,
     "start_time": "2023-04-18T20:01:00.016585",
     "status": "completed"
    },
    "tags": []
   },
   "outputs": [
    {
     "name": "stdout",
     "output_type": "stream",
     "text": [
      "Model: \"sequential\"\n",
      "_________________________________________________________________\n",
      " Layer (type)                Output Shape              Param #   \n",
      "=================================================================\n",
      " vit-b16 (Functional)        (None, 768)               85697280  \n",
      "                                                                 \n",
      " flatten (Flatten)           (None, 768)               0         \n",
      "                                                                 \n",
      " dense (Dense)               (None, 1)                 769       \n",
      "                                                                 \n",
      "=================================================================\n",
      "Total params: 85,698,049\n",
      "Trainable params: 85,698,049\n",
      "Non-trainable params: 0\n",
      "_________________________________________________________________\n"
     ]
    }
   ],
   "source": [
    "vit_base_16_model.summary()"
   ]
  },
  {
   "cell_type": "code",
   "execution_count": 7,
   "id": "ed1768e6",
   "metadata": {
    "execution": {
     "iopub.execute_input": "2023-04-18T20:01:00.090609Z",
     "iopub.status.busy": "2023-04-18T20:01:00.090270Z",
     "iopub.status.idle": "2023-04-18T20:01:00.112006Z",
     "shell.execute_reply": "2023-04-18T20:01:00.111020Z"
    },
    "papermill": {
     "duration": 0.033261,
     "end_time": "2023-04-18T20:01:00.114320",
     "exception": false,
     "start_time": "2023-04-18T20:01:00.081059",
     "status": "completed"
    },
    "tags": []
   },
   "outputs": [],
   "source": [
    "METRICS = [\n",
    "        'accuracy',\n",
    "    ]\n",
    "    \n",
    "vit_base_16_model.compile(\n",
    "        optimizer='adam',\n",
    "        loss='binary_crossentropy',\n",
    "        metrics=METRICS\n",
    "    )"
   ]
  },
  {
   "cell_type": "code",
   "execution_count": 8,
   "id": "69bb281e",
   "metadata": {
    "execution": {
     "iopub.execute_input": "2023-04-18T20:01:00.122974Z",
     "iopub.status.busy": "2023-04-18T20:01:00.122678Z",
     "iopub.status.idle": "2023-04-18T20:01:00.127961Z",
     "shell.execute_reply": "2023-04-18T20:01:00.126866Z"
    },
    "papermill": {
     "duration": 0.012142,
     "end_time": "2023-04-18T20:01:00.130129",
     "exception": false,
     "start_time": "2023-04-18T20:01:00.117987",
     "status": "completed"
    },
    "tags": []
   },
   "outputs": [],
   "source": [
    "def exponential_decay(lr0, s):\n",
    "    def exponential_decay_fn(epoch):\n",
    "        return lr0 * 0.1 **(epoch / s)\n",
    "    return exponential_decay_fn\n",
    "\n",
    "exponential_decay_fn = exponential_decay(0.01, 20)\n",
    "\n",
    "lr_scheduler = tf.keras.callbacks.LearningRateScheduler(exponential_decay_fn)"
   ]
  },
  {
   "cell_type": "code",
   "execution_count": 9,
   "id": "2c7245b5",
   "metadata": {
    "execution": {
     "iopub.execute_input": "2023-04-18T20:01:00.138276Z",
     "iopub.status.busy": "2023-04-18T20:01:00.138000Z",
     "iopub.status.idle": "2023-04-18T20:22:24.966058Z",
     "shell.execute_reply": "2023-04-18T20:22:24.965064Z"
    },
    "papermill": {
     "duration": 1284.834668,
     "end_time": "2023-04-18T20:22:24.968299",
     "exception": false,
     "start_time": "2023-04-18T20:01:00.133631",
     "status": "completed"
    },
    "tags": []
   },
   "outputs": [
    {
     "name": "stdout",
     "output_type": "stream",
     "text": [
      "Epoch 1/10\n",
      "652/652 [==============================] - 204s 240ms/step - loss: 0.6823 - accuracy: 0.7199 - val_loss: 0.6976 - val_accuracy: 0.6234 - lr: 0.0100\n",
      "Epoch 2/10\n",
      "652/652 [==============================] - 120s 184ms/step - loss: 0.5822 - accuracy: 0.7423 - val_loss: 0.6789 - val_accuracy: 0.6250 - lr: 0.0089\n",
      "Epoch 3/10\n",
      "652/652 [==============================] - 121s 185ms/step - loss: 0.5590 - accuracy: 0.7395 - val_loss: 0.6639 - val_accuracy: 0.6250 - lr: 0.0079\n",
      "Epoch 4/10\n",
      "652/652 [==============================] - 121s 185ms/step - loss: 0.5513 - accuracy: 0.7458 - val_loss: 0.7913 - val_accuracy: 0.6154 - lr: 0.0071\n",
      "Epoch 5/10\n",
      "652/652 [==============================] - 120s 184ms/step - loss: 0.5527 - accuracy: 0.7481 - val_loss: 0.6909 - val_accuracy: 0.6010 - lr: 0.0063\n",
      "Epoch 6/10\n",
      "652/652 [==============================] - 120s 184ms/step - loss: 0.5535 - accuracy: 0.7448 - val_loss: 0.7368 - val_accuracy: 0.6250 - lr: 0.0056\n",
      "Epoch 7/10\n",
      "652/652 [==============================] - 120s 185ms/step - loss: 0.5597 - accuracy: 0.7439 - val_loss: 0.6656 - val_accuracy: 0.6266 - lr: 0.0050\n",
      "Epoch 8/10\n",
      "652/652 [==============================] - 119s 183ms/step - loss: 0.5496 - accuracy: 0.7510 - val_loss: 0.6860 - val_accuracy: 0.6314 - lr: 0.0045\n",
      "Epoch 9/10\n",
      "652/652 [==============================] - 119s 183ms/step - loss: 0.5405 - accuracy: 0.7513 - val_loss: 0.7212 - val_accuracy: 0.6250 - lr: 0.0040\n",
      "Epoch 10/10\n",
      "652/652 [==============================] - 120s 184ms/step - loss: 0.5437 - accuracy: 0.7433 - val_loss: 0.6664 - val_accuracy: 0.6346 - lr: 0.0035\n"
     ]
    }
   ],
   "source": [
    "history = vit_base_16_model.fit(\n",
    "    train_generator,\n",
    "    epochs=10,\n",
    "    validation_data=validation_generator,\n",
    "    callbacks=[lr_scheduler]\n",
    ")"
   ]
  },
  {
   "cell_type": "code",
   "execution_count": 10,
   "id": "4d6b1b06",
   "metadata": {
    "execution": {
     "iopub.execute_input": "2023-04-18T20:22:25.717274Z",
     "iopub.status.busy": "2023-04-18T20:22:25.716907Z",
     "iopub.status.idle": "2023-04-18T20:22:27.780634Z",
     "shell.execute_reply": "2023-04-18T20:22:27.779629Z"
    },
    "papermill": {
     "duration": 2.416979,
     "end_time": "2023-04-18T20:22:27.783254",
     "exception": false,
     "start_time": "2023-04-18T20:22:25.366275",
     "status": "completed"
    },
    "tags": []
   },
   "outputs": [],
   "source": [
    "vit_base_16_model.save(\"ViT_xray_Pneumonia.h5\")"
   ]
  }
 ],
 "metadata": {
  "kernelspec": {
   "display_name": "Python 3",
   "language": "python",
   "name": "python3"
  },
  "language_info": {
   "codemirror_mode": {
    "name": "ipython",
    "version": 3
   },
   "file_extension": ".py",
   "mimetype": "text/x-python",
   "name": "python",
   "nbconvert_exporter": "python",
   "pygments_lexer": "ipython3",
   "version": "3.7.12"
  },
  "papermill": {
   "default_parameters": {},
   "duration": 1333.627457,
   "end_time": "2023-04-18T20:22:32.189948",
   "environment_variables": {},
   "exception": null,
   "input_path": "__notebook__.ipynb",
   "output_path": "__notebook__.ipynb",
   "parameters": {},
   "start_time": "2023-04-18T20:00:18.562491",
   "version": "2.4.0"
  }
 },
 "nbformat": 4,
 "nbformat_minor": 5
}

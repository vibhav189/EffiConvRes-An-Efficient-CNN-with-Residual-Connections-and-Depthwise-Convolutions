{
 "cells": [
  {
   "cell_type": "code",
   "execution_count": 1,
   "id": "11ee55ac",
   "metadata": {
    "execution": {
     "iopub.execute_input": "2023-04-18T19:27:22.840739Z",
     "iopub.status.busy": "2023-04-18T19:27:22.839788Z",
     "iopub.status.idle": "2023-04-18T19:27:44.517008Z",
     "shell.execute_reply": "2023-04-18T19:27:44.515789Z"
    },
    "papermill": {
     "duration": 21.686645,
     "end_time": "2023-04-18T19:27:44.520381",
     "exception": false,
     "start_time": "2023-04-18T19:27:22.833736",
     "status": "completed"
    },
    "tags": []
   },
   "outputs": [
    {
     "name": "stdout",
     "output_type": "stream",
     "text": [
      "\u001b[31mERROR: pip's dependency resolver does not currently take into account all the packages that are installed. This behaviour is the source of the following dependency conflicts.\r\n",
      "cudf 21.12.2 requires cupy-cuda115, which is not installed.\r\n",
      "tfx-bsl 1.12.0 requires google-api-python-client<2,>=1.7.11, but you have google-api-python-client 2.83.0 which is incompatible.\r\n",
      "tfx-bsl 1.12.0 requires pyarrow<7,>=6, but you have pyarrow 5.0.0 which is incompatible.\r\n",
      "tensorflow-transform 1.12.0 requires pyarrow<7,>=6, but you have pyarrow 5.0.0 which is incompatible.\r\n",
      "onnx 1.13.1 requires protobuf<4,>=3.20.2, but you have protobuf 3.19.6 which is incompatible.\r\n",
      "apache-beam 2.44.0 requires dill<0.3.2,>=0.3.1.1, but you have dill 0.3.6 which is incompatible.\u001b[0m\u001b[31m\r\n",
      "\u001b[0m\u001b[33mWARNING: Running pip as the 'root' user can result in broken permissions and conflicting behaviour with the system package manager. It is recommended to use a virtual environment instead: https://pip.pypa.io/warnings/venv\u001b[0m\u001b[33m\r\n",
      "\u001b[0m"
     ]
    }
   ],
   "source": [
    "!pip install keras_cv_attention_models -q"
   ]
  },
  {
   "cell_type": "code",
   "execution_count": 2,
   "id": "86126c04",
   "metadata": {
    "_cell_guid": "b1076dfc-b9ad-4769-8c92-a6c4dae69d19",
    "_uuid": "8f2839f25d086af736a60e9eeb907d3b93b6e0e5",
    "execution": {
     "iopub.execute_input": "2023-04-18T19:27:44.530010Z",
     "iopub.status.busy": "2023-04-18T19:27:44.529625Z",
     "iopub.status.idle": "2023-04-18T19:27:50.634049Z",
     "shell.execute_reply": "2023-04-18T19:27:50.632899Z"
    },
    "papermill": {
     "duration": 6.112453,
     "end_time": "2023-04-18T19:27:50.636945",
     "exception": false,
     "start_time": "2023-04-18T19:27:44.524492",
     "status": "completed"
    },
    "tags": []
   },
   "outputs": [],
   "source": [
    "import tensorflow as tf\n",
    "from tensorflow import keras\n",
    "from tensorflow.keras import layers\n",
    "from keras_cv_attention_models import convnext"
   ]
  },
  {
   "cell_type": "code",
   "execution_count": 3,
   "id": "72bb729b",
   "metadata": {
    "execution": {
     "iopub.execute_input": "2023-04-18T19:27:50.645154Z",
     "iopub.status.busy": "2023-04-18T19:27:50.643764Z",
     "iopub.status.idle": "2023-04-18T19:27:50.649918Z",
     "shell.execute_reply": "2023-04-18T19:27:50.648875Z"
    },
    "papermill": {
     "duration": 0.012348,
     "end_time": "2023-04-18T19:27:50.652122",
     "exception": false,
     "start_time": "2023-04-18T19:27:50.639774",
     "status": "completed"
    },
    "tags": []
   },
   "outputs": [],
   "source": [
    "train_datagen = tf.keras.preprocessing.image.ImageDataGenerator(\n",
    "        rescale=1./255,\n",
    "        shear_range=0.2,\n",
    "        zoom_range=0.2,\n",
    "        horizontal_flip=True)\n",
    "\n",
    "test_datagen = tf.keras.preprocessing.image.ImageDataGenerator(rescale=1./255)"
   ]
  },
  {
   "cell_type": "code",
   "execution_count": 4,
   "id": "9632ee67",
   "metadata": {
    "execution": {
     "iopub.execute_input": "2023-04-18T19:27:50.658691Z",
     "iopub.status.busy": "2023-04-18T19:27:50.658413Z",
     "iopub.status.idle": "2023-04-18T19:27:52.527736Z",
     "shell.execute_reply": "2023-04-18T19:27:52.526612Z"
    },
    "papermill": {
     "duration": 1.875746,
     "end_time": "2023-04-18T19:27:52.530443",
     "exception": false,
     "start_time": "2023-04-18T19:27:50.654697",
     "status": "completed"
    },
    "tags": []
   },
   "outputs": [
    {
     "name": "stdout",
     "output_type": "stream",
     "text": [
      "Found 5216 images belonging to 2 classes.\n",
      "Found 624 images belonging to 2 classes.\n"
     ]
    }
   ],
   "source": [
    "train_generator = train_datagen.flow_from_directory(\n",
    "        '/kaggle/input/chest-xray-pneumonia/chest_xray/train/',\n",
    "        target_size=(128, 128),\n",
    "        batch_size=8,\n",
    "        class_mode='binary')\n",
    "\n",
    "validation_generator = train_datagen.flow_from_directory(\n",
    "        '/kaggle/input/chest-xray-pneumonia/chest_xray/test/',\n",
    "        target_size=(128, 128),\n",
    "        batch_size=8,\n",
    "        class_mode='binary')"
   ]
  },
  {
   "cell_type": "code",
   "execution_count": 5,
   "id": "21e37f02",
   "metadata": {
    "execution": {
     "iopub.execute_input": "2023-04-18T19:27:52.537824Z",
     "iopub.status.busy": "2023-04-18T19:27:52.537216Z",
     "iopub.status.idle": "2023-04-18T19:27:58.260252Z",
     "shell.execute_reply": "2023-04-18T19:27:58.259252Z"
    },
    "papermill": {
     "duration": 5.729261,
     "end_time": "2023-04-18T19:27:58.262788",
     "exception": false,
     "start_time": "2023-04-18T19:27:52.533527",
     "status": "completed"
    },
    "tags": []
   },
   "outputs": [],
   "source": [
    "convnext_base = convnext.ConvNeXtBase(input_shape=(128, 128, 3), pretrained=None, num_classes=0)\n",
    "x = tf.keras.layers.GlobalAveragePooling2D()(convnext_base.output)\n",
    "x = tf.keras.layers.Dense(1, activation='sigmoid')(x)\n",
    "convnext_base_model = tf.keras.Model(convnext_base.input, x)"
   ]
  },
  {
   "cell_type": "code",
   "execution_count": 6,
   "id": "e2f6d345",
   "metadata": {
    "execution": {
     "iopub.execute_input": "2023-04-18T19:27:58.270393Z",
     "iopub.status.busy": "2023-04-18T19:27:58.269480Z",
     "iopub.status.idle": "2023-04-18T19:27:58.291671Z",
     "shell.execute_reply": "2023-04-18T19:27:58.290799Z"
    },
    "papermill": {
     "duration": 0.02798,
     "end_time": "2023-04-18T19:27:58.293673",
     "exception": false,
     "start_time": "2023-04-18T19:27:58.265693",
     "status": "completed"
    },
    "tags": []
   },
   "outputs": [],
   "source": [
    "METRICS = [\n",
    "        'accuracy',\n",
    "    ]\n",
    "    \n",
    "convnext_base_model.compile(\n",
    "        optimizer='adam',\n",
    "        loss='binary_crossentropy',\n",
    "        metrics=METRICS\n",
    "    )"
   ]
  },
  {
   "cell_type": "code",
   "execution_count": 7,
   "id": "7c602276",
   "metadata": {
    "execution": {
     "iopub.execute_input": "2023-04-18T19:27:58.300109Z",
     "iopub.status.busy": "2023-04-18T19:27:58.299829Z",
     "iopub.status.idle": "2023-04-18T19:27:58.305215Z",
     "shell.execute_reply": "2023-04-18T19:27:58.304206Z"
    },
    "papermill": {
     "duration": 0.01104,
     "end_time": "2023-04-18T19:27:58.307354",
     "exception": false,
     "start_time": "2023-04-18T19:27:58.296314",
     "status": "completed"
    },
    "tags": []
   },
   "outputs": [],
   "source": [
    "def exponential_decay(lr0, s):\n",
    "    def exponential_decay_fn(epoch):\n",
    "        return lr0 * 0.1 **(epoch / s)\n",
    "    return exponential_decay_fn\n",
    "\n",
    "exponential_decay_fn = exponential_decay(0.01, 20)\n",
    "\n",
    "lr_scheduler = tf.keras.callbacks.LearningRateScheduler(exponential_decay_fn)"
   ]
  },
  {
   "cell_type": "code",
   "execution_count": 8,
   "id": "12accd63",
   "metadata": {
    "execution": {
     "iopub.execute_input": "2023-04-18T19:27:58.313486Z",
     "iopub.status.busy": "2023-04-18T19:27:58.313224Z",
     "iopub.status.idle": "2023-04-18T19:52:07.741046Z",
     "shell.execute_reply": "2023-04-18T19:52:07.739946Z"
    },
    "papermill": {
     "duration": 1449.434098,
     "end_time": "2023-04-18T19:52:07.743972",
     "exception": false,
     "start_time": "2023-04-18T19:27:58.309874",
     "status": "completed"
    },
    "tags": []
   },
   "outputs": [
    {
     "name": "stdout",
     "output_type": "stream",
     "text": [
      "Epoch 1/10\n"
     ]
    },
    {
     "name": "stderr",
     "output_type": "stream",
     "text": [
      "2023-04-18 19:28:32.615727: E tensorflow/core/grappler/optimizers/meta_optimizer.cc:954] layout failed: INVALID_ARGUMENT: Size of values 0 does not match size of permutation 4 @ fanin shape inmodel/stack1_block2_drop/dropout/SelectV2-2-TransposeNHWCToNCHW-LayoutOptimizer\n"
     ]
    },
    {
     "name": "stdout",
     "output_type": "stream",
     "text": [
      "652/652 [==============================] - 224s 233ms/step - loss: 4.1606 - accuracy: 0.7078 - val_loss: 91.4135 - val_accuracy: 0.3750 - lr: 0.0100\n",
      "Epoch 2/10\n",
      "652/652 [==============================] - 130s 200ms/step - loss: 36.4077 - accuracy: 0.6215 - val_loss: 1.3506 - val_accuracy: 0.6250 - lr: 0.0089\n",
      "Epoch 3/10\n",
      "652/652 [==============================] - 131s 200ms/step - loss: 2.0274 - accuracy: 0.6265 - val_loss: 0.7110 - val_accuracy: 0.3750 - lr: 0.0079\n",
      "Epoch 4/10\n",
      "652/652 [==============================] - 131s 201ms/step - loss: 0.8523 - accuracy: 0.6446 - val_loss: 0.6681 - val_accuracy: 0.6250 - lr: 0.0071\n",
      "Epoch 5/10\n",
      "652/652 [==============================] - 131s 201ms/step - loss: 0.6840 - accuracy: 0.6869 - val_loss: 0.6622 - val_accuracy: 0.6250 - lr: 0.0063\n",
      "Epoch 6/10\n",
      "652/652 [==============================] - 132s 202ms/step - loss: 0.6419 - accuracy: 0.7063 - val_loss: 0.7963 - val_accuracy: 0.6250 - lr: 0.0056\n",
      "Epoch 7/10\n",
      "652/652 [==============================] - 131s 201ms/step - loss: 0.6220 - accuracy: 0.7103 - val_loss: 0.6686 - val_accuracy: 0.6250 - lr: 0.0050\n",
      "Epoch 8/10\n",
      "652/652 [==============================] - 132s 202ms/step - loss: 4.0605 - accuracy: 0.6842 - val_loss: 1.9809 - val_accuracy: 0.6250 - lr: 0.0045\n",
      "Epoch 9/10\n",
      "652/652 [==============================] - 131s 201ms/step - loss: 1.6227 - accuracy: 0.6407 - val_loss: 0.8084 - val_accuracy: 0.6250 - lr: 0.0040\n",
      "Epoch 10/10\n",
      "652/652 [==============================] - 133s 204ms/step - loss: 1.0966 - accuracy: 0.6633 - val_loss: 0.6616 - val_accuracy: 0.6250 - lr: 0.0035\n"
     ]
    }
   ],
   "source": [
    "history = convnext_base_model.fit(\n",
    "    train_generator,\n",
    "    epochs=10,\n",
    "    validation_data=validation_generator,\n",
    "    callbacks=[lr_scheduler]\n",
    ")"
   ]
  },
  {
   "cell_type": "code",
   "execution_count": 9,
   "id": "f796fb87",
   "metadata": {
    "execution": {
     "iopub.execute_input": "2023-04-18T19:52:08.434508Z",
     "iopub.status.busy": "2023-04-18T19:52:08.433481Z",
     "iopub.status.idle": "2023-04-18T19:52:10.911969Z",
     "shell.execute_reply": "2023-04-18T19:52:10.910945Z"
    },
    "papermill": {
     "duration": 2.824418,
     "end_time": "2023-04-18T19:52:10.915381",
     "exception": false,
     "start_time": "2023-04-18T19:52:08.090963",
     "status": "completed"
    },
    "tags": []
   },
   "outputs": [],
   "source": [
    "convnext_base_model.save(\"CovnNeXT_xray_Pneumonia.h5\")"
   ]
  }
 ],
 "metadata": {
  "kernelspec": {
   "display_name": "Python 3",
   "language": "python",
   "name": "python3"
  },
  "language_info": {
   "codemirror_mode": {
    "name": "ipython",
    "version": 3
   },
   "file_extension": ".py",
   "mimetype": "text/x-python",
   "name": "python",
   "nbconvert_exporter": "python",
   "pygments_lexer": "ipython3",
   "version": "3.7.12"
  },
  "papermill": {
   "default_parameters": {},
   "duration": 1500.653623,
   "end_time": "2023-04-18T19:52:14.104184",
   "environment_variables": {},
   "exception": null,
   "input_path": "__notebook__.ipynb",
   "output_path": "__notebook__.ipynb",
   "parameters": {},
   "start_time": "2023-04-18T19:27:13.450561",
   "version": "2.4.0"
  }
 },
 "nbformat": 4,
 "nbformat_minor": 5
}

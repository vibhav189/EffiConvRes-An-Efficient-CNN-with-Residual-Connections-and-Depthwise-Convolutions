{
 "cells": [
  {
   "cell_type": "code",
   "execution_count": 1,
   "id": "b4fb7bc6",
   "metadata": {
    "_cell_guid": "b1076dfc-b9ad-4769-8c92-a6c4dae69d19",
    "_uuid": "8f2839f25d086af736a60e9eeb907d3b93b6e0e5",
    "execution": {
     "iopub.execute_input": "2023-05-02T18:56:35.492675Z",
     "iopub.status.busy": "2023-05-02T18:56:35.492276Z",
     "iopub.status.idle": "2023-05-02T18:56:42.191398Z",
     "shell.execute_reply": "2023-05-02T18:56:42.190485Z"
    },
    "papermill": {
     "duration": 6.705188,
     "end_time": "2023-05-02T18:56:42.193718",
     "exception": false,
     "start_time": "2023-05-02T18:56:35.488530",
     "status": "completed"
    },
    "tags": []
   },
   "outputs": [
    {
     "name": "stderr",
     "output_type": "stream",
     "text": [
      "/opt/conda/lib/python3.10/site-packages/scipy/__init__.py:146: UserWarning: A NumPy version >=1.16.5 and <1.23.0 is required for this version of SciPy (detected version 1.23.5\n",
      "  warnings.warn(f\"A NumPy version >={np_minversion} and <{np_maxversion}\"\n"
     ]
    }
   ],
   "source": [
    "import tensorflow as tf\n",
    "from tensorflow import keras\n",
    "from tensorflow.keras import layers"
   ]
  },
  {
   "cell_type": "code",
   "execution_count": 2,
   "id": "04f58d3d",
   "metadata": {
    "execution": {
     "iopub.execute_input": "2023-05-02T18:56:42.200627Z",
     "iopub.status.busy": "2023-05-02T18:56:42.199485Z",
     "iopub.status.idle": "2023-05-02T18:56:42.204893Z",
     "shell.execute_reply": "2023-05-02T18:56:42.204134Z"
    },
    "papermill": {
     "duration": 0.010385,
     "end_time": "2023-05-02T18:56:42.206708",
     "exception": false,
     "start_time": "2023-05-02T18:56:42.196323",
     "status": "completed"
    },
    "tags": []
   },
   "outputs": [],
   "source": [
    "train_datagen = tf.keras.preprocessing.image.ImageDataGenerator(\n",
    "        rescale=1./255,\n",
    "        shear_range=0.2,\n",
    "        zoom_range=0.2,\n",
    "        horizontal_flip=True)\n",
    "\n",
    "test_datagen = tf.keras.preprocessing.image.ImageDataGenerator(rescale=1./255)"
   ]
  },
  {
   "cell_type": "code",
   "execution_count": 3,
   "id": "59f09504",
   "metadata": {
    "execution": {
     "iopub.execute_input": "2023-05-02T18:56:42.211929Z",
     "iopub.status.busy": "2023-05-02T18:56:42.211673Z",
     "iopub.status.idle": "2023-05-02T18:56:43.996975Z",
     "shell.execute_reply": "2023-05-02T18:56:43.996016Z"
    },
    "papermill": {
     "duration": 1.790136,
     "end_time": "2023-05-02T18:56:43.998957",
     "exception": false,
     "start_time": "2023-05-02T18:56:42.208821",
     "status": "completed"
    },
    "tags": []
   },
   "outputs": [
    {
     "name": "stdout",
     "output_type": "stream",
     "text": [
      "Found 5216 images belonging to 2 classes.\n",
      "Found 624 images belonging to 2 classes.\n"
     ]
    }
   ],
   "source": [
    "train_generator = train_datagen.flow_from_directory(\n",
    "        '/kaggle/input/chest-xray-pneumonia/chest_xray/train/',\n",
    "        target_size=(128, 128),\n",
    "        batch_size=8,\n",
    "        class_mode='binary')\n",
    "\n",
    "validation_generator = train_datagen.flow_from_directory(\n",
    "        '/kaggle/input/chest-xray-pneumonia/chest_xray/test/',\n",
    "        target_size=(128, 128),\n",
    "        batch_size=8,\n",
    "        class_mode='binary')"
   ]
  },
  {
   "cell_type": "code",
   "execution_count": 4,
   "id": "2e01e392",
   "metadata": {
    "execution": {
     "iopub.execute_input": "2023-05-02T18:56:44.005739Z",
     "iopub.status.busy": "2023-05-02T18:56:44.004829Z",
     "iopub.status.idle": "2023-05-02T18:56:47.694955Z",
     "shell.execute_reply": "2023-05-02T18:56:47.693982Z"
    },
    "papermill": {
     "duration": 3.695919,
     "end_time": "2023-05-02T18:56:47.697273",
     "exception": false,
     "start_time": "2023-05-02T18:56:44.001354",
     "status": "completed"
    },
    "tags": []
   },
   "outputs": [],
   "source": [
    "resnet101 = tf.keras.applications.resnet.ResNet50(include_top=False, weights=None,input_shape=(128, 128, 3), pooling='avg')\n",
    "x1 = tf.keras.layers.Dense(1, activation='sigmoid')(resnet101.output)\n",
    "resnet101_model = tf.keras.Model(resnet101.input, x1)"
   ]
  },
  {
   "cell_type": "code",
   "execution_count": 5,
   "id": "dba3443a",
   "metadata": {
    "execution": {
     "iopub.execute_input": "2023-05-02T18:56:47.703486Z",
     "iopub.status.busy": "2023-05-02T18:56:47.703154Z",
     "iopub.status.idle": "2023-05-02T18:56:47.721702Z",
     "shell.execute_reply": "2023-05-02T18:56:47.720872Z"
    },
    "papermill": {
     "duration": 0.023837,
     "end_time": "2023-05-02T18:56:47.723604",
     "exception": false,
     "start_time": "2023-05-02T18:56:47.699767",
     "status": "completed"
    },
    "tags": []
   },
   "outputs": [],
   "source": [
    "METRICS = [\n",
    "        'accuracy',\n",
    "    ]\n",
    "    \n",
    "resnet101_model.compile(\n",
    "        optimizer='adam',\n",
    "        loss='binary_crossentropy',\n",
    "        metrics=METRICS\n",
    "    )"
   ]
  },
  {
   "cell_type": "code",
   "execution_count": 6,
   "id": "e49d1e16",
   "metadata": {
    "execution": {
     "iopub.execute_input": "2023-05-02T18:56:47.729482Z",
     "iopub.status.busy": "2023-05-02T18:56:47.728956Z",
     "iopub.status.idle": "2023-05-02T18:56:47.733748Z",
     "shell.execute_reply": "2023-05-02T18:56:47.732787Z"
    },
    "papermill": {
     "duration": 0.009922,
     "end_time": "2023-05-02T18:56:47.735874",
     "exception": false,
     "start_time": "2023-05-02T18:56:47.725952",
     "status": "completed"
    },
    "tags": []
   },
   "outputs": [],
   "source": [
    "def exponential_decay(lr0, s):\n",
    "    def exponential_decay_fn(epoch):\n",
    "        return lr0 * 0.1 **(epoch / s)\n",
    "    return exponential_decay_fn\n",
    "\n",
    "exponential_decay_fn = exponential_decay(0.01, 20)\n",
    "\n",
    "lr_scheduler = tf.keras.callbacks.LearningRateScheduler(exponential_decay_fn)"
   ]
  },
  {
   "cell_type": "code",
   "execution_count": 7,
   "id": "b5f67e43",
   "metadata": {
    "execution": {
     "iopub.execute_input": "2023-05-02T18:56:47.741319Z",
     "iopub.status.busy": "2023-05-02T18:56:47.741033Z",
     "iopub.status.idle": "2023-05-02T19:11:21.002394Z",
     "shell.execute_reply": "2023-05-02T19:11:21.001497Z"
    },
    "papermill": {
     "duration": 873.266411,
     "end_time": "2023-05-02T19:11:21.004508",
     "exception": false,
     "start_time": "2023-05-02T18:56:47.738097",
     "status": "completed"
    },
    "tags": []
   },
   "outputs": [
    {
     "name": "stdout",
     "output_type": "stream",
     "text": [
      "Epoch 1/10\n",
      "652/652 [==============================] - 155s 181ms/step - loss: 0.7022 - accuracy: 0.7406 - val_loss: 4.4002 - val_accuracy: 0.5000 - lr: 0.0100\n",
      "Epoch 2/10\n",
      "652/652 [==============================] - 79s 121ms/step - loss: 0.3067 - accuracy: 0.8662 - val_loss: 0.3916 - val_accuracy: 0.8478 - lr: 0.0089\n",
      "Epoch 3/10\n",
      "652/652 [==============================] - 79s 121ms/step - loss: 0.2674 - accuracy: 0.8855 - val_loss: 1.9427 - val_accuracy: 0.4054 - lr: 0.0079\n",
      "Epoch 4/10\n",
      "652/652 [==============================] - 78s 120ms/step - loss: 0.2380 - accuracy: 0.9016 - val_loss: 2.6401 - val_accuracy: 0.6410 - lr: 0.0071\n",
      "Epoch 5/10\n",
      "652/652 [==============================] - 79s 121ms/step - loss: 0.2199 - accuracy: 0.9135 - val_loss: 0.5758 - val_accuracy: 0.7740 - lr: 0.0063\n",
      "Epoch 6/10\n",
      "652/652 [==============================] - 78s 120ms/step - loss: 0.2086 - accuracy: 0.9147 - val_loss: 1.4616 - val_accuracy: 0.7099 - lr: 0.0056\n",
      "Epoch 7/10\n",
      "652/652 [==============================] - 80s 122ms/step - loss: 0.1875 - accuracy: 0.9260 - val_loss: 3.8456 - val_accuracy: 0.6250 - lr: 0.0050\n",
      "Epoch 8/10\n",
      "652/652 [==============================] - 80s 123ms/step - loss: 0.1846 - accuracy: 0.9281 - val_loss: 2.6086 - val_accuracy: 0.6250 - lr: 0.0045\n",
      "Epoch 9/10\n",
      "652/652 [==============================] - 80s 122ms/step - loss: 0.1745 - accuracy: 0.9316 - val_loss: 3.5913 - val_accuracy: 0.6250 - lr: 0.0040\n",
      "Epoch 10/10\n",
      "652/652 [==============================] - 80s 122ms/step - loss: 0.1765 - accuracy: 0.9350 - val_loss: 1.1420 - val_accuracy: 0.6619 - lr: 0.0035\n"
     ]
    }
   ],
   "source": [
    "history = resnet101_model.fit(\n",
    "    train_generator,\n",
    "    epochs=10,\n",
    "    validation_data=validation_generator,\n",
    "    callbacks=[lr_scheduler]\n",
    ")"
   ]
  },
  {
   "cell_type": "code",
   "execution_count": 8,
   "id": "594f9440",
   "metadata": {
    "execution": {
     "iopub.execute_input": "2023-05-02T19:11:21.699663Z",
     "iopub.status.busy": "2023-05-02T19:11:21.699321Z",
     "iopub.status.idle": "2023-05-02T19:11:22.751826Z",
     "shell.execute_reply": "2023-05-02T19:11:22.750830Z"
    },
    "papermill": {
     "duration": 1.402196,
     "end_time": "2023-05-02T19:11:22.754400",
     "exception": false,
     "start_time": "2023-05-02T19:11:21.352204",
     "status": "completed"
    },
    "tags": []
   },
   "outputs": [],
   "source": [
    "resnet101_model.save(\"ResNet101_xray_Pneumonia_50.h5\")"
   ]
  }
 ],
 "metadata": {
  "kernelspec": {
   "display_name": "Python 3",
   "language": "python",
   "name": "python3"
  },
  "language_info": {
   "codemirror_mode": {
    "name": "ipython",
    "version": 3
   },
   "file_extension": ".py",
   "mimetype": "text/x-python",
   "name": "python",
   "nbconvert_exporter": "python",
   "pygments_lexer": "ipython3",
   "version": "3.10.10"
  },
  "papermill": {
   "default_parameters": {},
   "duration": 900.143044,
   "end_time": "2023-05-02T19:11:26.433999",
   "environment_variables": {},
   "exception": null,
   "input_path": "__notebook__.ipynb",
   "output_path": "__notebook__.ipynb",
   "parameters": {},
   "start_time": "2023-05-02T18:56:26.290955",
   "version": "2.4.0"
  }
 },
 "nbformat": 4,
 "nbformat_minor": 5
}

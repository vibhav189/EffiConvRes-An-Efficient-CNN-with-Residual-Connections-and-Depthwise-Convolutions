{
 "cells": [
  {
   "cell_type": "code",
   "execution_count": 1,
   "id": "03a3efe6",
   "metadata": {
    "_cell_guid": "b1076dfc-b9ad-4769-8c92-a6c4dae69d19",
    "_uuid": "8f2839f25d086af736a60e9eeb907d3b93b6e0e5",
    "execution": {
     "iopub.execute_input": "2023-04-18T18:46:06.544937Z",
     "iopub.status.busy": "2023-04-18T18:46:06.544112Z",
     "iopub.status.idle": "2023-04-18T18:46:12.953411Z",
     "shell.execute_reply": "2023-04-18T18:46:12.952275Z"
    },
    "papermill": {
     "duration": 6.416927,
     "end_time": "2023-04-18T18:46:12.956068",
     "exception": false,
     "start_time": "2023-04-18T18:46:06.539141",
     "status": "completed"
    },
    "tags": []
   },
   "outputs": [],
   "source": [
    "import tensorflow as tf\n",
    "from tensorflow import keras\n",
    "from tensorflow.keras import layers"
   ]
  },
  {
   "cell_type": "code",
   "execution_count": 2,
   "id": "1017b207",
   "metadata": {
    "execution": {
     "iopub.execute_input": "2023-04-18T18:46:12.964206Z",
     "iopub.status.busy": "2023-04-18T18:46:12.962166Z",
     "iopub.status.idle": "2023-04-18T18:46:12.968625Z",
     "shell.execute_reply": "2023-04-18T18:46:12.967643Z"
    },
    "papermill": {
     "duration": 0.011995,
     "end_time": "2023-04-18T18:46:12.970721",
     "exception": false,
     "start_time": "2023-04-18T18:46:12.958726",
     "status": "completed"
    },
    "tags": []
   },
   "outputs": [],
   "source": [
    "train_datagen = tf.keras.preprocessing.image.ImageDataGenerator(\n",
    "        rescale=1./255,\n",
    "        shear_range=0.2,\n",
    "        zoom_range=0.2,\n",
    "        horizontal_flip=True)\n",
    "\n",
    "test_datagen = tf.keras.preprocessing.image.ImageDataGenerator(rescale=1./255)"
   ]
  },
  {
   "cell_type": "code",
   "execution_count": 3,
   "id": "dc48c62d",
   "metadata": {
    "execution": {
     "iopub.execute_input": "2023-04-18T18:46:12.976872Z",
     "iopub.status.busy": "2023-04-18T18:46:12.975977Z",
     "iopub.status.idle": "2023-04-18T18:46:14.766172Z",
     "shell.execute_reply": "2023-04-18T18:46:14.765102Z"
    },
    "papermill": {
     "duration": 1.795882,
     "end_time": "2023-04-18T18:46:14.768794",
     "exception": false,
     "start_time": "2023-04-18T18:46:12.972912",
     "status": "completed"
    },
    "tags": []
   },
   "outputs": [
    {
     "name": "stdout",
     "output_type": "stream",
     "text": [
      "Found 5216 images belonging to 2 classes.\n",
      "Found 624 images belonging to 2 classes.\n"
     ]
    }
   ],
   "source": [
    "train_generator = train_datagen.flow_from_directory(\n",
    "        '/kaggle/input/chest-xray-pneumonia/chest_xray/train/',\n",
    "        target_size=(128, 128),\n",
    "        batch_size=8,\n",
    "        class_mode='binary')\n",
    "\n",
    "validation_generator = train_datagen.flow_from_directory(\n",
    "        '/kaggle/input/chest-xray-pneumonia/chest_xray/test/',\n",
    "        target_size=(128, 128),\n",
    "        batch_size=8,\n",
    "        class_mode='binary')"
   ]
  },
  {
   "cell_type": "code",
   "execution_count": 4,
   "id": "77324f54",
   "metadata": {
    "execution": {
     "iopub.execute_input": "2023-04-18T18:46:14.775886Z",
     "iopub.status.busy": "2023-04-18T18:46:14.775011Z",
     "iopub.status.idle": "2023-04-18T18:46:19.404056Z",
     "shell.execute_reply": "2023-04-18T18:46:19.402988Z"
    },
    "papermill": {
     "duration": 4.635367,
     "end_time": "2023-04-18T18:46:19.406824",
     "exception": false,
     "start_time": "2023-04-18T18:46:14.771457",
     "status": "completed"
    },
    "tags": []
   },
   "outputs": [],
   "source": [
    "resnet101 = tf.keras.applications.resnet.ResNet101(include_top=False, weights=None,input_shape=(128, 128, 3), pooling='avg')\n",
    "x1 = tf.keras.layers.Dense(1, activation='sigmoid')(resnet101.output)\n",
    "resnet101_model = tf.keras.Model(resnet101.input, x1)"
   ]
  },
  {
   "cell_type": "code",
   "execution_count": 5,
   "id": "7fed9239",
   "metadata": {
    "execution": {
     "iopub.execute_input": "2023-04-18T18:46:19.413870Z",
     "iopub.status.busy": "2023-04-18T18:46:19.412979Z",
     "iopub.status.idle": "2023-04-18T18:46:19.437889Z",
     "shell.execute_reply": "2023-04-18T18:46:19.436959Z"
    },
    "papermill": {
     "duration": 0.030615,
     "end_time": "2023-04-18T18:46:19.440162",
     "exception": false,
     "start_time": "2023-04-18T18:46:19.409547",
     "status": "completed"
    },
    "tags": []
   },
   "outputs": [],
   "source": [
    "METRICS = [\n",
    "        'accuracy',\n",
    "    ]\n",
    "    \n",
    "resnet101_model.compile(\n",
    "        optimizer='adam',\n",
    "        loss='binary_crossentropy',\n",
    "        metrics=METRICS\n",
    "    )"
   ]
  },
  {
   "cell_type": "code",
   "execution_count": 6,
   "id": "0af40f65",
   "metadata": {
    "execution": {
     "iopub.execute_input": "2023-04-18T18:46:19.446633Z",
     "iopub.status.busy": "2023-04-18T18:46:19.446321Z",
     "iopub.status.idle": "2023-04-18T18:46:19.452517Z",
     "shell.execute_reply": "2023-04-18T18:46:19.451658Z"
    },
    "papermill": {
     "duration": 0.011647,
     "end_time": "2023-04-18T18:46:19.454532",
     "exception": false,
     "start_time": "2023-04-18T18:46:19.442885",
     "status": "completed"
    },
    "tags": []
   },
   "outputs": [],
   "source": [
    "def exponential_decay(lr0, s):\n",
    "    def exponential_decay_fn(epoch):\n",
    "        return lr0 * 0.1 **(epoch / s)\n",
    "    return exponential_decay_fn\n",
    "\n",
    "exponential_decay_fn = exponential_decay(0.01, 20)\n",
    "\n",
    "lr_scheduler = tf.keras.callbacks.LearningRateScheduler(exponential_decay_fn)"
   ]
  },
  {
   "cell_type": "code",
   "execution_count": 7,
   "id": "d117beeb",
   "metadata": {
    "execution": {
     "iopub.execute_input": "2023-04-18T18:46:19.461094Z",
     "iopub.status.busy": "2023-04-18T18:46:19.460330Z",
     "iopub.status.idle": "2023-04-18T19:07:52.494684Z",
     "shell.execute_reply": "2023-04-18T19:07:52.493560Z"
    },
    "papermill": {
     "duration": 1293.040341,
     "end_time": "2023-04-18T19:07:52.497272",
     "exception": false,
     "start_time": "2023-04-18T18:46:19.456931",
     "status": "completed"
    },
    "tags": []
   },
   "outputs": [
    {
     "name": "stdout",
     "output_type": "stream",
     "text": [
      "Epoch 1/10\n",
      "652/652 [==============================] - 212s 217ms/step - loss: 0.6927 - accuracy: 0.7316 - val_loss: 0.6203 - val_accuracy: 0.6042 - lr: 0.0100\n",
      "Epoch 2/10\n",
      "652/652 [==============================] - 110s 168ms/step - loss: 0.3609 - accuracy: 0.8290 - val_loss: 0.9396 - val_accuracy: 0.3814 - lr: 0.0089\n",
      "Epoch 3/10\n",
      "652/652 [==============================] - 111s 170ms/step - loss: 0.3072 - accuracy: 0.8685 - val_loss: 1.2859 - val_accuracy: 0.3750 - lr: 0.0079\n",
      "Epoch 4/10\n",
      "652/652 [==============================] - 109s 167ms/step - loss: 0.2790 - accuracy: 0.8794 - val_loss: 0.8545 - val_accuracy: 0.7163 - lr: 0.0071\n",
      "Epoch 5/10\n",
      "652/652 [==============================] - 111s 170ms/step - loss: 0.2419 - accuracy: 0.9020 - val_loss: 0.6249 - val_accuracy: 0.7147 - lr: 0.0063\n",
      "Epoch 6/10\n",
      "652/652 [==============================] - 110s 168ms/step - loss: 0.2225 - accuracy: 0.9155 - val_loss: 0.5084 - val_accuracy: 0.7965 - lr: 0.0056\n",
      "Epoch 7/10\n",
      "652/652 [==============================] - 112s 171ms/step - loss: 0.2149 - accuracy: 0.9147 - val_loss: 0.5042 - val_accuracy: 0.8446 - lr: 0.0050\n",
      "Epoch 8/10\n",
      "652/652 [==============================] - 111s 171ms/step - loss: 0.2022 - accuracy: 0.9172 - val_loss: 0.6345 - val_accuracy: 0.7436 - lr: 0.0045\n",
      "Epoch 9/10\n",
      "652/652 [==============================] - 114s 174ms/step - loss: 0.1865 - accuracy: 0.9260 - val_loss: 0.7770 - val_accuracy: 0.7035 - lr: 0.0040\n",
      "Epoch 10/10\n",
      "652/652 [==============================] - 113s 173ms/step - loss: 0.1875 - accuracy: 0.9275 - val_loss: 0.5190 - val_accuracy: 0.7580 - lr: 0.0035\n"
     ]
    }
   ],
   "source": [
    "history = resnet101_model.fit(\n",
    "    train_generator,\n",
    "    epochs=10,\n",
    "    validation_data=validation_generator,\n",
    "    callbacks=[lr_scheduler]\n",
    ")"
   ]
  },
  {
   "cell_type": "code",
   "execution_count": 8,
   "id": "1e839c24",
   "metadata": {
    "execution": {
     "iopub.execute_input": "2023-04-18T19:07:53.188921Z",
     "iopub.status.busy": "2023-04-18T19:07:53.187800Z",
     "iopub.status.idle": "2023-04-18T19:07:55.133495Z",
     "shell.execute_reply": "2023-04-18T19:07:55.132229Z"
    },
    "papermill": {
     "duration": 2.295186,
     "end_time": "2023-04-18T19:07:55.136451",
     "exception": false,
     "start_time": "2023-04-18T19:07:52.841265",
     "status": "completed"
    },
    "tags": []
   },
   "outputs": [],
   "source": [
    "resnet101_model.save(\"ResNet101_xray_Pneumonia.h5\")"
   ]
  }
 ],
 "metadata": {
  "kernelspec": {
   "display_name": "Python 3",
   "language": "python",
   "name": "python3"
  },
  "language_info": {
   "codemirror_mode": {
    "name": "ipython",
    "version": 3
   },
   "file_extension": ".py",
   "mimetype": "text/x-python",
   "name": "python",
   "nbconvert_exporter": "python",
   "pygments_lexer": "ipython3",
   "version": "3.7.12"
  },
  "papermill": {
   "default_parameters": {},
   "duration": 1320.436827,
   "end_time": "2023-04-18T19:07:58.517433",
   "environment_variables": {},
   "exception": null,
   "input_path": "__notebook__.ipynb",
   "output_path": "__notebook__.ipynb",
   "parameters": {},
   "start_time": "2023-04-18T18:45:58.080606",
   "version": "2.4.0"
  }
 },
 "nbformat": 4,
 "nbformat_minor": 5
}

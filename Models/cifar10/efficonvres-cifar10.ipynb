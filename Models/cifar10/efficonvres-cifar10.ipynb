{
 "cells": [
  {
   "cell_type": "code",
   "execution_count": 1,
   "id": "77c0185c",
   "metadata": {
    "execution": {
     "iopub.execute_input": "2023-04-17T14:00:29.816674Z",
     "iopub.status.busy": "2023-04-17T14:00:29.816305Z",
     "iopub.status.idle": "2023-04-17T14:00:37.028484Z",
     "shell.execute_reply": "2023-04-17T14:00:37.027391Z"
    },
    "id": "wWIOVANVVp8t",
    "outputId": "466d70de-6635-4660-9882-58c6efc71afe",
    "papermill": {
     "duration": 7.219265,
     "end_time": "2023-04-17T14:00:37.031062",
     "exception": false,
     "start_time": "2023-04-17T14:00:29.811797",
     "status": "completed"
    },
    "tags": []
   },
   "outputs": [],
   "source": [
    "import tensorflow as tf\n",
    "import matplotlib.pyplot as plt\n",
    "from tensorflow import keras\n",
    "from tensorflow.keras import layers"
   ]
  },
  {
   "cell_type": "code",
   "execution_count": 2,
   "id": "48b30d19",
   "metadata": {
    "execution": {
     "iopub.execute_input": "2023-04-17T14:00:37.038178Z",
     "iopub.status.busy": "2023-04-17T14:00:37.036788Z",
     "iopub.status.idle": "2023-04-17T14:00:41.825529Z",
     "shell.execute_reply": "2023-04-17T14:00:41.824324Z"
    },
    "id": "av3k4UASVtNl",
    "outputId": "bb0b3851-233b-4b89-fc2d-7a2e12726ee0",
    "papermill": {
     "duration": 4.794272,
     "end_time": "2023-04-17T14:00:41.827909",
     "exception": false,
     "start_time": "2023-04-17T14:00:37.033637",
     "status": "completed"
    },
    "tags": []
   },
   "outputs": [
    {
     "name": "stdout",
     "output_type": "stream",
     "text": [
      "Downloading data from https://www.cs.toronto.edu/~kriz/cifar-10-python.tar.gz\n",
      "170498071/170498071 [==============================] - 2s 0us/step\n",
      "x_train shape: (50000, 32, 32, 3)\n",
      "y_train shape: (50000, 1)\n",
      "50000 train samples\n",
      "10000 test samples\n"
     ]
    }
   ],
   "source": [
    "batch_size = 32  # The default batch size of keras.\n",
    "num_classes = 10  # Number of class for the dataset\n",
    "epochs = 100\n",
    "\n",
    "(x_train, y_train), (x_test, y_test) = tf.keras.datasets.cifar10.load_data()\n",
    "print('x_train shape:', x_train.shape)\n",
    "print('y_train shape:', y_train.shape)\n",
    "print(x_train.shape[0], 'train samples')\n",
    "print(x_test.shape[0], 'test samples')"
   ]
  },
  {
   "cell_type": "code",
   "execution_count": 3,
   "id": "2300ddd4",
   "metadata": {
    "execution": {
     "iopub.execute_input": "2023-04-17T14:00:41.838878Z",
     "iopub.status.busy": "2023-04-17T14:00:41.838267Z",
     "iopub.status.idle": "2023-04-17T14:00:42.089493Z",
     "shell.execute_reply": "2023-04-17T14:00:42.088061Z"
    },
    "id": "a6FAoHEgV3mI",
    "papermill": {
     "duration": 0.261477,
     "end_time": "2023-04-17T14:00:42.094219",
     "exception": false,
     "start_time": "2023-04-17T14:00:41.832742",
     "status": "completed"
    },
    "tags": []
   },
   "outputs": [],
   "source": [
    "x_train = x_train.astype('float32')\n",
    "x_test = x_test.astype('float32')\n",
    "x_train /= 255\n",
    "x_test /= 255\n",
    "\n",
    "# Convert class vectors to binary class matrices. This is called one hot encoding.\n",
    "y_train = tf.keras.utils.to_categorical(y_train, num_classes)\n",
    "y_test = tf.keras.utils.to_categorical(y_test, num_classes)"
   ]
  },
  {
   "cell_type": "code",
   "execution_count": 4,
   "id": "33281dd3",
   "metadata": {
    "execution": {
     "iopub.execute_input": "2023-04-17T14:00:42.117985Z",
     "iopub.status.busy": "2023-04-17T14:00:42.117662Z",
     "iopub.status.idle": "2023-04-17T14:00:45.749658Z",
     "shell.execute_reply": "2023-04-17T14:00:45.748638Z"
    },
    "id": "HaMNWdaZV4IV",
    "papermill": {
     "duration": 3.645783,
     "end_time": "2023-04-17T14:00:45.752263",
     "exception": false,
     "start_time": "2023-04-17T14:00:42.106480",
     "status": "completed"
    },
    "tags": []
   },
   "outputs": [],
   "source": [
    "def efficonvres(projection_dim):\n",
    "\n",
    "    def apply(inputs):\n",
    "        x_input = inputs\n",
    "\n",
    "        x = layers.Conv2D(filters=projection_dim,kernel_size=3,padding=\"same\",groups=projection_dim)(x_input)\n",
    "\n",
    "        x1 = layers.DepthwiseConv2D(3, padding=\"same\", use_bias=False)(x)\n",
    "        x1 = layers.BatchNormalization(3)(x1)\n",
    "        x1 = layers.Activation(\"swish\")(x1)\n",
    "\n",
    "        x1 = layers.DepthwiseConv2D(3, padding=\"same\", use_bias=False)(x1)\n",
    "        x1 = layers.LayerNormalization(epsilon=1e-6)(x1)\n",
    "        x1 = layers.Activation(\"gelu\")(x1)\n",
    "\n",
    "        x = layers.LayerNormalization(epsilon=1e-6)(x)\n",
    "        x = layers.Dense(4 * projection_dim)(x)\n",
    "        x = layers.Activation(\"gelu\")(x)\n",
    "        x = layers.Dense(projection_dim)(x)\n",
    "\n",
    "        x = tf.keras.layers.Add()([x, x1])\n",
    "        return x\n",
    "    return apply\n",
    "\n",
    "dims = [32, 64, 128, 256]\n",
    "inputs = tf.keras.Input(shape=(32,32,3))\n",
    "x = layers.Conv2D(filters=128,kernel_size=3,padding=\"same\", activation='gelu')(inputs)\n",
    "for i in range(4):\n",
    "    x = layers.Conv2D(filters=dims[i],kernel_size=3,padding=\"same\", activation='gelu')(x)\n",
    "    x = efficonvres(dims[i])(x)\n",
    "x = layers.GlobalAveragePooling2D(name=\"avg_pool\")(x)\n",
    "output = layers.Dense(10, activation='softmax')(x)\n",
    "model = keras.Model(inputs=inputs, outputs=output)"
   ]
  },
  {
   "cell_type": "code",
   "execution_count": 5,
   "id": "f5d141c8",
   "metadata": {
    "execution": {
     "iopub.execute_input": "2023-04-17T14:00:45.763350Z",
     "iopub.status.busy": "2023-04-17T14:00:45.762905Z",
     "iopub.status.idle": "2023-04-17T14:00:45.779983Z",
     "shell.execute_reply": "2023-04-17T14:00:45.779032Z"
    },
    "id": "RJVM9UbjW0aP",
    "papermill": {
     "duration": 0.024972,
     "end_time": "2023-04-17T14:00:45.782193",
     "exception": false,
     "start_time": "2023-04-17T14:00:45.757221",
     "status": "completed"
    },
    "tags": []
   },
   "outputs": [],
   "source": [
    "opt = tf.keras.optimizers.Adam(learning_rate=1e-4)\n",
    "\n",
    "model.compile(loss='categorical_crossentropy',\n",
    "              optimizer=opt,\n",
    "              metrics=['accuracy'])"
   ]
  },
  {
   "cell_type": "code",
   "execution_count": 6,
   "id": "248de759",
   "metadata": {
    "execution": {
     "iopub.execute_input": "2023-04-17T14:00:45.793020Z",
     "iopub.status.busy": "2023-04-17T14:00:45.792209Z",
     "iopub.status.idle": "2023-04-17T16:24:04.220864Z",
     "shell.execute_reply": "2023-04-17T16:24:04.219820Z"
    },
    "id": "9-HdYOlCW8Qu",
    "outputId": "2b4132de-ae21-4d92-98fd-13c0bc3ae5ce",
    "papermill": {
     "duration": 8600.622941,
     "end_time": "2023-04-17T16:24:06.409721",
     "exception": false,
     "start_time": "2023-04-17T14:00:45.786780",
     "status": "completed"
    },
    "tags": []
   },
   "outputs": [
    {
     "name": "stdout",
     "output_type": "stream",
     "text": [
      "Epoch 1/50\n",
      "782/782 [==============================] - 196s 223ms/step - loss: 1.4196 - accuracy: 0.4800 - val_loss: 1.2363 - val_accuracy: 0.5526\n",
      "Epoch 2/50\n",
      "782/782 [==============================] - 171s 219ms/step - loss: 1.0622 - accuracy: 0.6196 - val_loss: 1.0066 - val_accuracy: 0.6367\n",
      "Epoch 3/50\n",
      "782/782 [==============================] - 171s 219ms/step - loss: 0.9022 - accuracy: 0.6785 - val_loss: 1.0931 - val_accuracy: 0.6076\n",
      "Epoch 4/50\n",
      "782/782 [==============================] - 171s 219ms/step - loss: 0.7952 - accuracy: 0.7197 - val_loss: 0.8396 - val_accuracy: 0.7040\n",
      "Epoch 5/50\n",
      "782/782 [==============================] - 171s 218ms/step - loss: 0.7102 - accuracy: 0.7496 - val_loss: 0.7629 - val_accuracy: 0.7265\n",
      "Epoch 6/50\n",
      "782/782 [==============================] - 171s 219ms/step - loss: 0.6417 - accuracy: 0.7733 - val_loss: 0.7435 - val_accuracy: 0.7421\n",
      "Epoch 7/50\n",
      "782/782 [==============================] - 171s 218ms/step - loss: 0.5792 - accuracy: 0.7968 - val_loss: 0.6937 - val_accuracy: 0.7611\n",
      "Epoch 8/50\n",
      "782/782 [==============================] - 171s 218ms/step - loss: 0.5315 - accuracy: 0.8156 - val_loss: 0.6299 - val_accuracy: 0.7835\n",
      "Epoch 9/50\n",
      "782/782 [==============================] - 171s 219ms/step - loss: 0.4827 - accuracy: 0.8319 - val_loss: 0.6542 - val_accuracy: 0.7751\n",
      "Epoch 10/50\n",
      "782/782 [==============================] - 171s 219ms/step - loss: 0.4410 - accuracy: 0.8476 - val_loss: 0.5941 - val_accuracy: 0.7992\n",
      "Epoch 11/50\n",
      "782/782 [==============================] - 171s 218ms/step - loss: 0.3960 - accuracy: 0.8631 - val_loss: 0.7144 - val_accuracy: 0.7681\n",
      "Epoch 12/50\n",
      "782/782 [==============================] - 171s 218ms/step - loss: 0.3613 - accuracy: 0.8764 - val_loss: 0.5787 - val_accuracy: 0.8096\n",
      "Epoch 13/50\n",
      "782/782 [==============================] - 171s 219ms/step - loss: 0.3264 - accuracy: 0.8870 - val_loss: 0.5724 - val_accuracy: 0.8071\n",
      "Epoch 14/50\n",
      "782/782 [==============================] - 172s 219ms/step - loss: 0.2898 - accuracy: 0.8992 - val_loss: 0.6158 - val_accuracy: 0.7959\n",
      "Epoch 15/50\n",
      "782/782 [==============================] - 173s 221ms/step - loss: 0.2574 - accuracy: 0.9099 - val_loss: 0.6104 - val_accuracy: 0.8025\n",
      "Epoch 16/50\n",
      "782/782 [==============================] - 172s 220ms/step - loss: 0.2301 - accuracy: 0.9208 - val_loss: 0.6585 - val_accuracy: 0.7994\n",
      "Epoch 17/50\n",
      "782/782 [==============================] - 173s 221ms/step - loss: 0.1997 - accuracy: 0.9292 - val_loss: 0.6641 - val_accuracy: 0.7990\n",
      "Epoch 18/50\n",
      "782/782 [==============================] - 172s 219ms/step - loss: 0.1735 - accuracy: 0.9395 - val_loss: 0.7231 - val_accuracy: 0.7953\n",
      "Epoch 19/50\n",
      "782/782 [==============================] - 171s 219ms/step - loss: 0.1466 - accuracy: 0.9502 - val_loss: 0.6532 - val_accuracy: 0.8173\n",
      "Epoch 20/50\n",
      "782/782 [==============================] - 172s 220ms/step - loss: 0.1244 - accuracy: 0.9571 - val_loss: 0.6960 - val_accuracy: 0.8205\n",
      "Epoch 21/50\n",
      "782/782 [==============================] - 172s 220ms/step - loss: 0.1122 - accuracy: 0.9610 - val_loss: 0.7456 - val_accuracy: 0.8177\n",
      "Epoch 22/50\n",
      "782/782 [==============================] - 171s 219ms/step - loss: 0.0902 - accuracy: 0.9696 - val_loss: 0.7236 - val_accuracy: 0.8138\n",
      "Epoch 23/50\n",
      "782/782 [==============================] - 171s 219ms/step - loss: 0.0851 - accuracy: 0.9713 - val_loss: 0.8085 - val_accuracy: 0.8161\n",
      "Epoch 24/50\n",
      "782/782 [==============================] - 172s 220ms/step - loss: 0.0848 - accuracy: 0.9711 - val_loss: 0.8328 - val_accuracy: 0.8045\n",
      "Epoch 25/50\n",
      "782/782 [==============================] - 172s 220ms/step - loss: 0.0645 - accuracy: 0.9788 - val_loss: 0.8469 - val_accuracy: 0.8105\n",
      "Epoch 26/50\n",
      "782/782 [==============================] - 171s 219ms/step - loss: 0.0686 - accuracy: 0.9760 - val_loss: 0.9882 - val_accuracy: 0.7982\n",
      "Epoch 27/50\n",
      "782/782 [==============================] - 172s 220ms/step - loss: 0.0517 - accuracy: 0.9829 - val_loss: 0.8786 - val_accuracy: 0.8153\n",
      "Epoch 28/50\n",
      "782/782 [==============================] - 172s 220ms/step - loss: 0.0575 - accuracy: 0.9800 - val_loss: 0.8335 - val_accuracy: 0.8149\n",
      "Epoch 29/50\n",
      "782/782 [==============================] - 172s 220ms/step - loss: 0.0503 - accuracy: 0.9834 - val_loss: 0.9713 - val_accuracy: 0.8050\n",
      "Epoch 30/50\n",
      "782/782 [==============================] - 172s 220ms/step - loss: 0.0517 - accuracy: 0.9820 - val_loss: 0.8675 - val_accuracy: 0.8158\n",
      "Epoch 31/50\n",
      "782/782 [==============================] - 171s 219ms/step - loss: 0.0396 - accuracy: 0.9870 - val_loss: 1.2317 - val_accuracy: 0.7807\n",
      "Epoch 32/50\n",
      "782/782 [==============================] - 171s 219ms/step - loss: 0.0538 - accuracy: 0.9818 - val_loss: 0.9015 - val_accuracy: 0.8139\n",
      "Epoch 33/50\n",
      "782/782 [==============================] - 171s 219ms/step - loss: 0.0336 - accuracy: 0.9890 - val_loss: 0.9829 - val_accuracy: 0.8080\n",
      "Epoch 34/50\n",
      "782/782 [==============================] - 172s 220ms/step - loss: 0.0457 - accuracy: 0.9850 - val_loss: 0.8855 - val_accuracy: 0.8189\n",
      "Epoch 35/50\n",
      "782/782 [==============================] - 171s 219ms/step - loss: 0.0377 - accuracy: 0.9870 - val_loss: 0.9003 - val_accuracy: 0.8162\n",
      "Epoch 36/50\n",
      "782/782 [==============================] - 171s 219ms/step - loss: 0.0400 - accuracy: 0.9861 - val_loss: 1.1690 - val_accuracy: 0.7957\n",
      "Epoch 37/50\n",
      "782/782 [==============================] - 171s 219ms/step - loss: 0.0391 - accuracy: 0.9869 - val_loss: 1.0491 - val_accuracy: 0.8080\n",
      "Epoch 38/50\n",
      "782/782 [==============================] - 172s 219ms/step - loss: 0.0358 - accuracy: 0.9877 - val_loss: 1.0129 - val_accuracy: 0.7967\n",
      "Epoch 39/50\n",
      "782/782 [==============================] - 172s 220ms/step - loss: 0.0313 - accuracy: 0.9895 - val_loss: 1.0072 - val_accuracy: 0.8105\n",
      "Epoch 40/50\n",
      "782/782 [==============================] - 171s 219ms/step - loss: 0.0393 - accuracy: 0.9865 - val_loss: 1.0982 - val_accuracy: 0.8023\n",
      "Epoch 41/50\n",
      "782/782 [==============================] - 171s 219ms/step - loss: 0.0335 - accuracy: 0.9888 - val_loss: 1.0232 - val_accuracy: 0.8171\n",
      "Epoch 42/50\n",
      "782/782 [==============================] - 171s 219ms/step - loss: 0.0289 - accuracy: 0.9900 - val_loss: 1.1209 - val_accuracy: 0.7994\n",
      "Epoch 43/50\n",
      "782/782 [==============================] - 172s 220ms/step - loss: 0.0293 - accuracy: 0.9895 - val_loss: 1.0215 - val_accuracy: 0.8175\n",
      "Epoch 44/50\n",
      "782/782 [==============================] - 172s 219ms/step - loss: 0.0366 - accuracy: 0.9873 - val_loss: 1.0703 - val_accuracy: 0.8149\n",
      "Epoch 45/50\n",
      "782/782 [==============================] - 172s 220ms/step - loss: 0.0175 - accuracy: 0.9943 - val_loss: 1.1336 - val_accuracy: 0.8081\n",
      "Epoch 46/50\n",
      "782/782 [==============================] - 172s 219ms/step - loss: 0.0387 - accuracy: 0.9863 - val_loss: 0.9782 - val_accuracy: 0.8281\n",
      "Epoch 47/50\n",
      "782/782 [==============================] - 172s 220ms/step - loss: 0.0239 - accuracy: 0.9919 - val_loss: 1.0298 - val_accuracy: 0.8168\n",
      "Epoch 48/50\n",
      "782/782 [==============================] - 171s 219ms/step - loss: 0.0298 - accuracy: 0.9897 - val_loss: 1.0060 - val_accuracy: 0.8112\n",
      "Epoch 49/50\n",
      "782/782 [==============================] - 171s 219ms/step - loss: 0.0244 - accuracy: 0.9921 - val_loss: 1.1346 - val_accuracy: 0.8128\n",
      "Epoch 50/50\n",
      "782/782 [==============================] - 171s 219ms/step - loss: 0.0249 - accuracy: 0.9920 - val_loss: 1.0723 - val_accuracy: 0.8205\n"
     ]
    },
    {
     "data": {
      "text/plain": [
       "<keras.callbacks.History at 0x7421a9d24ad0>"
      ]
     },
     "execution_count": 6,
     "metadata": {},
     "output_type": "execute_result"
    }
   ],
   "source": [
    "model.fit(x_train, y_train, epochs=50, batch_size=64, \n",
    "                                  validation_data=(x_test, y_test))"
   ]
  },
  {
   "cell_type": "code",
   "execution_count": 7,
   "id": "580eff9f",
   "metadata": {
    "execution": {
     "iopub.execute_input": "2023-04-17T16:24:10.813171Z",
     "iopub.status.busy": "2023-04-17T16:24:10.812277Z",
     "iopub.status.idle": "2023-04-17T16:24:11.052918Z",
     "shell.execute_reply": "2023-04-17T16:24:11.051797Z"
    },
    "papermill": {
     "duration": 2.532203,
     "end_time": "2023-04-17T16:24:11.055585",
     "exception": false,
     "start_time": "2023-04-17T16:24:08.523382",
     "status": "completed"
    },
    "tags": []
   },
   "outputs": [],
   "source": [
    "model.save(\"efficonvres_10.h5\")"
   ]
  }
 ],
 "metadata": {
  "kernelspec": {
   "display_name": "Python 3",
   "language": "python",
   "name": "python3"
  },
  "language_info": {
   "codemirror_mode": {
    "name": "ipython",
    "version": 3
   },
   "file_extension": ".py",
   "mimetype": "text/x-python",
   "name": "python",
   "nbconvert_exporter": "python",
   "pygments_lexer": "ipython3",
   "version": "3.7.12"
  },
  "papermill": {
   "default_parameters": {},
   "duration": 8636.047692,
   "end_time": "2023-04-17T16:24:16.709562",
   "environment_variables": {},
   "exception": null,
   "input_path": "__notebook__.ipynb",
   "output_path": "__notebook__.ipynb",
   "parameters": {},
   "start_time": "2023-04-17T14:00:20.661870",
   "version": "2.4.0"
  }
 },
 "nbformat": 4,
 "nbformat_minor": 5
}
